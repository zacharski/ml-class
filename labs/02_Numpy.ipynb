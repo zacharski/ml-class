{
 "cells": [
  {
   "cell_type": "markdown",
   "metadata": {
    "id": "WqIp1iiDEzod"
   },
   "source": [
    "#` Task 1: Getting started with NumPy\n",
    "\n",
    "![](https://raw.githubusercontent.com/zacharski/datamining-guide/master/labs/pics/numpy.png)\n",
    "\n",
    "## Task 1: Fundamentals\n",
    "\n",
    "Let's spend a few minutes just learning some of the fundamentals of NumPy. (pronounced as num-pie **not num-pee**) \n",
    "\n",
    "### what is NumPy\n",
    "NumPy is a Python library that support large, multi-dimensional arrays and matrices. \n",
    "\n",
    "Let's look at an example. Suppose we start with a little table:\n",
    "\n",
    "| a  | b | c  |  d | e |\n",
    "| :---: | :---: | :---: | :---: | :---: |\n",
    "| 0 | 1 | 2 | 3 | 4 |\n",
    "|10| 11| 12 | 13 | 14|\n",
    "|20| 21 | 22 | 23 | 24 |\n",
    "|30 | 31 | 32 | 33 | 34 |\n",
    "|40 |41 | 42 | 43 | 44 |\n",
    "\n",
    "and we simply want to add 10 to each cell:\n",
    "\n",
    "| a  | b | c  |  d | e |\n",
    "| :---: | :---: | :---: | :---: | :---: |\n",
    "| 10 | 11 | 12 | 13 | 14 |\n",
    "|20| 21| 22 | 23 | 24|\n",
    "|30| 31 | 32 | 33 | 34 |\n",
    "|40 | 41 | 42 | 43 | 44 |\n",
    "|50 |51 | 52 | 53 | 54 |\n",
    "\n",
    "\n",
    "\n",
    "First, let's construct it in generic Python"
   ]
  },
  {
   "cell_type": "code",
   "execution_count": null,
   "metadata": {
    "colab": {
     "base_uri": "https://localhost:8080/"
    },
    "id": "4X_KY9CaEzoe",
    "outputId": "1a135201-71e1-4919-9b4d-b624ead451f8"
   },
   "outputs": [],
   "source": [
    "a5 = [[x + y * 5 for x in range(5)] for y in range(5)]\n",
    "a5\n",
    "\n"
   ]
  },
  {
   "cell_type": "markdown",
   "metadata": {
    "id": "94i2KiF_H1gp"
   },
   "source": [
    "And suppose we have the magic function `addToA5(i)` that will add *i* to each cell in the array:\n",
    "\n",
    "```\n",
    "addToA5(10)\n",
    "A5\n",
    "```\n",
    "returns\n",
    "\n",
    "```\n",
    "[[10, 11, 12, 13, 14],\n",
    " [15, 16, 17, 18, 19],\n",
    " [20, 21, 22, 23, 24],\n",
    " [25, 26, 27, 28, 29],\n",
    " [30, 31, 32, 33, 34]]\n",
    " ```\n"
   ]
  },
  {
   "cell_type": "markdown",
   "metadata": {
    "id": "ygCpl5ohF5g-"
   },
   "source": [
    "To make things interesting, instead of a a 5 x5 array, let's make it 1,000 x 1,000 -- so 1 million cells!"
   ]
  },
  {
   "cell_type": "code",
   "execution_count": null,
   "metadata": {
    "id": "eO9-33gbF5uN"
   },
   "outputs": [],
   "source": [
    "a = [[x + y * 1000 for x in range(1000)] for y in range(1000)]\n"
   ]
  },
  {
   "cell_type": "markdown",
   "metadata": {
    "id": "d3puxQBNEzof"
   },
   "source": [
    "![](https://raw.githubusercontent.com/zacharski/datamining-guide/master/labs/pics/torchdivide.png)\n",
    "\n",
    "\n",
    "# <font color='#EE4C2C'>You Try ...</font> \n",
    "Ok, time to get coding\n",
    "\n",
    "## <font color='#EE4C2C'>1. addToArray(i)</font> \n",
    "Can you write  a function `addToArr(10)` that will add 10 to each cell in our  1000x1000 matrix."
   ]
  },
  {
   "cell_type": "code",
   "execution_count": null,
   "metadata": {
    "id": "PY6RX8WrEzof"
   },
   "outputs": [],
   "source": [
    "def addToArray(i):\n",
    "  # TO DO\n"
   ]
  },
  {
   "cell_type": "markdown",
   "metadata": {
    "id": "sOF-73z2Ezof"
   },
   "source": [
    "Let's take a look at how much time it takes to run that function:"
   ]
  },
  {
   "cell_type": "code",
   "execution_count": null,
   "metadata": {
    "colab": {
     "base_uri": "https://localhost:8080/",
     "height": 381
    },
    "id": "1Z5AjlhyEzof",
    "outputId": "3e6c83c9-ec60-4e72-a19d-7844b235c483"
   },
   "outputs": [],
   "source": [
    "%time addToArr(10)"
   ]
  },
  {
   "cell_type": "markdown",
   "metadata": {
    "id": "Cptrd_XzEzog"
   },
   "source": [
    "My results were:\n",
    "\n",
    "    CPU times: user 145 ms, sys: 0 ns, total: 145 ms\n",
    "    Wall time: 143 ms\n",
    "\n",
    "So about 1/7 of a second. \n",
    "\n",
    "![](https://raw.githubusercontent.com/zacharski/datamining-guide/master/labs/pics/numpySmall2.png)\n",
    "### Doing in using Numpy\n",
    "Now we will try the same using NumPy.\n",
    "\n",
    "\n",
    "We can construct the array using\n",
    "    \n",
    "    arr = np.arange(1000000).reshape((1000,1000))\n",
    "\n",
    "Not sure what that line does? NumPy has great online documentation. [Documentation for np.arange](https://numpy.org/doc/stable/reference/generated/numpy.arange.html) says it \"Return evenly spaced values within a given interval.\" Let's try it out:"
   ]
  },
  {
   "cell_type": "code",
   "execution_count": null,
   "metadata": {
    "colab": {
     "base_uri": "https://localhost:8080/"
    },
    "id": "l3zp6Y2dEzog",
    "outputId": "78a41ed0-d280-4aa1-8ac2-f4c8a95ef791"
   },
   "outputs": [],
   "source": [
    "import numpy as np\n",
    "np.arange(16)"
   ]
  },
  {
   "cell_type": "markdown",
   "metadata": {
    "id": "By7ufsRqEzog"
   },
   "source": [
    "So `np.arange(10)` creates a matrix of 16 sequential integers. [The documentation for reshape](https://numpy.org/doc/1.18/reference/generated/numpy.reshape.html) says, as the name suggests, \"Gives a new shape to an array without changing its data.\"  Suppose we want to reshape our 1 dimensional matrix of 16 integers to a 4x4 one. we can do:"
   ]
  },
  {
   "cell_type": "code",
   "execution_count": null,
   "metadata": {
    "colab": {
     "base_uri": "https://localhost:8080/"
    },
    "id": "fd7FF6lrEzog",
    "outputId": "0c90d14f-d5ac-49d8-b8cc-93b83e5a14a4"
   },
   "outputs": [],
   "source": [
    "np.arange(16).reshape((4,4))"
   ]
  },
  {
   "cell_type": "markdown",
   "metadata": {
    "id": "m3AeTcM4Ezog"
   },
   "source": [
    "As you can see it is pretty easy to find documentation on Numpy.\n",
    "\n",
    "Back to our example of creating a 1000x1000 matrix, we now can time how long it takes to add 10 to each cell.\n",
    "\n",
    "    %time arr = arr + 10\n",
    "    \n",
    "Let's put this all together:"
   ]
  },
  {
   "cell_type": "code",
   "execution_count": null,
   "metadata": {
    "colab": {
     "base_uri": "https://localhost:8080/"
    },
    "id": "uezL6bdwEzog",
    "outputId": "f3c29621-018a-47ec-8656-b7c3f673b955"
   },
   "outputs": [],
   "source": [
    "import numpy as np\n",
    "arr = np.arange(1000000).reshape((1000,1000))\n",
    "%time arr = arr + 10"
   ]
  },
  {
   "cell_type": "markdown",
   "metadata": {
    "id": "BDP1xbHnEzog"
   },
   "source": [
    "My results were\n",
    "\n",
    "    CPU times: user 1.26 ms, sys: 408 µs, total: 1.67 ms\n",
    "    Wall time: 1.68 ms\n",
    "\n",
    "So, depending on your computer, somewhere around 25 to 100 times faster. **That is phenomenally faster!**. \n"
   ]
  },
  {
   "cell_type": "markdown",
   "metadata": {
    "id": "Iz4-PVEFEzoh"
   },
   "source": [
    "### built in functions\n",
    "In addition to being faster, NumPy has a wide range of built in functions. So, for example, instead of you writing code to calculate the mean or sum or standard deviation of a multidimensional array you can just use numpy:"
   ]
  },
  {
   "cell_type": "code",
   "execution_count": null,
   "metadata": {
    "colab": {
     "base_uri": "https://localhost:8080/"
    },
    "id": "rS7U3aPhEzoh",
    "outputId": "9414d8e0-e368-46ff-a81c-c9bd6edb0b7a"
   },
   "outputs": [],
   "source": [
    "arr.mean()"
   ]
  },
  {
   "cell_type": "code",
   "execution_count": null,
   "metadata": {
    "colab": {
     "base_uri": "https://localhost:8080/"
    },
    "id": "X7mFmJ4REzoh",
    "outputId": "ef61fcd2-99aa-4061-fc3d-c299c485c707"
   },
   "outputs": [],
   "source": [
    "arr.sum()"
   ]
  },
  {
   "cell_type": "code",
   "execution_count": null,
   "metadata": {
    "colab": {
     "base_uri": "https://localhost:8080/"
    },
    "id": "BkqaY-9KEzoh",
    "outputId": "34c79a79-4db1-443c-934e-73f1bce01917"
   },
   "outputs": [],
   "source": [
    " arr.std()"
   ]
  },
  {
   "cell_type": "markdown",
   "metadata": {
    "id": "57UPklwXEzoh"
   },
   "source": [
    "So not only is it faster, but NumPy minimizes the code you have to write. A win, win.\n",
    "\n",
    "Let's continue with some basics."
   ]
  },
  {
   "cell_type": "markdown",
   "metadata": {
    "id": "umsiIMGdEzoh"
   },
   "source": [
    "## NumPy examined \n",
    "So NumPy is a library containing a super-fast n-dimensional array object and a load of functions that can operate on those arrays. To use NumPy, we must first load the library into our code and we do that with the statement:\n"
   ]
  },
  {
   "cell_type": "code",
   "execution_count": null,
   "metadata": {
    "id": "NZ0PuMReEzoh"
   },
   "outputs": [],
   "source": [
    " import numpy as np"
   ]
  },
  {
   "cell_type": "markdown",
   "metadata": {
    "id": "O1XeAsuNEzoh"
   },
   "source": [
    "Perhaps most of you are saying \"fine, fine, I know this already\", but let me catch others up to speed. This is just one of several ways we can load a library into Python. We could just say:"
   ]
  },
  {
   "cell_type": "code",
   "execution_count": null,
   "metadata": {
    "id": "6WZ0b-ziEzoi"
   },
   "outputs": [],
   "source": [
    " import numpy"
   ]
  },
  {
   "cell_type": "markdown",
   "metadata": {
    "id": "a7JfDLjeEzoi"
   },
   "source": [
    "and everytime we need to use one of the functions built into NumPy we would need to preface that function with `numpy` . So for example, we could create an array with\n"
   ]
  },
  {
   "cell_type": "code",
   "execution_count": null,
   "metadata": {
    "id": "oErl0l27Ezoi"
   },
   "outputs": [],
   "source": [
    "arr = numpy.array([1, 2, 3, 4, 5])"
   ]
  },
  {
   "cell_type": "markdown",
   "metadata": {
    "id": "PXiS0DQoEzoi"
   },
   "source": [
    "If we got tired of writing `numpy` in front of every function, instead of typing"
   ]
  },
  {
   "cell_type": "code",
   "execution_count": null,
   "metadata": {
    "id": "YQqpT6M7Ezoi"
   },
   "outputs": [],
   "source": [
    "import numpy"
   ]
  },
  {
   "cell_type": "markdown",
   "metadata": {
    "id": "SyjCk5JoEzoi"
   },
   "source": [
    "we could write:"
   ]
  },
  {
   "cell_type": "code",
   "execution_count": null,
   "metadata": {
    "id": "Y6C2MDGIEzoi"
   },
   "outputs": [],
   "source": [
    "from numpy import *"
   ]
  },
  {
   "cell_type": "markdown",
   "metadata": {
    "id": "s56z0_mQEzoi"
   },
   "source": [
    "(where that * means 'everything' and the whole expression means import everything from the NumPy library).  Now we can use any NumPy function without putting `numpy` in front of it:"
   ]
  },
  {
   "cell_type": "code",
   "execution_count": null,
   "metadata": {
    "id": "frR4dxZkEzoi"
   },
   "outputs": [],
   "source": [
    "arr = array([1, 2, 3, 4, 5])"
   ]
  },
  {
   "cell_type": "markdown",
   "metadata": {
    "id": "9tSQnBugEzoi"
   },
   "source": [
    "This may at first seem like a good idea, but it is considered bad form by Python developers. \n",
    "\n",
    "The solution is to use what we initially introduced:"
   ]
  },
  {
   "cell_type": "code",
   "execution_count": null,
   "metadata": {
    "id": "GYqMBrtDEzoi"
   },
   "outputs": [],
   "source": [
    " import numpy as np"
   ]
  },
  {
   "cell_type": "markdown",
   "metadata": {
    "id": "LksNM-0cEzoi"
   },
   "source": [
    "this makes `np` an alias for `numpy`. so now we would put *np* in front of numpy functions."
   ]
  },
  {
   "cell_type": "code",
   "execution_count": null,
   "metadata": {
    "id": "kBmnY2ThEzoi"
   },
   "outputs": [],
   "source": [
    " arr = np.array([1, 2, 3, 4, 5])"
   ]
  },
  {
   "cell_type": "markdown",
   "metadata": {
    "id": "MckhLtRZEzoi"
   },
   "source": [
    "Of course we could use anything as an alias for `numpy`:"
   ]
  },
  {
   "cell_type": "code",
   "execution_count": null,
   "metadata": {
    "id": "O745lABLEzoi"
   },
   "outputs": [],
   "source": [
    "import numpy as myCoolSneakers\n",
    "arr = myCoolSneakers.array([1, 2, 3, 4, 5])\n"
   ]
  },
  {
   "cell_type": "markdown",
   "metadata": {
    "id": "q59LN5V_Ezoi"
   },
   "source": [
    "But it is convention among data scientists, machine learning experts, and the cool kids to use `np`.  One big benefit of this convention is that it makes the code you write more understandable to others and vice versa (I don't need to be scouring your code to find out what `myCoolSneakers.array` does)\n",
    "\n",
    "## creating arrays\n",
    "\n",
    "An Array in NumPy is called an `ndarray` for n-dimensional array.  As we will see, they share some similarities with Python lists. We have already seen how to create one:"
   ]
  },
  {
   "cell_type": "code",
   "execution_count": null,
   "metadata": {
    "id": "Ky7GJY-sEzoi"
   },
   "outputs": [],
   "source": [
    "arr = np.array([1, 2, 3, 4, 5])"
   ]
  },
  {
   "cell_type": "markdown",
   "metadata": {
    "id": "Ig3__G2fEzoi"
   },
   "source": [
    "and to display what `arr` equals"
   ]
  },
  {
   "cell_type": "code",
   "execution_count": null,
   "metadata": {
    "id": "3DuNKiC7Ezoi",
    "outputId": "530c5bf4-2ce5-472f-ba7e-122cf2b93b86"
   },
   "outputs": [],
   "source": [
    "arr"
   ]
  },
  {
   "cell_type": "markdown",
   "metadata": {
    "id": "PDKxlPxLEzoi"
   },
   "source": [
    "This is a one dimensional array. The position of an element in the array is called the index. The first element of the array is at index 0, the next at index 1 and so on. We can get the item at a particular index by using the syntax:"
   ]
  },
  {
   "cell_type": "code",
   "execution_count": null,
   "metadata": {
    "id": "HyK5547PEzoi",
    "outputId": "dd65c087-a084-4906-acc4-d9b62cd41d67"
   },
   "outputs": [],
   "source": [
    " arr[0]"
   ]
  },
  {
   "cell_type": "code",
   "execution_count": null,
   "metadata": {
    "id": "y4CI-sRoEzoj",
    "outputId": "ad0b7345-8d11-44d4-cc39-3475fdd62187"
   },
   "outputs": [],
   "source": [
    "arr[3]"
   ]
  },
  {
   "cell_type": "markdown",
   "metadata": {
    "id": "z1yJ1ktaEzoj"
   },
   "source": [
    "We can create a 2 dimensional array that looks like\n",
    "\n",
    "      10  20  30\n",
    "      40  50  60\n",
    " \n",
    "by:\n"
   ]
  },
  {
   "cell_type": "code",
   "execution_count": null,
   "metadata": {
    "id": "u3tTM1_IEzoj"
   },
   "outputs": [],
   "source": [
    " arr = np.array([[10, 20, 30], [40, 50, 60]])"
   ]
  },
  {
   "cell_type": "markdown",
   "metadata": {
    "id": "uN9-b83pEzoj"
   },
   "source": [
    "and we can show the contents of that array just be using the name of the array, `arr`\n"
   ]
  },
  {
   "cell_type": "code",
   "execution_count": null,
   "metadata": {
    "id": "1LmJkAbQEzoj",
    "outputId": "3662cd91-07fb-4e43-aa0d-8e37a9f61440"
   },
   "outputs": [],
   "source": [
    "arr"
   ]
  },
  {
   "cell_type": "markdown",
   "metadata": {
    "id": "gjxt_bTCEzoj"
   },
   "source": [
    "We don't need to name arrays `arr`, we can name them anything we want. "
   ]
  },
  {
   "cell_type": "code",
   "execution_count": null,
   "metadata": {
    "id": "Wcr7ViBVEzoj"
   },
   "outputs": [],
   "source": [
    "ratings = np.array([[1, 2, 3], [4, 5, 6], [7, 8, 9]])"
   ]
  },
  {
   "cell_type": "code",
   "execution_count": null,
   "metadata": {
    "id": "OJIxRvLREzoj",
    "outputId": "a5f0f1fa-b209-4120-cc47-d62280d1fc04"
   },
   "outputs": [],
   "source": [
    "ratings"
   ]
  },
  {
   "cell_type": "markdown",
   "metadata": {
    "id": "sQk3PTjNEzoj"
   },
   "source": [
    "So far, we've been creating numpy arrays by using Python lists. We can make that more explicit by first creating the Python list and then using it to create the ndarray:"
   ]
  },
  {
   "cell_type": "code",
   "execution_count": null,
   "metadata": {
    "id": "f30f_r3mEzoj",
    "outputId": "8b730043-d55a-4580-9044-6548a7243949"
   },
   "outputs": [],
   "source": [
    "pythonArray = [[1, 2, 3, 4, 5], [6, 7, 8, 9, 10]]\n",
    "sweet = np.array(pythonArray)\n",
    "sweet"
   ]
  },
  {
   "cell_type": "markdown",
   "metadata": {
    "id": "lTI4O04yEzoj"
   },
   "source": [
    "We can also create an array of all zeros or all ones directly:"
   ]
  },
  {
   "cell_type": "code",
   "execution_count": null,
   "metadata": {
    "id": "DS9MGlFsEzoj",
    "outputId": "070d7f8b-b9d3-4359-89f9-b263c190700c"
   },
   "outputs": [],
   "source": [
    "np.zeros(10)"
   ]
  },
  {
   "cell_type": "code",
   "execution_count": null,
   "metadata": {
    "id": "y2rHFjAnEzoj",
    "outputId": "1cd24867-cc5f-4030-86f6-6336905770fb"
   },
   "outputs": [],
   "source": [
    "np.ones((5, 2))"
   ]
  },
  {
   "cell_type": "markdown",
   "metadata": {
    "id": "6m6aHGieEzoj"
   },
   "source": [
    "### indexing\n",
    "Indexing elements in ndarrays works pretty much the same as it does in Python. We have already seen one example, here is another example with a one dimensional array:\n"
   ]
  },
  {
   "cell_type": "code",
   "execution_count": null,
   "metadata": {
    "id": "fS2zDeIkEzoj",
    "outputId": "cc1ddbe0-1d73-4ae9-f39e-bf2c1bd03a97"
   },
   "outputs": [],
   "source": [
    "temperatures = np.array([48, 44, 37, 35, 32, 29, 33, 36, 42])\n",
    "temperatures[0]"
   ]
  },
  {
   "cell_type": "code",
   "execution_count": null,
   "metadata": {
    "id": "diBYHKV5Ezoj",
    "outputId": "23c83eec-1db7-4e1a-f25c-e7bb533475b4"
   },
   "outputs": [],
   "source": [
    "temperatures[3]"
   ]
  },
  {
   "cell_type": "markdown",
   "metadata": {
    "id": "SKG_mRmjEzoj"
   },
   "source": [
    "and a two dimensional one:"
   ]
  },
  {
   "cell_type": "code",
   "execution_count": null,
   "metadata": {
    "id": "igsNn0feEzoj",
    "outputId": "970467f6-348d-48bc-a6ae-b942e8783e61"
   },
   "outputs": [],
   "source": [
    "sample = np.array([[10, 20, 30], [40, 50, 60]])\n",
    "sample[0][1]"
   ]
  },
  {
   "cell_type": "markdown",
   "metadata": {
    "id": "msSSxHQVEzoj"
   },
   "source": [
    "For numpy ndarrays we can also use a comma to separate the indices of multi-dimensional arrays:"
   ]
  },
  {
   "cell_type": "code",
   "execution_count": null,
   "metadata": {
    "id": "SOkMiqMtEzoj",
    "outputId": "4f25cb73-c2b7-4ea2-e50a-6cf8ccec4fc9"
   },
   "outputs": [],
   "source": [
    "sample[1,2]"
   ]
  },
  {
   "cell_type": "markdown",
   "metadata": {
    "id": "zUmH0fQYEzok"
   },
   "source": [
    "And, like Python you can also get a slice of an array. First, here is the basic Python example:"
   ]
  },
  {
   "cell_type": "code",
   "execution_count": null,
   "metadata": {
    "id": "GxgSEjSREzok",
    "outputId": "463ab90a-4b0d-4d30-e488-c86cef838510"
   },
   "outputs": [],
   "source": [
    "a = [10, 20, 30, 40, 50, 60]\n",
    "b = a[1:4]\n",
    "b"
   ]
  },
  {
   "cell_type": "markdown",
   "metadata": {
    "id": "_qsZG_1kEzok"
   },
   "source": [
    "and the similar NumPy example:"
   ]
  },
  {
   "cell_type": "code",
   "execution_count": null,
   "metadata": {
    "id": "A7731YZhEzok",
    "outputId": "5ed40e37-e216-4dc1-8e98-235d2bf58ff2"
   },
   "outputs": [],
   "source": [
    "aarr = np.array(a)\n",
    "barr = aarr[1:4]\n",
    "barr"
   ]
  },
  {
   "cell_type": "markdown",
   "metadata": {
    "id": "9_6DDzmNEzok"
   },
   "source": [
    "### Something  wacky to remember\n",
    "But there is a difference between Python arrays and numpy ndarrays. If I alter the array `b` in Python, the orginal `a` array is not altered:"
   ]
  },
  {
   "cell_type": "code",
   "execution_count": null,
   "metadata": {
    "id": "GxvDBtB-Ezok"
   },
   "outputs": [],
   "source": [
    "b[1] = b[1] + 5"
   ]
  },
  {
   "cell_type": "code",
   "execution_count": null,
   "metadata": {
    "id": "r-tDVluWEzok",
    "outputId": "2454af02-3ae6-41be-e893-1e4254057270"
   },
   "outputs": [],
   "source": [
    "b"
   ]
  },
  {
   "cell_type": "code",
   "execution_count": null,
   "metadata": {
    "id": "J9xeTYc-Ezok",
    "outputId": "35531494-31a3-4ee9-d2d3-68a18009fec2"
   },
   "outputs": [],
   "source": [
    "a"
   ]
  },
  {
   "cell_type": "markdown",
   "metadata": {
    "id": "2Jz7VyKUEzok"
   },
   "source": [
    "but if we do the same in NumPy:"
   ]
  },
  {
   "cell_type": "code",
   "execution_count": null,
   "metadata": {
    "id": "Hjw08awgEzok"
   },
   "outputs": [],
   "source": [
    "barr[1] = barr[1] + 5"
   ]
  },
  {
   "cell_type": "code",
   "execution_count": null,
   "metadata": {
    "id": "1QONIcb1Ezok",
    "outputId": "f8e88647-f020-49c4-c9a7-e771b57ce0c9"
   },
   "outputs": [],
   "source": [
    "barr"
   ]
  },
  {
   "cell_type": "code",
   "execution_count": null,
   "metadata": {
    "id": "fo7NRbRjEzok",
    "outputId": "b4c4f604-28df-4658-e7dd-efd72800eac1"
   },
   "outputs": [],
   "source": [
    "aarr"
   ]
  },
  {
   "cell_type": "markdown",
   "metadata": {
    "id": "VkhfvKxaEzok"
   },
   "source": [
    "we see that the original array is altered since we modified the slice. This may seem wacky to you, or maybe it doesn't. In any case, it is something you will get used to. For now, just be aware of this. It took me awhile to stop making mistakes because of this.\n",
    "\n",
    "## Functions on arrays\n",
    "\n",
    "NumPy has a wide range of array functons. Here is just a sample.\n",
    "\n",
    "### Unary functions\n",
    "\n",
    "#### absolute value"
   ]
  },
  {
   "cell_type": "code",
   "execution_count": null,
   "metadata": {
    "id": "u87dTKk2Ezok",
    "outputId": "414e3a3b-9dbd-42bf-95cc-7a7213bb771a"
   },
   "outputs": [],
   "source": [
    "arr = np.array([-2, 12, -25, 0])\n",
    "arr2 = np.abs(arr)\n",
    "arr2"
   ]
  },
  {
   "cell_type": "code",
   "execution_count": null,
   "metadata": {
    "id": "feUIEQl6Ezok",
    "outputId": "b6324f97-7d10-4eab-c77e-d3c68e52e343"
   },
   "outputs": [],
   "source": [
    "arr = np.array([[-2, 12], [-25, 0]])\n",
    "arr2 = np.abs(arr)\n",
    "arr2               "
   ]
  },
  {
   "cell_type": "markdown",
   "metadata": {
    "id": "WpT_C-egEzok"
   },
   "source": [
    "#### square"
   ]
  },
  {
   "cell_type": "code",
   "execution_count": null,
   "metadata": {
    "id": "Iixy0JTjEzok",
    "outputId": "bba8866a-0337-412e-dcc8-f0aec768c33b"
   },
   "outputs": [],
   "source": [
    "arr = np.array([-1, 2, -3, 4])\n",
    "arr2 = np.square(arr)\n",
    "arr2"
   ]
  },
  {
   "cell_type": "markdown",
   "metadata": {
    "id": "umNpXgcbEzok"
   },
   "source": [
    "#### squareroot"
   ]
  },
  {
   "cell_type": "code",
   "execution_count": null,
   "metadata": {
    "id": "qieZmImEEzok",
    "outputId": "c7b6c229-d7d1-4597-f7ac-15a1168d467c"
   },
   "outputs": [],
   "source": [
    "arr = np.array([[4, 9], [16, 25]])\n",
    "arr2 = np.sqrt(arr)\n",
    "arr2"
   ]
  },
  {
   "cell_type": "markdown",
   "metadata": {
    "id": "RKuo98Z-Ezok"
   },
   "source": [
    "## Binary functions\n",
    "\n",
    "#### add /subtract / multiply / divide\n"
   ]
  },
  {
   "cell_type": "code",
   "execution_count": null,
   "metadata": {
    "id": "mXiQuUk-Ezok",
    "outputId": "575649a4-63f7-4df3-91b6-f924d0989e00"
   },
   "outputs": [],
   "source": [
    "arr1 = np.array([[10, 20], [30, 40]])\n",
    "arr2 = np.array([[1, 2], [3, 4]])\n",
    "np.add(arr1, arr2)"
   ]
  },
  {
   "cell_type": "code",
   "execution_count": null,
   "metadata": {
    "id": "MmoSp7LrEzol",
    "outputId": "5d9201c9-f65a-4bc9-f4f0-1af163a9a56a"
   },
   "outputs": [],
   "source": [
    "np.subtract(arr1, arr2)"
   ]
  },
  {
   "cell_type": "code",
   "execution_count": null,
   "metadata": {
    "id": "5KO88xF4Ezol",
    "outputId": "13434509-07d7-4c83-8322-cb9258ec18e3"
   },
   "outputs": [],
   "source": [
    "np.multiply(arr1, arr2)"
   ]
  },
  {
   "cell_type": "code",
   "execution_count": null,
   "metadata": {
    "id": "tmUeanf9Ezol",
    "outputId": "137dbd55-87c9-44fd-ee75-12850fa1b271"
   },
   "outputs": [],
   "source": [
    "np.divide(arr1, arr2)"
   ]
  },
  {
   "cell_type": "markdown",
   "metadata": {
    "id": "lWU0zriTEzol"
   },
   "source": [
    "#### maximum / minimum\n"
   ]
  },
  {
   "cell_type": "code",
   "execution_count": null,
   "metadata": {
    "id": "93YvULTsEzol",
    "outputId": "ad3a77fb-c391-454b-f456-671def4d2940"
   },
   "outputs": [],
   "source": [
    "arr1 = np.array([[10, 2], [3, 40]])\n",
    "arr2 = np.array([[1, 20], [30, 4]])\n",
    "np.maximum(arr1, arr2)"
   ]
  },
  {
   "cell_type": "markdown",
   "metadata": {
    "id": "1oKpR6kBEzol"
   },
   "source": [
    "#### these are just examples. There are more unary and binary functions"
   ]
  },
  {
   "cell_type": "markdown",
   "metadata": {
    "id": "CyM9uQLPEzol"
   },
   "source": [
    "## NumPy Uber\n",
    "Let us say we have Uber drivers at various intersections around Austin. We will represent that as a set of x,y coordinates.\n",
    "\n",
    " | Driver |xPos | yPos |\n",
    " | :---: | :---: | :---: |\n",
    " | Ann | 4 | 5 |\n",
    " | Clara | 6 | 6 |\n",
    " | Dora | 3 | 1 |\n",
    " | Erica | 9 | 5 |\n",
    " \n",
    " \n",
    " Now I would like to find the closest driver to a customer who is at 6, 3.\n",
    "\n",
    "\n",
    " ![](https://raw.githubusercontent.com/zacharski/datamining-guide/master/labs/pics/distance.png)\n",
    " And to further define *closest* I am going to use what is called **Manhattan Distance**. Roughly put, Manhattan distance is distance if you followed streets. Ann, for example, is two blocks West of our customer and two blocks north. So the Manhattan distance from Ann to our customer is `2+2` or `4`. \n",
    " \n",
    " First, to make things easy (and because the data in a NumPy array must be of the same type), I will represent the x and y positions in one NumPy array and the driver names in another:"
   ]
  },
  {
   "cell_type": "code",
   "execution_count": null,
   "metadata": {
    "id": "E80-y7SeEzol",
    "outputId": "6541eee0-e704-47a9-c62c-23360f8fb084"
   },
   "outputs": [],
   "source": [
    "locations = np.array([[4, 5], [6, 6], [3, 1], [9,5]])\n",
    "locations"
   ]
  },
  {
   "cell_type": "code",
   "execution_count": null,
   "metadata": {
    "id": "4lAUNQaIEzol"
   },
   "outputs": [],
   "source": [
    "drivers = np.array([\"Ann\", \"Clara\", \"Dora\", \"Erica\"])"
   ]
  },
  {
   "cell_type": "markdown",
   "metadata": {
    "id": "JwaCW-YWEzol"
   },
   "source": [
    "Our customer is at"
   ]
  },
  {
   "cell_type": "code",
   "execution_count": null,
   "metadata": {
    "id": "cWVbH5wGEzol"
   },
   "outputs": [],
   "source": [
    "cust = np.array([6, 3])"
   ]
  },
  {
   "cell_type": "markdown",
   "metadata": {
    "id": "G5eekKfBEzol"
   },
   "source": [
    "now we are going to figure out the distance between each of our drivers and the customer"
   ]
  },
  {
   "cell_type": "code",
   "execution_count": null,
   "metadata": {
    "id": "GOuEAXxuEzol",
    "outputId": "90640744-8d4b-40d4-9282-9c854fd2216f"
   },
   "outputs": [],
   "source": [
    "xydiff = locations - cust\n",
    "xydiff"
   ]
  },
  {
   "cell_type": "markdown",
   "metadata": {
    "id": "XJnva8QzEzol"
   },
   "source": [
    "NOTE: displaying the results with `xydiff` isn't a necessary step. I just like seeing intermediate results.\n",
    "\n",
    "Ok. now I am goint to sum the absolute values:"
   ]
  },
  {
   "cell_type": "code",
   "execution_count": null,
   "metadata": {
    "id": "NyzqcpU_Ezol",
    "outputId": "4d1e8d01-d9e9-4eb9-9205-054d2c935638"
   },
   "outputs": [],
   "source": [
    "distances =np.abs(xydiff).sum(axis = 1)\n",
    "distances"
   ]
  },
  {
   "cell_type": "markdown",
   "metadata": {
    "id": "OXtYEUKTEzol"
   },
   "source": [
    "So the output is the array `[4, 3, 5, 5]` which shows that Ann is 4 away from our customer; Clara is 3 away and so on.\n",
    "\n",
    "Now I am going to sort these using `argsort`:"
   ]
  },
  {
   "cell_type": "code",
   "execution_count": null,
   "metadata": {
    "id": "dDwUuh3gEzol",
    "outputId": "00334b57-3ed3-42a6-93d3-15563b65f363"
   },
   "outputs": [],
   "source": [
    "sorted = np.argsort(distances)\n",
    "sorted"
   ]
  },
  {
   "cell_type": "markdown",
   "metadata": {
    "id": "hDMgmlPjEzol"
   },
   "source": [
    "`argsort` returns an array of sorted indices. So the element at position 1 is the smallest followed by the element at position 0 and so on.\n",
    "\n",
    "Next, I am going to get the first element of that array (in this case 1) and find the name of the driver at that position in the `drivers` array"
   ]
  },
  {
   "cell_type": "code",
   "execution_count": null,
   "metadata": {
    "id": "gf87Qxt3Ezom",
    "outputId": "db8339f5-2e2f-42eb-c71f-9ff74a1add18"
   },
   "outputs": [],
   "source": [
    "drivers[sorted[0]]"
   ]
  },
  {
   "cell_type": "markdown",
   "metadata": {
    "id": "tNtIvsYzEzom"
   },
   "source": [
    "![](https://raw.githubusercontent.com/zacharski/datamining-guide/master/labs/pics/torchdivide.png)\n",
    "\n",
    "\n",
    "# <font color='#EE4C2C'>You Try ...</font> \n",
    "Ok, time to get coding\n",
    "\n",
    "## <font color='#EE4C2C'>2. a function</font> \n",
    "\n",
    "Can you put all the above in a function. that takes 3 arguments, the location array, the array containing the names of the drivers, and the array containing the location of the customer. It should return the name of the closest driver.\n"
   ]
  },
  {
   "cell_type": "code",
   "execution_count": null,
   "metadata": {
    "id": "P8-RIo0XEzom",
    "outputId": "5f253ee5-d026-46b5-80fa-eded45a64524"
   },
   "outputs": [],
   "source": [
    "def findDriver(distanceArr, driversArr, customerArr):\n",
    "   result = ''\n",
    "   ### put your code here\n",
    "   return result\n",
    "print(findDriver(locations, drivers, cust)) # this should return Clara"
   ]
  },
  {
   "cell_type": "markdown",
   "metadata": {
    "id": "cVYaKLu1Ezom"
   },
   "source": [
    "### CONGRATULATIONS\n",
    "\n",
    "Even though this is just an intro to NumPy, I am going to throw some math at you. So far we have been looking at a two dimensional example, x and y (or North-South and East-West) and our distance formula for the distance, Dist between Ann, A and Customer C is\n",
    "\n",
    "$$ DIST_{AC} = |A_x - C_x | + |A_y - C_y | $$\n",
    "\n",
    "Now I am going to warp this a bit. In this example, each driver is represented by an array (as is the customer) So, Ann is represented by `[1,2]` and the customer by `[3,4]`. So Ann's 0th element is 1 and the customer's 0th element is 3. And, sorry, computer science people start counting at 0 but math people (and all other normal people) start at 1 so we  can rewrite the above formula as:\n",
    "\n",
    "$$ DIST_{AC} = |A_0 - C_0 | + |A_1 - C_1 | $$\n",
    "\n",
    "That's the distance formula for Ann and the Customer. We can make the formula by saying the distance between any two people, let's call them *x* and *y* is\n",
    "\n",
    "\n",
    "$$ DIST_{xy} = |x_0 - y_0 | + |x_1 - y_1 | $$\n",
    "\n",
    "That is the formula for  2 dimensional Manhattan Distance. We can imagine a three dimensional case.  \n",
    "\n",
    "$$ DIST_{xy} = |x_0 - y_0 | + |x_1 - y_1 | + |x_2 - y_2 | $$\n",
    "\n",
    "and we can generalize the formula to the n-dimensional case.\n",
    " \n",
    "$$ DIST_{xy}=\\sum_{i=0}^n |x_i - y_i| $$\n",
    "\n",
    "Just in time for a five dimensional example:\n",
    "\n",
    "![](https://raw.githubusercontent.com/zacharski/datamining-guide/master/labs/pics/PyDivideTwo.png)\n",
    "\n",
    "\n",
    "\n",
    "## <font color='#EE4C2C'>3. The Amazing 5D Music example</font> \n",
    "\n",
    "![](https://raw.githubusercontent.com/zacharski/datamining-guide/master/labs/pics/artists.png)\n",
    "\n",
    "Guests went into a listening booth and rated the following tunes:\n",
    "\n",
    "* [Janelle Monae Tightrope](https://www.youtube.com/watch?v=pwnefUaKCbc)\n",
    "* [Major Lazer - Cold Water](https://www.youtube.com/watch?v=nBtDsQ4fhXY)\n",
    "* [Tim McGraw - Humble & Kind](https://www.youtube.com/watch?v=awzNHuGqoMc)\n",
    "* [Maren Morris - My Church](https://www.youtube.com/watch?v=ouWQ25O-Mcg)\n",
    "* [Hailee Steinfeld - Starving](https://www.youtube.com/watch?v=xwjwCFZpdns)\n",
    "\n",
    "\n",
    "Here are the results:\n",
    "\n",
    "| Guest  | Janelle Monae  | Major Lazer  | Tim McGraw  |  Maren Morris | Hailee Steinfeld| \n",
    "|---|---|---|---|---|---|\n",
    "|  Ann | 4  |  5 | 2  |  1 | 3 |\n",
    "| Ben  |  3 |  1 |  5 | 4  | 2|\n",
    "| Jordyn  | 5  |  5 | 2  | 2  | 3|\n",
    "|  Sam | 4 | 1 | 4 | 4 | 1|\n",
    "| Hyunseo | 1 | 1 | 5 | 4 | 1 |\n",
    "| Ahmed | 4 | 5 | 3 |  3 | 1 |\n",
    "\n",
    "So Ann, for example, really liked Major Lazer and Janelle Monae but didn't care much for Maren Morris.\n",
    "\n",
    "Let's set up a few numpy arrays.\n"
   ]
  },
  {
   "cell_type": "code",
   "execution_count": null,
   "metadata": {
    "id": "PQJ116HWEzom"
   },
   "outputs": [],
   "source": [
    "customers = np.array([[4, 5, 2, 1, 3],\n",
    "                      [3, 1, 5, 4, 2],\n",
    "                      [5, 5, 2, 2, 3],\n",
    "                      [4, 1, 4, 4, 1], \n",
    "                      [1, 1, 5, 4, 1],\n",
    "                      [4, 5, 3, 3, 1]])\n",
    "\n",
    "customerNames = np.array([\"Ann\", \"Ben\", 'Jordyn', \"Sam\", \"Hyunseo\", \"Ahmed\"])\n",
    "\n"
   ]
  },
  {
   "cell_type": "markdown",
   "metadata": {
    "id": "w1TukNeeEzom"
   },
   "source": [
    "Now let's set up a few new customers:"
   ]
  },
  {
   "cell_type": "code",
   "execution_count": null,
   "metadata": {
    "id": "8To125u7Ezom"
   },
   "outputs": [],
   "source": [
    "mikaela = np.array([3, 2, 4, 5, 4])\n",
    "brandon = np.array([4, 5, 1, 2, 3])"
   ]
  },
  {
   "cell_type": "markdown",
   "metadata": {
    "id": "0g44IoKOEzom"
   },
   "source": [
    "Now we would like to determine  which of our current customers is closest to Mikaela and which to Brandon.\n",
    "\n",
    "\n",
    "### Work to be done ...\n",
    "Can you write a function findClosest that takes 3 arguments: customers, customerNames, and an array representing one customer's ratings and returns the name of the closest customer?\n",
    "\n",
    "Let's break this down a bit.\n",
    "\n",
    "1. Which line in the NumPy Uber section above will create a new array which is the result of subtracting the Mikaela array from each row of the customers array resulting in\n",
    "\n",
    "```\n",
    "array([[ 1,  3, -2, -4, -1],\n",
    "       [ 0, -1,  1, -1, -2],\n",
    "       [ 2,  3, -2, -3, -1],\n",
    "       [ 1, -1,  0, -1, -3],\n",
    "       [-2, -1,  1, -1, -3],\n",
    "       [ 1,  3, -1, -2, -3]])\n",
    "       ```\n"
   ]
  },
  {
   "cell_type": "code",
   "execution_count": null,
   "metadata": {
    "id": "FJeaxo5wEzom",
    "outputId": "1d83bf0d-8ce8-4e8c-9ae9-612964f99487"
   },
   "outputs": [],
   "source": [
    "# TODO\n"
   ]
  },
  {
   "cell_type": "markdown",
   "metadata": {
    "id": "YjkM1gUFEzom"
   },
   "source": [
    "2. Which line above will take the array you created and generate a single integer distance for each row representing how far away that row is from Mikaela?  The results will look like:\n",
    "\n",
    "```\n",
    "    array([11,  5, 11,  6,  8, 10])\n",
    "```"
   ]
  },
  {
   "cell_type": "code",
   "execution_count": null,
   "metadata": {
    "id": "5TsRe16eEzom",
    "outputId": "1d8a2d4c-8b5a-4805-9aeb-40ea1d2c6ab9"
   },
   "outputs": [],
   "source": [
    "# TO DO \n"
   ]
  },
  {
   "cell_type": "markdown",
   "metadata": {
    "id": "tKabiJtMEzom"
   },
   "source": [
    "Finally, we want a sorted array of indices, the zeroth element of that array will be the closest row to Mikaela, the next element will be the next closest and so on. The result should be\n",
    "\n",
    "```\n",
    "array([1, 3, 4, 5, 0, 2])\n",
    "```\n"
   ]
  },
  {
   "cell_type": "code",
   "execution_count": null,
   "metadata": {
    "id": "8wrA4f3aEzom",
    "outputId": "5603c893-5de2-41d5-88a7-4c3bb9421e74"
   },
   "outputs": [],
   "source": [
    "# TO DO\n"
   ]
  },
  {
   "cell_type": "markdown",
   "metadata": {
    "id": "HNTQ0Q45Ezom"
   },
   "source": [
    "Finally we need the name of the person that is the closest. "
   ]
  },
  {
   "cell_type": "code",
   "execution_count": null,
   "metadata": {
    "id": "MsHOrvoDEzom"
   },
   "outputs": [],
   "source": [
    "# TO DO"
   ]
  },
  {
   "cell_type": "markdown",
   "metadata": {
    "id": "xGgll_0qEzom"
   },
   "source": [
    "Okay, time to put it all together. Can you combine all the code you wrote above to finish the following function? So x is the new person and we want to find the closest customer to x."
   ]
  },
  {
   "cell_type": "code",
   "execution_count": null,
   "metadata": {
    "id": "rk6bFcJHEzom",
    "outputId": "3d671275-2adc-43e7-acd1-9ab53edabd6c"
   },
   "outputs": [],
   "source": [
    "def findClosest(customers, customerNames, x):\n",
    "   # TO DO\n",
    "   return ''\n",
    "\n",
    "\n",
    "print(findClosest(customers, customerNames, mikaela)) # Should print Ben\n",
    "print(findClosest(customers, customerNames, brandon)) # Should print Ann"
   ]
  },
  {
   "cell_type": "markdown",
   "metadata": {
    "id": "feWzi-fVEzon"
   },
   "source": [
    "![](https://raw.githubusercontent.com/zacharski/datamining-guide/master/labs/pics/PyDivideTwo.png)\n",
    "## <font color='#EE4C2C'>4. Numpy drones</font> \n",
    "\n",
    "![](https://raw.githubusercontent.com/zacharski/datamining-guide/master/labs/pics/drone2.png)\n",
    "\n",
    "We are going to start with the same array we did way up above:\n",
    "\n",
    " \n",
    " | Drone |xPos | yPos |\n",
    " | :---: | :---: | :---: |\n",
    " | wing_1a | 4 | 5 |\n",
    " | wing_2a | 6 | 6 |\n",
    " | wing_3a | 3 | 1 |\n",
    " | wing_4a | 9 | 5 |\n",
    " \n",
    " But this time, instead of Uber drivers, think of these as positions of [Alphabet's Wing delivery drones](https://wing.com/). \n",
    " Now we would like to find the closest drone to a customer who is at 7, 1.\n",
    " \n",
    "With the previous example we used Manhattan Distance.  With drones, we can compute the distance as the crow flies -- or Euclidean Distance.  We probably learned how to do this way back in 7th grade when we learned the Pythagorean Theorem which states:\n",
    "\n",
    "$$c^2 = a^2 + b^2$$\n",
    "\n",
    "Where *c* is the hypotenuse and *a* and *b* are the two other sides. So, if we want to find *c*:\n",
    "\n",
    "$$c = \\sqrt{a^2 + b^2}$$\n",
    "\n",
    "\n",
    "If we want to find the distance between the drone and a customer, *x* and *y* in the formula becomes\n",
    "\n",
    "$$Dist_{xy} = \\sqrt{(x_1-y_1)^2 + (x_2-y_2)^2}$$\n",
    "\n",
    "and for `wing_1a` who is at `[4,5]` and our customer who is at `[7,1]` then the formula becomes:\n",
    "\n",
    "$$Dist_{xy} = \\sqrt{(x_1-y_1)^2 + (x_2-y_2)^2} = \\sqrt{(4-7)^2 + (5-1)^2} =\\sqrt{-3^2 + 4^2}  = \\sqrt{9 + 16} = \\sqrt{25} = 5$$\n",
    "\n",
    "Sweet!  And to generalize this distance formula:\n",
    "\n",
    "$$Dist_{xy} = \\sqrt{(x_1-y_1)^2 + (x_2-y_2)^2}$$\n",
    "\n",
    "to n-dimensions:\n",
    "\n",
    "$$Dist_{xy} = \\sum_{i=1}^n{\\sqrt{(x_i-y_i)^2}}$$\n",
    "\n",
    "\n",
    "\n",
    "\n",
    "\n",
    "Can you write a function euclidean that takes 3 arguments: droneLocation, droneNames, and an array representing one customer's position and returns the name of the closest drone?\n",
    "\n",
    "First, a helpful hint:\n"
   ]
  },
  {
   "cell_type": "code",
   "execution_count": null,
   "metadata": {
    "id": "uVVU0kiLEzon",
    "outputId": "94b23ab5-8f3e-4507-fa4a-90685228aec4"
   },
   "outputs": [],
   "source": [
    "arr = np.array([-1, 2, -3, 4])\n",
    "arr2 = np.square(arr)\n",
    "arr2"
   ]
  },
  {
   "cell_type": "code",
   "execution_count": null,
   "metadata": {
    "id": "-jL8MiMeEzon",
    "outputId": "b73fa38c-761c-43c2-8f01-d2defbaa999a"
   },
   "outputs": [],
   "source": [
    "locations = np.array([[4, 5], [6, 6], [3, 1], [9,5]])\n",
    "drones = np.array([\"wing_1a\", \"wing_2a\", \"wing_3a\", \"wing_4a\"])\n",
    "cust = np.array([6, 3])\n",
    "\n",
    "def euclidean(droneLocation, droneNames, x):\n",
    "   result = ''\n",
    "   ### your code here   \n",
    "   return result\n",
    "euclidean(locations, drones, cust) "
   ]
  },
  {
   "cell_type": "code",
   "execution_count": null,
   "metadata": {
    "id": "PUgvcOweEzon"
   },
   "outputs": [],
   "source": [
    "#TBD"
   ]
  }
 ],
 "metadata": {
  "anaconda-cloud": {},
  "colab": {
   "name": "Copy of numpy.ipynb",
   "provenance": []
  },
  "kernelspec": {
   "display_name": "Python 3 (ipykernel)",
   "language": "python",
   "name": "python3"
  },
  "language_info": {
   "codemirror_mode": {
    "name": "ipython",
    "version": 3
   },
   "file_extension": ".py",
   "mimetype": "text/x-python",
   "name": "python",
   "nbconvert_exporter": "python",
   "pygments_lexer": "ipython3",
   "version": "3.9.12"
  }
 },
 "nbformat": 4,
 "nbformat_minor": 1
}
