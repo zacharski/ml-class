{
 "cells": [
  {
   "cell_type": "markdown",
   "metadata": {
    "id": "ZnUQs11DflMR"
   },
   "source": [
    "# A quickstart introduction\n",
    "\n",
    "## An example ...\n",
    "As part of a [conservation effort](http://burrowingowlconservation.org/sightings/), Ann would like to report sightings of Burrowing Owls as she is hiking. Unfortunately, Ann doesn't know what a Burrowing Owl looks like so she goes to the web to look at pictures. What she has then, is a set of images that are labeled. By examining these labeled images she is **training** herself to recognize Burrowing Owls. \n",
    "\n",
    "![](https://raw.githubusercontent.com/zacharski/datamining-guide/master/labs/pics/owls2.png)\n",
    "\n",
    "\n",
    "More generally, we can call this set of labeled images used for training, the **labeled training dataset**. Let's dive into this idea of a labeled training dataset a bit more. Suppose Clara is given the task of distinguishing between pictures of telecaster style guitars and stratocaster. But not to worry, because her boss has given her thousands of pictures of guitars. When looking at a picture, the only thing Clara knows is that it is of either a stratocaster or a telecaster. For example, here are some pictures of stratocasters and telecasters. \n",
    "\n",
    "![](https://raw.githubusercontent.com/zacharski/datamining-guide/master/labs/pics/guitars2.png)\n",
    "\n",
    "\n",
    "Again, when looking at a picture all she knows is that it is a picture of a stratocaster or telecaster but she doesn't know which of the two it is. How long will it take for Clara to learn how to distinguish between these two guitar styles? Would the time be significantly shorter if her boss gave her 10,000 pictures or 100,000? If this is all the information she gets, she will never learn. What she needs is a **labeled** dataset. When presented with a picture she needs to know whether it is a picture of a stratocaster or a telecaster. \n",
    "\n",
    "\n",
    "**Now back to Ann learning to recognize Burrowing Owls**\n",
    "\n",
    "When Ann is learning to recognize Burrowing Owls from her labeled training set, she is developing a model of what features make it a Burrowing Owl. Once she is done learning she can be on a hike, see an animal, and classify it as a Burrowing Owl or something else. This is an **inference** process---based on the evidence of different features of the animal she can infer what it is. And to throw more jargon at you, this type of problem is called a **classification problem**. In classification problems the system is given the features of an object and it needs to classify that object. For example,\n",
    "\n",
    "* The features might be the words of a Twitter post (i.e., *Everything Everywhere All At Once was a f-ing masterpiece. I can't emphasize how great this movie is, it's just that great.*) and based on those features the system classifies the post as positve, negative, or neutral.\n",
    "* The features might be the pixels of an image and based on those pixels the system classifies the image into one of 1,000 categories (it's an image of an owl, a bicycle).\n",
    "\n",
    "\n",
    "\n",
    "## machine learning\n",
    "In machine learning, classification systems have a similar two step process. First is the training phase where the system uses a labeled training dataset to build a model. (We will learn about the architecture of these models and how they learn a bit later.) \n",
    "\n",
    "![](https://raw.githubusercontent.com/zacharski/datamining-guide/master/labs/pics/quickDiagram2.png)\n",
    "\n",
    "\n",
    "\n",
    "> **Supervised vs. Unsupervised learning**. When a machine learning system trains on labeled data this is called supervised learning. When a system learns with unlabeled data this is called unsupervised learning. A very common example of unsupervised learning is clustering where we might give our system a million unlabeled pictures and ask it to divide the images into 10 groups. \n",
    "\n",
    "Once we have a trained model, we can use that model for inference---we can give it pictures and the system can classify them as burrowing owl or something else. Again, the two phases are:\n",
    "\n",
    "1. training\n",
    "2. inference\n",
    "\n",
    "In this introduction we are going to ignore the training phase and learn a bit about inference. To do that we are going to use a pre-trained model. What *pre-trained model* simply means is that someone else designed the architecture of the model and trained it. \n",
    "\n",
    "### AlexNet\n",
    "\n",
    "The pretrained model we will use is AlexNet. AlexNet was designed by Alex Krishevsky, Ilya Sutskever, and Geoffrey Hinton. In 2012, AlexNet won a competition where the competing systems had to classify images into one of 1,000 categories. AlexNet had a 15% error rate and the error rate of the second place winner was over 25%. Since then there are dozens of systems that perform better, but we will use AlexNet because of its historic significance. The pretrained AlexNet was trained on a labeled training dataset of over one million images.\n",
    "\n",
    "## Let's get started\n",
    "\n",
    "#### First, a note ...\n",
    "The intent of this notebook is for you to learn a little bit about data mining and have a bit of fun. The idea is not for you to understand every line of code. That will come later.\n",
    "\n",
    "**Note:**\n",
    "\n",
    "**First let's set the runtime to GPU (Graphics Processing Unit) -- click on 'runtime' in the menu above, select 'Change runtime type' and pick 'GPU'.**\n",
    "\n",
    "Let's check to see if we set the runtime to GPU:"
   ]
  },
  {
   "cell_type": "code",
   "execution_count": null,
   "metadata": {
    "colab": {
     "base_uri": "https://localhost:8080/"
    },
    "id": "7xh0M2g6Tl6C",
    "outputId": "dbd0a5ec-be33-43d7-c86b-e30e3ff9331a"
   },
   "outputs": [],
   "source": [
    "!nvidia-smi"
   ]
  },
  {
   "cell_type": "markdown",
   "metadata": {
    "id": "DXl7t6HpT2jk"
   },
   "source": [
    "You should see something like:\n",
    "\n",
    "```\n",
    "+-----------------------------------------------------------------------------+\n",
    "| NVIDIA-SMI 460.32.03    Driver Version: 460.32.03    CUDA Version: 11.2     |\n",
    "|-------------------------------+----------------------+----------------------+\n",
    "| GPU  Name        Persistence-M| Bus-Id        Disp.A | Volatile Uncorr. ECC |\n",
    "| Fan  Temp  Perf  Pwr:Usage/Cap|         Memory-Usage | GPU-Util  Compute M. |\n",
    "|                               |                      |               MIG M. |\n",
    "|===============================+======================+======================|\n",
    "|   0  Tesla T4            Off  | 00000000:00:04.0 Off |                    0 |\n",
    "| N/A   64C    P8    10W /  70W |      0MiB / 15109MiB |      0%      Default |\n",
    "|                               |                      |                  N/A |\n",
    "+-------------------------------+----------------------+----------------------+\n",
    "                                                                               \n",
    "+-----------------------------------------------------------------------------+\n",
    "| Processes:                                                                  |\n",
    "|  GPU   GI   CI        PID   Type   Process name                  GPU Memory |\n",
    "|        ID   ID                                                   Usage      |\n",
    "|=============================================================================|\n",
    "|  No running processes found                                                 |\n",
    "+-----------------------------------------------------------------------------+\n",
    "```\n",
    "\n",
    "Showing, for example, that we are using a Tesla T4 GPU\n",
    "\n",
    "Now we will set up a variable to allow us to use the GPU."
   ]
  },
  {
   "cell_type": "code",
   "execution_count": 1,
   "metadata": {
    "colab": {
     "base_uri": "https://localhost:8080/",
     "height": 35
    },
    "id": "4NoR3PrrVdBD",
    "outputId": "48e1911f-2c57-4ab0-edcc-a27c81a321f2"
   },
   "outputs": [
    {
     "data": {
      "text/plain": [
       "'cpu'"
      ]
     },
     "execution_count": 1,
     "metadata": {},
     "output_type": "execute_result"
    }
   ],
   "source": [
    "import torch\n",
    "if torch.cuda.is_available():  \n",
    "  dev = \"cuda:0\" \n",
    "else:  \n",
    "  dev = \"cpu\"  \n",
    "device = torch.device(dev) \n",
    "dev"
   ]
  },
  {
   "cell_type": "markdown",
   "metadata": {
    "id": "VbSyRnWYflMY"
   },
   "source": [
    "### 1. Install Pytorch Lightning.\n",
    "First, let's install the Pytorch Lightning library on our virtual machine"
   ]
  },
  {
   "cell_type": "code",
   "execution_count": null,
   "metadata": {
    "colab": {
     "base_uri": "https://localhost:8080/"
    },
    "id": "pm_bhhMjflMY",
    "outputId": "c6cc87f3-87c6-4585-8b7c-b9789d7beddc",
    "scrolled": true
   },
   "outputs": [],
   "source": [
    "!pip install pytorch-lightning\n"
   ]
  },
  {
   "cell_type": "markdown",
   "metadata": {
    "id": "e7vaBQx2flMa"
   },
   "source": [
    "The exclamation point (aka *bang*) at the beginning of the line instructs the system to interpret the rest of the line as a Unix command (something you might type in a Unix terminal).\n",
    "\n",
    "For example\n",
    "\n",
    "```!ls```\n",
    "\n",
    "will list the contents of the current directory\n",
    "\n",
    "`pip` is the **p**ackage **i**nstaller for **P**ython. As the name suggests, it install Python libraries (packages) that are not already present in the system. In this case,\n",
    "\n",
    "In the case above, we are installing the `pytorch-lightning` library.\n",
    "\n",
    "\n",
    "### 2. Import the computer vision library\n"
   ]
  },
  {
   "cell_type": "code",
   "execution_count": null,
   "metadata": {
    "id": "jpMG96oTflMb"
   },
   "outputs": [],
   "source": [
    "from torchvision import models\n",
    "import torch"
   ]
  },
  {
   "cell_type": "markdown",
   "metadata": {
    "id": "vpQo-Pb6flMb"
   },
   "source": [
    "Without the bang Jupyter interprets code lines in this notebook as a Python commands which\n",
    "\n",
    "```from torchvision import models``` is.\n",
    "\n",
    "`torchvision` is a library containing models and other components for computer vision. `torch` is the basic PyTorch deep learning library.\n",
    "\n",
    "There are many pretrained models available to use. Let's take a look at the possibilities:"
   ]
  },
  {
   "cell_type": "code",
   "execution_count": null,
   "metadata": {
    "id": "uNY3j0YqflMb"
   },
   "outputs": [],
   "source": [
    "dir(models)"
   ]
  },
  {
   "cell_type": "markdown",
   "metadata": {
    "id": "T0IyX-BiflMc"
   },
   "source": [
    "That is a lot of pretrained models we can use!\n",
    "\n",
    "### 3. Load  the pretrained AlexNet model."
   ]
  },
  {
   "cell_type": "code",
   "execution_count": null,
   "metadata": {
    "colab": {
     "base_uri": "https://localhost:8080/"
    },
    "id": "lxiDfvuKflMc",
    "outputId": "d8bf605d-26d5-4822-b238-473bb25bafd9"
   },
   "outputs": [],
   "source": [
    "alexnet = models.alexnet(weights='AlexNet_Weights.DEFAULT')\n",
    "# have model run on the GPU\n",
    "alexnet.cuda()"
   ]
  },
  {
   "cell_type": "markdown",
   "metadata": {
    "id": "mu7BBAs0UoEd"
   },
   "source": [
    "And let's check to see if the model is using the GPU ..."
   ]
  },
  {
   "cell_type": "code",
   "execution_count": null,
   "metadata": {
    "colab": {
     "base_uri": "https://localhost:8080/"
    },
    "id": "q5WIqgEYUse9",
    "outputId": "6e255197-ed38-4b3a-b116-deca520df388"
   },
   "outputs": [],
   "source": [
    "next(alexnet.parameters()).is_cuda"
   ]
  },
  {
   "cell_type": "markdown",
   "metadata": {
    "id": "4yvDAoqNflMc"
   },
   "source": [
    "Excellent! CUDA is the API for NVIDIA GPUs that allow us to do parallel programming.\n",
    "\n",
    "Of course we could call this model anything we want:\n",
    "\n",
    "```\n",
    "alexnet_model = models.alexnet(pretrained=True)\n",
    "myModel = models.alexnet(pretrained=True)\n",
    "```\n",
    "\n",
    "Now we have a pretrained model loaded into our system. We would like to use the model to classify our own images. \n",
    "\n",
    "## Inference\n",
    "\n",
    "We would like to give AlexNet an image like:\n",
    "\n",
    "![](https://raw.githubusercontent.com/zacharski/datamining-guide/master/labs/pics/poodle.jpg)\n",
    "\n",
    "and have AlexNet classify it. First, let's download the image file from the web using the Unix command `curl`:"
   ]
  },
  {
   "cell_type": "code",
   "execution_count": null,
   "metadata": {
    "colab": {
     "base_uri": "https://localhost:8080/"
    },
    "id": "FXZzt6a6flMc",
    "outputId": "ca4211c7-0006-4868-ce3a-c18671920aba"
   },
   "outputs": [],
   "source": [
    "!curl http://zacharski.org/files/courses/dmpics/poodle.jpg -o poodle.jpg"
   ]
  },
  {
   "cell_type": "markdown",
   "metadata": {
    "id": "umQSlZbRflMd"
   },
   "source": [
    "Next, let's load that image into Python using PIL (Python Imaging Library):"
   ]
  },
  {
   "cell_type": "code",
   "execution_count": null,
   "metadata": {
    "id": "2nI-yVPYflMd"
   },
   "outputs": [],
   "source": [
    "from PIL import Image\n",
    "img = Image.open(\"poodle.jpg\")"
   ]
  },
  {
   "cell_type": "markdown",
   "metadata": {
    "id": "4OTUlDW-flMd"
   },
   "source": [
    "Now let's display that image:"
   ]
  },
  {
   "cell_type": "code",
   "execution_count": null,
   "metadata": {
    "id": "3Mny1F_BflMe"
   },
   "outputs": [],
   "source": [
    "img"
   ]
  },
  {
   "cell_type": "markdown",
   "metadata": {
    "id": "cSdD1WZQflMe"
   },
   "source": [
    "(If that doesn't display an image change the code to `img.show`)\n",
    "\n",
    "\n",
    "The size of this particular image is 4032x3024 which is slightly over 12 million pixels. That is a lot of pixels! AlexNet was designed to work with an image size of 224x224. So we need to transform the original image to AlexNet specifications by using some methods from the `torchvision` library. \n",
    "\n",
    "First we will use `transforms.Resize(256)` which transforms the image so that the smaller dimension of the original image will be resized to 256.  ([PyTorch documentation](https://pytorch.org/vision/main/generated/torchvision.transforms.Resize.html)). The resultant image will be 341x256.\n",
    "\n",
    "![](https://raw.githubusercontent.com/zacharski/datamining-guide/master/labs/pics/poodleSmall.jpg)\n",
    "\n",
    "\n",
    "To get the image to the final 224x224 size we are going to use `transforms.CenterCrop(224)` which as the name suggests crops the image at the center to a 224x224 square. The result will look something like:\n",
    "\n",
    "![](https://raw.githubusercontent.com/zacharski/datamining-guide/master/labs/pics/poodleCropped.jpg)\n",
    "\n",
    "\n",
    "\n",
    "Then we will convert the image to an array using `ToTensor`. Since each pixel has values for red, green and blue (RGB), the resulting array will be 224x224x3. Finally we normalize the tensor using `transforms.Normalize` ([PyTorch Documentation](https://pytorch.org/vision/main/generated/torchvision.transforms.Normalize.html?highlight=normalize#torchvision.transforms.Normalize)). \n",
    "\n",
    "\n",
    "\n",
    "Here are those transformations put together:\n",
    "\n"
   ]
  },
  {
   "cell_type": "code",
   "execution_count": null,
   "metadata": {
    "id": "6rmI2eXBflMe"
   },
   "outputs": [],
   "source": [
    "from torchvision import transforms\n",
    "transform = transforms.Compose([\n",
    "    transforms.Resize(256),\n",
    "    transforms.CenterCrop(224),\n",
    "    transforms.ToTensor(),\n",
    "    transforms.Normalize(\n",
    "        mean=[0.485, 0.456, 0.406],\n",
    "        std=[0.229,0.224,0.225])\n",
    "])"
   ]
  },
  {
   "cell_type": "markdown",
   "metadata": {
    "id": "aPmTNuADflMf"
   },
   "source": [
    "You may wonder where the numbers come from in \n",
    "\n",
    "```\n",
    "        mean=[0.485, 0.456, 0.406],\n",
    "        std=[0.229,0.224,0.225])\n",
    "```\n",
    "These are the mean and standard deviation of the RGB values for all the pixels in all the images in the ImageNet dataset.\n",
    "\n",
    "Let's use this method we defined to transform the image:\n"
   ]
  },
  {
   "cell_type": "code",
   "execution_count": null,
   "metadata": {
    "colab": {
     "base_uri": "https://localhost:8080/"
    },
    "id": "Z3I_BAn9flMf",
    "outputId": "3722ea04-fee5-4ea1-ac50-cd703d1ad660"
   },
   "outputs": [],
   "source": [
    "img_t = transform(img)\n",
    "\n",
    "batch_t = torch.unsqueeze(img_t, 0)\n",
    "\n",
    "# put the tensor on the GPU\n",
    "batch_t = batch_t.to(device)\n",
    "batch_t.is_cuda"
   ]
  },
  {
   "cell_type": "markdown",
   "metadata": {
    "id": "iUHn9foEflMf"
   },
   "source": [
    "Image classification models typically classify an array of images at once rather than a single image. \n",
    "\n",
    "```\n",
    "    batch_t = torch.unsqueeze(img_t, 0)\n",
    "```\n",
    "creates a tensor with one element `img_t` which itself is a tensor. In a sense, an array of image arrays.\n",
    "\n",
    "Next,\n",
    "\n",
    "```\n",
    "batch_t = batch_t.to(device)\n",
    "```\n",
    "Puts that Tensor on the GPU and\n",
    "\n",
    "```\n",
    "batch_t.is_cuda\n",
    "```\n",
    "checks to make sure that that is the case.\n",
    "\n",
    "Now we have prepared the image and are prepared to pass it to alexnet for inference.\n",
    "\n",
    "### Model Inference\n",
    "\n",
    "In PyTorch, models can be in two modes and we can toggle between them.\n",
    "\n",
    "* `alexnet.eval()` puts the model in inference mode so it can make predictions.\n",
    "* `alexnet.train()` puts the model in training mode.\n",
    "\n",
    "\n",
    "Let's get the model ready for inference:"
   ]
  },
  {
   "cell_type": "code",
   "execution_count": null,
   "metadata": {
    "colab": {
     "base_uri": "https://localhost:8080/"
    },
    "id": "07sjKJ6CflMf",
    "outputId": "a59aed6a-2048-48c7-eda3-88e81f27e1da"
   },
   "outputs": [],
   "source": [
    "alexnet.eval()"
   ]
  },
  {
   "cell_type": "markdown",
   "metadata": {
    "id": "H22BjQSlflMg"
   },
   "source": [
    "As you can see, `alexnet.eval()` displays a lot of information about the architecture of the model. We will learn about the architecture of deep learning models about midway through the course.\n",
    "\n",
    "Now let's pass the tensor of our image to alexnet and get the output. Plus, let's examine the shape of the output."
   ]
  },
  {
   "cell_type": "code",
   "execution_count": null,
   "metadata": {
    "colab": {
     "base_uri": "https://localhost:8080/"
    },
    "id": "ksUu8iE1flMg",
    "outputId": "b1426c6a-c1f1-4b01-c415-17c8053de0e9"
   },
   "outputs": [],
   "source": [
    "out = alexnet(batch_t)\n",
    "print(out.shape)"
   ]
  },
  {
   "cell_type": "markdown",
   "metadata": {
    "id": "U9WSfV73flMg"
   },
   "source": [
    "As we see `out` is a one dimensional tensor with 1,000 different values. We get 1,000 values because Image_net contained 1,000 labels for the images. The larger the number the more likely the image is of that class. "
   ]
  },
  {
   "cell_type": "code",
   "execution_count": null,
   "metadata": {
    "colab": {
     "base_uri": "https://localhost:8080/"
    },
    "id": "itIaAMZEflMh",
    "outputId": "26a73fe8-f59f-49dd-efbc-c8e0d996b392"
   },
   "outputs": [],
   "source": [
    "out"
   ]
  },
  {
   "cell_type": "markdown",
   "metadata": {
    "id": "PiH6cKiaflMh"
   },
   "source": [
    "Let's convert those values to probabilities:"
   ]
  },
  {
   "cell_type": "code",
   "execution_count": null,
   "metadata": {
    "colab": {
     "base_uri": "https://localhost:8080/"
    },
    "id": "0UORMvTUflMh",
    "outputId": "7eaf3531-3f4a-4326-b76c-ec0a8e1f47f8"
   },
   "outputs": [],
   "source": [
    "percentage = torch.nn.functional.softmax(out, dim=1)[0] * 100\n",
    "percentage"
   ]
  },
  {
   "cell_type": "markdown",
   "metadata": {
    "id": "yP-kvbkmflMh"
   },
   "source": [
    "As you can see, the image is not very likely to be one of the first 5 labels. What are the actual names of these labels. First let's download the label name file:\n"
   ]
  },
  {
   "cell_type": "code",
   "execution_count": null,
   "metadata": {
    "colab": {
     "base_uri": "https://localhost:8080/"
    },
    "id": "lmDUeY4kflMi",
    "outputId": "1c674490-69ee-472a-9c07-66d8436bef95"
   },
   "outputs": [],
   "source": [
    "!curl http://zacharski.org/files/courses/dmpics/imagenet_classes.txt -o imagenet_classes.txt\n"
   ]
  },
  {
   "cell_type": "markdown",
   "metadata": {
    "id": "LjlBPVW9flMi"
   },
   "source": [
    "Let's load in those labels:"
   ]
  },
  {
   "cell_type": "code",
   "execution_count": null,
   "metadata": {
    "colab": {
     "base_uri": "https://localhost:8080/"
    },
    "id": "toeNd63OflMi",
    "outputId": "79fb9774-5ced-4e42-b140-1aae0b55a09d"
   },
   "outputs": [],
   "source": [
    "with open('imagenet_classes.txt') as f:\n",
    "\n",
    "  labels = [line.strip() for line in f.readlines()]\n",
    "print(labels[:5])"
   ]
  },
  {
   "cell_type": "markdown",
   "metadata": {
    "id": "hee-TGdYflMi"
   },
   "source": [
    "The first five labels are of types of fish. It is good to know our model didn't think our image was of a fish. What does our model think?\n"
   ]
  },
  {
   "cell_type": "code",
   "execution_count": null,
   "metadata": {
    "colab": {
     "base_uri": "https://localhost:8080/"
    },
    "id": "mLzeK4WIflMj",
    "outputId": "26a636d6-780d-4a64-8c41-22c09e224aa1"
   },
   "outputs": [],
   "source": [
    "z_, index = torch.max(out, 1)\n",
    "print(index)"
   ]
  },
  {
   "cell_type": "markdown",
   "metadata": {
    "id": "zlPw0CvPflMj"
   },
   "source": [
    "Okay, the label at index 267 is the most likely. Let's print that out:"
   ]
  },
  {
   "cell_type": "code",
   "execution_count": null,
   "metadata": {
    "colab": {
     "base_uri": "https://localhost:8080/"
    },
    "id": "VMDZWOmEflMj",
    "outputId": "1567040e-f2c5-43b8-c22f-f5e427a08099"
   },
   "outputs": [],
   "source": [
    "print(labels[index[0]], percentage[index[0]].item())\n"
   ]
  },
  {
   "cell_type": "markdown",
   "metadata": {
    "id": "dHH57CliflMj"
   },
   "source": [
    "Fortunately, alexnet correctly thinks the image is of a standard poodle with 38.65% likelihood. \n",
    "\n",
    "The ImageNet competition evaluated systems based on the top-5 error rate meaning the system was judged correct if the correct label was among the top 5 the system predicted.  Let's look at the top 5 our model predicted for this image."
   ]
  },
  {
   "cell_type": "code",
   "execution_count": null,
   "metadata": {
    "colab": {
     "base_uri": "https://localhost:8080/"
    },
    "id": "xL-_AsjXflMk",
    "outputId": "8760b8d1-36e3-40b3-8755-8d5f4f218787"
   },
   "outputs": [],
   "source": [
    "_, indices = torch.sort(out, descending=True)\n",
    "[(labels[idx], percentage[idx].item()) for idx in indices[0][:5]]\n"
   ]
  },
  {
   "cell_type": "markdown",
   "metadata": {
    "id": "_dEP9tLjflMk"
   },
   "source": [
    "Let's turn what we learned into a function and try predicting the class of other images."
   ]
  },
  {
   "cell_type": "code",
   "execution_count": null,
   "metadata": {
    "id": "O3BT8abIflMk"
   },
   "outputs": [],
   "source": [
    "import  requests\n",
    "\n",
    "def predict(url):\n",
    "    # first download the image from the web\n",
    "    r = requests.get(url)\n",
    "    with open('tmp.jpg', 'wb') as f:\n",
    "        f.write(r.content)\n",
    "    img = Image.open('tmp.jpg')\n",
    "    img.show()\n",
    "    img_t = transform(img)\n",
    "    batch_t = torch.unsqueeze(img_t, 0)\n",
    "    batch_t = batch_t.to(device)\n",
    "    out = alexnet(batch_t)\n",
    "    _, indices = torch.sort(out, descending=True)\n",
    "    percentage = torch.nn.functional.softmax(out, dim=1)[0] * 100\n",
    "    return([(labels[idx], percentage[idx].item()) for idx in indices[0][:5]])\n"
   ]
  },
  {
   "cell_type": "markdown",
   "metadata": {
    "id": "PbXBwIfxflMk"
   },
   "source": [
    "Let's find out what the 1,000 labels are:"
   ]
  },
  {
   "cell_type": "code",
   "execution_count": null,
   "metadata": {
    "colab": {
     "base_uri": "https://localhost:8080/"
    },
    "id": "pCsSr4vjflMl",
    "outputId": "aea97333-f4f0-43c1-af91-9763d5755ef9"
   },
   "outputs": [],
   "source": [
    "\n",
    "line = ''\n",
    "for i in range(len(labels)):\n",
    "  line += '%-25s' %labels[i]\n",
    "  if (i + 1) % 4 == 0:\n",
    "    print(line)\n",
    "    line = ''"
   ]
  },
  {
   "cell_type": "markdown",
   "metadata": {
    "id": "MYkTXbujflMl"
   },
   "source": [
    "Electric Guitar is one of the labels. Let's see if our model correctly identifies a picture of one:"
   ]
  },
  {
   "cell_type": "code",
   "execution_count": null,
   "metadata": {
    "colab": {
     "base_uri": "https://localhost:8080/"
    },
    "id": "RUjOor_oflMl",
    "outputId": "10552923-aaed-4683-ac95-18700e451c9b",
    "scrolled": true
   },
   "outputs": [],
   "source": [
    "predict('https://raw.githubusercontent.com/zacharski/ml-class/master/labs/pics/Fender_Stratocaster.jpeg')\n"
   ]
  },
  {
   "cell_type": "markdown",
   "metadata": {
    "id": "s8msErztflMl"
   },
   "source": [
    "Our system is 99% sure that this image is an electric guitar.\n",
    "\n",
    "While AlexNet doesn't know about burrowing owls it does know about great horned owls. Let's give it a picture of a burrowing owl and see what it does:"
   ]
  },
  {
   "cell_type": "code",
   "execution_count": null,
   "metadata": {
    "colab": {
     "base_uri": "https://localhost:8080/"
    },
    "id": "yUMAPhl-flMm",
    "outputId": "63b30cc0-cbfb-4be5-eb06-b2d88f96da0a"
   },
   "outputs": [],
   "source": [
    "predict('https://raw.githubusercontent.com/zacharski/ml-class/master/labs/pics/greyOwl.jpeg')"
   ]
  },
  {
   "cell_type": "markdown",
   "metadata": {
    "id": "1vkazE55flMm"
   },
   "source": [
    "That is a reasonable response!\n",
    "\n",
    "Let's try a cello."
   ]
  },
  {
   "cell_type": "code",
   "execution_count": null,
   "metadata": {
    "colab": {
     "base_uri": "https://localhost:8080/"
    },
    "id": "4bKIiLdNflMm",
    "outputId": "c60bcf4c-942e-4f93-9a48-d89c9347b816"
   },
   "outputs": [],
   "source": [
    "predict('https://raw.githubusercontent.com/zacharski/ml-class/master/labs/pics/cello12.jpeg')"
   ]
  },
  {
   "cell_type": "markdown",
   "metadata": {
    "id": "yCLaql64flMm"
   },
   "source": [
    "![](https://raw.githubusercontent.com/zacharski/datamining-guide/master/labs/pics/torchdivide.png)\n",
    "\n",
    "\n",
    "# <font color='#EE4C2C'>You Try ...</font> \n",
    "Ok, it is time for you to try out what you just learned.\n",
    "\n",
    "## <font color='#EE4C2C'>1. Your own images</font> \n",
    "Try this out on three images of your own."
   ]
  },
  {
   "cell_type": "code",
   "execution_count": null,
   "metadata": {
    "id": "GanSdKhSflMn"
   },
   "outputs": [],
   "source": []
  },
  {
   "cell_type": "code",
   "execution_count": null,
   "metadata": {
    "id": "PoHaOAiZflMn"
   },
   "outputs": [],
   "source": []
  },
  {
   "cell_type": "code",
   "execution_count": null,
   "metadata": {
    "id": "xhck8yneflMn"
   },
   "outputs": [],
   "source": []
  },
  {
   "cell_type": "markdown",
   "metadata": {
    "id": "kbFQ20DUflMn"
   },
   "source": [
    "![](https://raw.githubusercontent.com/zacharski/datamining-guide/master/labs/pics/PyDivideTwo.png)\n",
    "## <font color='#EE4C2C'>2. Squeezenet</font> \n",
    "\n",
    "Let's try a different pretrained model, `squeezenet1_1`. Load the model, construct a function that will make predictions based on the model and try it out on the images above that we provided plus your three.</span>"
   ]
  },
  {
   "cell_type": "code",
   "execution_count": null,
   "metadata": {
    "id": "57or8T7-flMn"
   },
   "outputs": [],
   "source": [
    "#"
   ]
  },
  {
   "cell_type": "code",
   "execution_count": null,
   "metadata": {
    "id": "7eM_-FIdflMn"
   },
   "outputs": [],
   "source": []
  },
  {
   "cell_type": "code",
   "execution_count": null,
   "metadata": {
    "id": "5wxkMyuAflMo"
   },
   "outputs": [],
   "source": []
  },
  {
   "cell_type": "code",
   "execution_count": null,
   "metadata": {
    "id": "7oglJGX8flMo"
   },
   "outputs": [],
   "source": []
  },
  {
   "cell_type": "code",
   "execution_count": null,
   "metadata": {
    "id": "05iaa3rhflMo"
   },
   "outputs": [],
   "source": []
  },
  {
   "cell_type": "code",
   "execution_count": null,
   "metadata": {
    "id": "yAgCjkvwflMo"
   },
   "outputs": [],
   "source": []
  },
  {
   "cell_type": "markdown",
   "metadata": {
    "id": "mqdx9MG8flMo"
   },
   "source": [
    "![](https://raw.githubusercontent.com/zacharski/datamining-guide/master/labs/pics/PyDivideTwo.png)\n",
    "## <font color='#EE4C2C'>2. Summary</font> \n",
    "\n",
    "Please answer the following questions by editing this markdown cell. </span>\n",
    "\n",
    "1. Classification machine learning models have two modes. What are they?  <font color='#EE4C2C'>your answer here</font> \n",
    "2. What is a pretrained model? \n",
    "2. What is supervised learning? What is unsupervised learning?\n",
    "3. Describe in a few sentences what Squeezenet is. (requires a bit of googling)\n",
    "4. Compare the performance of AlexNet over Squeezenet. Was one more accurate than the other? Did you notice any other differences? \n",
    "    \n"
   ]
  },
  {
   "cell_type": "markdown",
   "metadata": {
    "id": "J0aK-Aw_flMo"
   },
   "source": []
  }
 ],
 "metadata": {
  "accelerator": "GPU",
  "colab": {
   "collapsed_sections": [],
   "name": "DEFAULT 01-quickstart.ipynb",
   "provenance": []
  },
  "gpuClass": "standard",
  "kernelspec": {
   "display_name": "Python 3 (ipykernel)",
   "language": "python",
   "name": "python3"
  },
  "language_info": {
   "codemirror_mode": {
    "name": "ipython",
    "version": 3
   },
   "file_extension": ".py",
   "mimetype": "text/x-python",
   "name": "python",
   "nbconvert_exporter": "python",
   "pygments_lexer": "ipython3",
   "version": "3.9.12"
  }
 },
 "nbformat": 4,
 "nbformat_minor": 1
}
