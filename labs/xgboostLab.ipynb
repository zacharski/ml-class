{
  "nbformat": 4,
  "nbformat_minor": 0,
  "metadata": {
    "colab": {
      "name": "xgboostLab.ipynb",
      "provenance": []
    },
    "kernelspec": {
      "name": "python3",
      "display_name": "Python 3"
    },
    "accelerator": "GPU"
  },
  "cells": [
    {
      "cell_type": "markdown",
      "metadata": {
        "id": "8L5KyC6KP_yY"
      },
      "source": [
        "# XGBoost Lab\n",
        "\n",
        "## Reflections\n",
        "Let's go back to thinking about a few algorithms we worked on.\n",
        "\n",
        "\n",
        "### Decisions trees\n",
        "We began our exploration of decision trees with a mountain bike example:\n",
        "\n",
        "\n",
        "![](https://raw.githubusercontent.com/zacharski/ml-class/master/labs/pics/dtree77.png)\n",
        "\n",
        "Here's is roughly what we did by hand.\n",
        "\n",
        "1. We determined that if we couldn't ask any questions, we would say the person mountain biked since they mountained bike 9 times and didn't 5 times. So our error rate was 5 out of 14 or roughly 36%\n",
        "2. Next, if we could ask one question we determined that the question should be about Outlook. Now our error rate was 4 out of 14 or 29%\n",
        "3. Then we determined the next question to ask and reduced the error rate more. And then the next question ...\n",
        "\n",
        "\n",
        "\n",
        "\n",
        "In some sense, the algorithm is additive. We start with zero questions with whatever error rate. Add a question and reduce the error rate. Add another question and reduce the rate. And so on.\n",
        "\n",
        "**Additive** is the key word. Let's look at an example, from [Gradient boosting: Distance to target](https://explained.ai/gradient-boosting/L2-loss.html)  by Terence Parr and Jeremy Howard. They ask us to imagine writing the formula for *y* that matches this plot:\n",
        "\n",
        "![](https://explained.ai/gradient-boosting/images/L2-loss/L2-loss_additive_2.svg)\n",
        "\n",
        "Like the decision tree example above, our first approximation might be simple, perhaps just the y-intercept:\n",
        "\n",
        "$$y = 30$$\n",
        "\n",
        "as shown in the leftmost picture below. \n",
        "\n",
        "![](https://explained.ai/gradient-boosting/images/L2-loss/L2-loss_additive_3.svg)\n",
        "\n",
        "Next, we may want to add in the slope of the line and get\n",
        "\n",
        "$$y = 30 + x$$\n",
        "\n",
        "and get the middle graph above.  Finally, we add in the squiggle:\n",
        "\n",
        "$$y = 30 + x + sin(x)$$\n",
        "\n",
        "We have decomposed a complex task into subtasks, each refining the previous approximation. So, again, we have an additive algorithm.\n",
        "\n",
        "This approach shouldn't be surprising to us since this is how we typically develop programs. We get some skeleton code working and then incrementally add to it.\n",
        "\n",
        "\n",
        "## Boosting\n",
        "\n",
        "Boosting algorithms work in a similar additive fashion. We first develop a simple model that roughly classifies the data. Next, we add another simple model that is focused on ameliorating the errors of the first. And then we add another and another.\n",
        "\n",
        "$$boosting=model_1 + model_2 + model_3 + ... + model_n$$\n",
        "\n",
        "\n",
        "### How boosting differs from bagging and pasting\n",
        "\n",
        "With bagging and pasting we created a number of decision trees each of which was trained on different data. **One tree did not influence the construction of another.** Thus, each classifier was independent of the others.\n",
        " \n",
        "\n",
        "#### Boosting\n",
        "Boosting is different. \n",
        "\n",
        "Imagine that we create one decision tree classifier. Let's call it Classifier 1. Classifier 1 doesn't perform with 100% accuracy. \n",
        "\n",
        "Next we create a second decision tree classifier and as part of its training data we will use the instances that Classifier got wrong. Now Classifier 2 isn't perfect either and there will be some instances that both Classifier 1 and Classifier 2 got wrong, and, you guessed it, we will use those instances as part of the training data for Classifier 3.\n",
        "\n",
        "#### 400 Classifiers\n",
        "Suppose we created 400 classifiers using the bagging algorithm. Since each classifier is independent of the others, we can run those 400 in parallel. \n",
        "\n",
        "Now think about boosting for a moment. Can we run those in parallel? Think about it for \n",
        "\n",
        "1. second\n",
        "2. seconds\n",
        "3. seconds\n",
        "4. seconds\n",
        "5. seconds\n",
        "\n",
        "\n",
        "\n",
        "Since one classifier is dependent on the errors of the others it seems like we couldn't run them in parallel and training 400 classifiers  sequentially seems impractical. This is true in general with boosting algorithms but as we will see XGBoost is different.\n",
        "\n",
        "### Gradient Boosting\n",
        "Suppose I am interested in taking my camper van \n",
        "\n",
        "![](https://raw.githubusercontent.com/zacharski/ml-class/master/labs/pics/travato2.png)\n",
        "\n",
        "\n",
        "to White Horse Road Dispersed Camping in Utah.\n",
        "\n",
        "![](https://raw.githubusercontent.com/zacharski/ml-class/master/labs/pics/wildHorse.png)\n",
        "\n",
        "And to get there from my home in Santa Fe, I am using an old school paper map.\n",
        "\n",
        "![](https://raw.githubusercontent.com/zacharski/ml-class/master/labs/pics/map.png)\n",
        "\n",
        "A route will be something like.\n",
        "\n",
        "$$route = road_0 + road_1 + road_2 + ... + road_n$$\n",
        "\n",
        "To get to White Horse Road, it looks like my best bet is to start by taking I25 to Albuquerque.\n",
        "\n",
        "\n",
        "$$route = i25 $$\n",
        "\n",
        "Now the difference between where I am and where I want to go is Albuquerque to White Horse. So I performed an action and now my new problem is dealing with this new problem of getting from Albuquerque to White Horse\n",
        "\n",
        "From Albuquerque I can take 550 to Farmington\n",
        "\n",
        "$$route = i25  + US550$$\n",
        "\n",
        "and from there take 491 to Monticello Utah\n",
        "\n",
        "\n",
        "$$route = i25  + US550+ US491$$\n",
        "\n",
        "and so on.\n",
        "\n",
        "There are some similarities between this old school mapping and gradient boosting. In gradient boosting we start with a poor model (in our case, we decided to go to Albuquerque). Then we are going to look at the difference between what we want and where we are-- and then take the next step, the delta $\\Delta$. \n",
        "\n",
        "\n",
        "Let's look at a simple example of classification of one feature *x* to predict a label *y*. We will label our prediction $\\hat{y}$. For gradient boosting our formula is\n",
        "\n",
        "$$\\hat{y}=f_0(x) + \\Delta_1(x) + \\Delta_2(x) + ... + \\Delta_m(x)$$\n",
        "\n",
        "Where $\\Delta_1$ is the first improvement, $\\Delta_2$ the second and so on.\n",
        "\n",
        "Gradient Boosting is an ensemble method, meaning that it is built with a number of sub-classifiers. So perhaps a better Utah analogy is that I hitchhike from here to Albuquerque with one person (one 'classifier'), then go to Framington with another and so on.\n",
        "\n",
        "\n",
        "This is the rough intuition of gradient boosting. \n",
        "\n",
        "\n",
        "\n",
        "\n",
        "In any gradient algorithm there is a parameter called *learning rate* and in a sense it is how big of steps we can take. \n",
        "\n",
        "Suppose we are hiking on a mountain in Utah and suddenly we are fogged in and can't see a thing. We want to get back to our van in the valley.\n",
        "\n",
        "In my 2D Utah it looks like this:\n",
        "\n",
        "\n",
        "![](https://raw.githubusercontent.com/zacharski/ml-class/master/labs/pics/gradient1.png)\n",
        "\n",
        "The purple dot is us near the top of the mountain and the burnt orange dot is our van. So our algorithm is\n",
        "\n",
        "\n",
        "```\n",
        "WHILE NOT AT VAN OR NOT MOVING:\n",
        "  take one step to the left.\n",
        "  IF we are lower than when we started:\n",
        "     stay here at the new location\n",
        "  ELSE\n",
        "     go back to starting point and go one step to the right\n",
        "     IF we are lower than when we started:\n",
        "        stay here at the new location\n",
        "     ELSE\n",
        "        go back to starting point\n",
        "```\n",
        "\n",
        "We repeat the above procedure and get to the state shown on the right above. If we take a step to the right or left we go uphill so we are stuck. We hit what is called a local minima and local minima are a problem with all gradient descent algorithms.\n",
        "\n",
        "Perhaps the one step was too small an increment. So let's say we have a rope. You stay where we are and hold one end of the rope and I walk until I reach the end of the rope. Based on the angle of the rope, we see if I am lower or not and we move accordingly. Now we jump over that local minima and reach a state that looks like the following image on the left. We don't know it, but we are almost to the van!\n",
        "\n",
        "![](https://raw.githubusercontent.com/zacharski/ml-class/master/labs/pics/gradient2.png)\n",
        "\n",
        "We use the rope technique again but this time I jump over the location of our van since I am not at the end of the rope yet and am in the position shown on the right. The learning rate was too large. (Now I am sounding like the three bears tale!)\n",
        "\n",
        "The one step was our learning rate as was our rope technique and you can see that selecting a good one is crucial. \n",
        "\n",
        "#### Loss Function\n",
        "For both these examples, one thing we needed was a measure for how far away are we from our goal. Are we better or worse? For the fog on a mountain example, the loss function was our altitude and we are trying to reduce the loss -- the altitude. \n",
        "\n",
        "\n",
        "### Two more examples\n",
        "\n",
        "#### One Dimensional Team Frisbee Golf\n",
        "Here is my representation of our 1D golf game. The hole is the green circle on the right and our frisbee's location is shown with the lovely pink circle on the left. Let $y$ be the actual distance between the two and $x$ what I see standing by the frisbee--off in the one dimensional distance I see the hole. \n",
        "\n",
        "![](https://raw.githubusercontent.com/zacharski/ml-class/master/labs/pics/golf1.png)\n",
        "\n",
        "\n",
        "It is player zero's turn and she estimates the distance to be 70 yards.\n",
        "\n",
        "$$f_0(x) = 70$$ \n",
        "\n",
        "She flings the frisbee and ...\n",
        "\n",
        "![](https://raw.githubusercontent.com/zacharski/ml-class/master/labs/pics/golf2.png)\n",
        "\n",
        "Now it is player two's turn. He is only concerned with the  difference, the $\\Delta_1$ --the current position of the frisbee and the location of the hole. He estimates it to be 20 yards\n",
        "\n",
        "$$\\Delta_1(x) = 20$$\n",
        "\n",
        "So far we have flung the frisbee\n",
        "\n",
        "$$\\hat{y}= f+0(x) + \\Delta_1(x) = 70 + 20 = 90$$\n",
        "\n",
        "\n",
        "![](https://raw.githubusercontent.com/zacharski/ml-class/master/labs/pics/golf3.png)\n",
        "\n",
        "Now it is player two's turn. She estimates the distance remaining ($\\Delta_2$) to be 15 yards...\n",
        "\n",
        "\n",
        "![](https://raw.githubusercontent.com/zacharski/ml-class/master/labs/pics/golf4.png)\n",
        "\n",
        "And she overshot. \n",
        "\n",
        "Player three estimates the remaining distance to be -5 yards and ...\n",
        "\n",
        "![](https://raw.githubusercontent.com/zacharski/ml-class/master/labs/pics/golf5.png)\n",
        "\n",
        "Notice that each player is not concerned with the original problem. She is just concerned with the **residual** --- meaning what is remaining based on the previous players' results.\n",
        "\n",
        "The formula is \n",
        "\n",
        "$$\\hat{y} = f_0(x) + \\Delta_1(x) + \\Delta_2(x) + ... + \\Delta_m(x)$$\n",
        "$$=f_0(x) + \\sum_{m=1}^M{\\Delta_m(x)}$$\n",
        "\n",
        "So the first classifier works on the original problem but all the rest work on the residual.\n",
        "\n",
        "#### Expenditures on Makeup and Clothes\n",
        "Ok, I have exhausted my creativity, so even though I am not keen on this example, let's go back to predicting a young lady's expenditure on makeup based on what she spends on clothes.  And just for readability I am going to make the feature clothes to be represented by *x* and what we want to predict, the makeup, *y*\n"
      ]
    },
    {
      "cell_type": "code",
      "metadata": {
        "id": "d3c2iMbCP9aq",
        "colab": {
          "base_uri": "https://localhost:8080/",
          "height": 357
        },
        "outputId": "3ce5a9e6-5028-482b-9c09-e74fad433992"
      },
      "source": [
        "import pandas as pd\n",
        "from pandas import DataFrame\n",
        "makeup =  [3000, 5000, 12000, 2000, 7000,  15000,  5000,  6000, 8000,  10000]\n",
        "clothes = [7000, 8000, 25000, 5000, 12000, 30000, 10000, 15000, 20000, 18000]\n",
        "ladies = ['Ms A','Ms B','Ms C','Ms D','Ms E','Ms F','Ms G','Ms H','Ms I','Ms J',]\n",
        "monthly = DataFrame({'x': clothes, 'y': makeup}, index= ladies)\n",
        "monthly"
      ],
      "execution_count": null,
      "outputs": [
        {
          "output_type": "execute_result",
          "data": {
            "text/html": [
              "<div>\n",
              "<style scoped>\n",
              "    .dataframe tbody tr th:only-of-type {\n",
              "        vertical-align: middle;\n",
              "    }\n",
              "\n",
              "    .dataframe tbody tr th {\n",
              "        vertical-align: top;\n",
              "    }\n",
              "\n",
              "    .dataframe thead th {\n",
              "        text-align: right;\n",
              "    }\n",
              "</style>\n",
              "<table border=\"1\" class=\"dataframe\">\n",
              "  <thead>\n",
              "    <tr style=\"text-align: right;\">\n",
              "      <th></th>\n",
              "      <th>x</th>\n",
              "      <th>y</th>\n",
              "    </tr>\n",
              "  </thead>\n",
              "  <tbody>\n",
              "    <tr>\n",
              "      <th>Ms A</th>\n",
              "      <td>7000</td>\n",
              "      <td>3000</td>\n",
              "    </tr>\n",
              "    <tr>\n",
              "      <th>Ms B</th>\n",
              "      <td>8000</td>\n",
              "      <td>5000</td>\n",
              "    </tr>\n",
              "    <tr>\n",
              "      <th>Ms C</th>\n",
              "      <td>25000</td>\n",
              "      <td>12000</td>\n",
              "    </tr>\n",
              "    <tr>\n",
              "      <th>Ms D</th>\n",
              "      <td>5000</td>\n",
              "      <td>2000</td>\n",
              "    </tr>\n",
              "    <tr>\n",
              "      <th>Ms E</th>\n",
              "      <td>12000</td>\n",
              "      <td>7000</td>\n",
              "    </tr>\n",
              "    <tr>\n",
              "      <th>Ms F</th>\n",
              "      <td>30000</td>\n",
              "      <td>15000</td>\n",
              "    </tr>\n",
              "    <tr>\n",
              "      <th>Ms G</th>\n",
              "      <td>10000</td>\n",
              "      <td>5000</td>\n",
              "    </tr>\n",
              "    <tr>\n",
              "      <th>Ms H</th>\n",
              "      <td>15000</td>\n",
              "      <td>6000</td>\n",
              "    </tr>\n",
              "    <tr>\n",
              "      <th>Ms I</th>\n",
              "      <td>20000</td>\n",
              "      <td>8000</td>\n",
              "    </tr>\n",
              "    <tr>\n",
              "      <th>Ms J</th>\n",
              "      <td>18000</td>\n",
              "      <td>10000</td>\n",
              "    </tr>\n",
              "  </tbody>\n",
              "</table>\n",
              "</div>"
            ],
            "text/plain": [
              "          x      y\n",
              "Ms A   7000   3000\n",
              "Ms B   8000   5000\n",
              "Ms C  25000  12000\n",
              "Ms D   5000   2000\n",
              "Ms E  12000   7000\n",
              "Ms F  30000  15000\n",
              "Ms G  10000   5000\n",
              "Ms H  15000   6000\n",
              "Ms I  20000   8000\n",
              "Ms J  18000  10000"
            ]
          },
          "metadata": {
            "tags": []
          },
          "execution_count": 1
        }
      ]
    },
    {
      "cell_type": "markdown",
      "metadata": {
        "id": "b8hWOON-0qEU"
      },
      "source": [
        "And for our first prediction $f_0$ let's predict just the average value:\n"
      ]
    },
    {
      "cell_type": "code",
      "metadata": {
        "id": "ddG9_pVPTwDW",
        "colab": {
          "base_uri": "https://localhost:8080/",
          "height": 357
        },
        "outputId": "4785b730-d243-469f-f83c-5343ad2a723b"
      },
      "source": [
        "monthly['f0'] = monthly.y.mean()\n",
        "monthly"
      ],
      "execution_count": null,
      "outputs": [
        {
          "output_type": "execute_result",
          "data": {
            "text/html": [
              "<div>\n",
              "<style scoped>\n",
              "    .dataframe tbody tr th:only-of-type {\n",
              "        vertical-align: middle;\n",
              "    }\n",
              "\n",
              "    .dataframe tbody tr th {\n",
              "        vertical-align: top;\n",
              "    }\n",
              "\n",
              "    .dataframe thead th {\n",
              "        text-align: right;\n",
              "    }\n",
              "</style>\n",
              "<table border=\"1\" class=\"dataframe\">\n",
              "  <thead>\n",
              "    <tr style=\"text-align: right;\">\n",
              "      <th></th>\n",
              "      <th>x</th>\n",
              "      <th>y</th>\n",
              "      <th>f0</th>\n",
              "    </tr>\n",
              "  </thead>\n",
              "  <tbody>\n",
              "    <tr>\n",
              "      <th>Ms A</th>\n",
              "      <td>7000</td>\n",
              "      <td>3000</td>\n",
              "      <td>7300.0</td>\n",
              "    </tr>\n",
              "    <tr>\n",
              "      <th>Ms B</th>\n",
              "      <td>8000</td>\n",
              "      <td>5000</td>\n",
              "      <td>7300.0</td>\n",
              "    </tr>\n",
              "    <tr>\n",
              "      <th>Ms C</th>\n",
              "      <td>25000</td>\n",
              "      <td>12000</td>\n",
              "      <td>7300.0</td>\n",
              "    </tr>\n",
              "    <tr>\n",
              "      <th>Ms D</th>\n",
              "      <td>5000</td>\n",
              "      <td>2000</td>\n",
              "      <td>7300.0</td>\n",
              "    </tr>\n",
              "    <tr>\n",
              "      <th>Ms E</th>\n",
              "      <td>12000</td>\n",
              "      <td>7000</td>\n",
              "      <td>7300.0</td>\n",
              "    </tr>\n",
              "    <tr>\n",
              "      <th>Ms F</th>\n",
              "      <td>30000</td>\n",
              "      <td>15000</td>\n",
              "      <td>7300.0</td>\n",
              "    </tr>\n",
              "    <tr>\n",
              "      <th>Ms G</th>\n",
              "      <td>10000</td>\n",
              "      <td>5000</td>\n",
              "      <td>7300.0</td>\n",
              "    </tr>\n",
              "    <tr>\n",
              "      <th>Ms H</th>\n",
              "      <td>15000</td>\n",
              "      <td>6000</td>\n",
              "      <td>7300.0</td>\n",
              "    </tr>\n",
              "    <tr>\n",
              "      <th>Ms I</th>\n",
              "      <td>20000</td>\n",
              "      <td>8000</td>\n",
              "      <td>7300.0</td>\n",
              "    </tr>\n",
              "    <tr>\n",
              "      <th>Ms J</th>\n",
              "      <td>18000</td>\n",
              "      <td>10000</td>\n",
              "      <td>7300.0</td>\n",
              "    </tr>\n",
              "  </tbody>\n",
              "</table>\n",
              "</div>"
            ],
            "text/plain": [
              "          x      y      f0\n",
              "Ms A   7000   3000  7300.0\n",
              "Ms B   8000   5000  7300.0\n",
              "Ms C  25000  12000  7300.0\n",
              "Ms D   5000   2000  7300.0\n",
              "Ms E  12000   7000  7300.0\n",
              "Ms F  30000  15000  7300.0\n",
              "Ms G  10000   5000  7300.0\n",
              "Ms H  15000   6000  7300.0\n",
              "Ms I  20000   8000  7300.0\n",
              "Ms J  18000  10000  7300.0"
            ]
          },
          "metadata": {
            "tags": []
          },
          "execution_count": 25
        }
      ]
    },
    {
      "cell_type": "markdown",
      "metadata": {
        "id": "ijAYdpZd2fzx"
      },
      "source": [
        "and the differences between our predictions and the actual values"
      ]
    },
    {
      "cell_type": "code",
      "metadata": {
        "id": "CKG3OvcB1RWv",
        "colab": {
          "base_uri": "https://localhost:8080/",
          "height": 357
        },
        "outputId": "df6b2101-e01b-46e9-a87b-f3969382014d"
      },
      "source": [
        "monthly['y-f0'] = monthly.y - monthly.f0\n",
        "monthly"
      ],
      "execution_count": null,
      "outputs": [
        {
          "output_type": "execute_result",
          "data": {
            "text/html": [
              "<div>\n",
              "<style scoped>\n",
              "    .dataframe tbody tr th:only-of-type {\n",
              "        vertical-align: middle;\n",
              "    }\n",
              "\n",
              "    .dataframe tbody tr th {\n",
              "        vertical-align: top;\n",
              "    }\n",
              "\n",
              "    .dataframe thead th {\n",
              "        text-align: right;\n",
              "    }\n",
              "</style>\n",
              "<table border=\"1\" class=\"dataframe\">\n",
              "  <thead>\n",
              "    <tr style=\"text-align: right;\">\n",
              "      <th></th>\n",
              "      <th>x</th>\n",
              "      <th>y</th>\n",
              "      <th>f0</th>\n",
              "      <th>y-f0</th>\n",
              "    </tr>\n",
              "  </thead>\n",
              "  <tbody>\n",
              "    <tr>\n",
              "      <th>Ms A</th>\n",
              "      <td>7000</td>\n",
              "      <td>3000</td>\n",
              "      <td>7300.0</td>\n",
              "      <td>-4300.0</td>\n",
              "    </tr>\n",
              "    <tr>\n",
              "      <th>Ms B</th>\n",
              "      <td>8000</td>\n",
              "      <td>5000</td>\n",
              "      <td>7300.0</td>\n",
              "      <td>-2300.0</td>\n",
              "    </tr>\n",
              "    <tr>\n",
              "      <th>Ms C</th>\n",
              "      <td>25000</td>\n",
              "      <td>12000</td>\n",
              "      <td>7300.0</td>\n",
              "      <td>4700.0</td>\n",
              "    </tr>\n",
              "    <tr>\n",
              "      <th>Ms D</th>\n",
              "      <td>5000</td>\n",
              "      <td>2000</td>\n",
              "      <td>7300.0</td>\n",
              "      <td>-5300.0</td>\n",
              "    </tr>\n",
              "    <tr>\n",
              "      <th>Ms E</th>\n",
              "      <td>12000</td>\n",
              "      <td>7000</td>\n",
              "      <td>7300.0</td>\n",
              "      <td>-300.0</td>\n",
              "    </tr>\n",
              "    <tr>\n",
              "      <th>Ms F</th>\n",
              "      <td>30000</td>\n",
              "      <td>15000</td>\n",
              "      <td>7300.0</td>\n",
              "      <td>7700.0</td>\n",
              "    </tr>\n",
              "    <tr>\n",
              "      <th>Ms G</th>\n",
              "      <td>10000</td>\n",
              "      <td>5000</td>\n",
              "      <td>7300.0</td>\n",
              "      <td>-2300.0</td>\n",
              "    </tr>\n",
              "    <tr>\n",
              "      <th>Ms H</th>\n",
              "      <td>15000</td>\n",
              "      <td>6000</td>\n",
              "      <td>7300.0</td>\n",
              "      <td>-1300.0</td>\n",
              "    </tr>\n",
              "    <tr>\n",
              "      <th>Ms I</th>\n",
              "      <td>20000</td>\n",
              "      <td>8000</td>\n",
              "      <td>7300.0</td>\n",
              "      <td>700.0</td>\n",
              "    </tr>\n",
              "    <tr>\n",
              "      <th>Ms J</th>\n",
              "      <td>18000</td>\n",
              "      <td>10000</td>\n",
              "      <td>7300.0</td>\n",
              "      <td>2700.0</td>\n",
              "    </tr>\n",
              "  </tbody>\n",
              "</table>\n",
              "</div>"
            ],
            "text/plain": [
              "          x      y      f0    y-f0\n",
              "Ms A   7000   3000  7300.0 -4300.0\n",
              "Ms B   8000   5000  7300.0 -2300.0\n",
              "Ms C  25000  12000  7300.0  4700.0\n",
              "Ms D   5000   2000  7300.0 -5300.0\n",
              "Ms E  12000   7000  7300.0  -300.0\n",
              "Ms F  30000  15000  7300.0  7700.0\n",
              "Ms G  10000   5000  7300.0 -2300.0\n",
              "Ms H  15000   6000  7300.0 -1300.0\n",
              "Ms I  20000   8000  7300.0   700.0\n",
              "Ms J  18000  10000  7300.0  2700.0"
            ]
          },
          "metadata": {
            "tags": []
          },
          "execution_count": 26
        }
      ]
    },
    {
      "cell_type": "markdown",
      "metadata": {
        "id": "JYYABnmp2niq"
      },
      "source": [
        "That $y-f_0$ is the residual. What is left, or how far the first classifier was off. The residual is what the second classifier is trying to predict.\n",
        "\n",
        "Next, we are going to create a classifier Δ1 that predicts $y - f_0$ from the x. Let's say my next classifier has the wacky\n",
        "\n",
        "$$(x - 10000)$$"
      ]
    },
    {
      "cell_type": "code",
      "metadata": {
        "id": "OVqyVkYF2XSO",
        "colab": {
          "base_uri": "https://localhost:8080/",
          "height": 357
        },
        "outputId": "881981c7-1bbf-477e-c139-2ebe8e2b315d"
      },
      "source": [
        "monthly['Δ1'] = (monthly['x'] - 10000)\n",
        "monthly['y-f1'] = monthly['y-f0'] - monthly['Δ1']\n",
        "monthly"
      ],
      "execution_count": null,
      "outputs": [
        {
          "output_type": "execute_result",
          "data": {
            "text/html": [
              "<div>\n",
              "<style scoped>\n",
              "    .dataframe tbody tr th:only-of-type {\n",
              "        vertical-align: middle;\n",
              "    }\n",
              "\n",
              "    .dataframe tbody tr th {\n",
              "        vertical-align: top;\n",
              "    }\n",
              "\n",
              "    .dataframe thead th {\n",
              "        text-align: right;\n",
              "    }\n",
              "</style>\n",
              "<table border=\"1\" class=\"dataframe\">\n",
              "  <thead>\n",
              "    <tr style=\"text-align: right;\">\n",
              "      <th></th>\n",
              "      <th>x</th>\n",
              "      <th>y</th>\n",
              "      <th>f0</th>\n",
              "      <th>y-f0</th>\n",
              "      <th>Δ1</th>\n",
              "      <th>y-f1</th>\n",
              "    </tr>\n",
              "  </thead>\n",
              "  <tbody>\n",
              "    <tr>\n",
              "      <th>Ms A</th>\n",
              "      <td>7000</td>\n",
              "      <td>3000</td>\n",
              "      <td>7300.0</td>\n",
              "      <td>-4300.0</td>\n",
              "      <td>-3000</td>\n",
              "      <td>-1300.0</td>\n",
              "    </tr>\n",
              "    <tr>\n",
              "      <th>Ms B</th>\n",
              "      <td>8000</td>\n",
              "      <td>5000</td>\n",
              "      <td>7300.0</td>\n",
              "      <td>-2300.0</td>\n",
              "      <td>-2000</td>\n",
              "      <td>-300.0</td>\n",
              "    </tr>\n",
              "    <tr>\n",
              "      <th>Ms C</th>\n",
              "      <td>25000</td>\n",
              "      <td>12000</td>\n",
              "      <td>7300.0</td>\n",
              "      <td>4700.0</td>\n",
              "      <td>15000</td>\n",
              "      <td>-10300.0</td>\n",
              "    </tr>\n",
              "    <tr>\n",
              "      <th>Ms D</th>\n",
              "      <td>5000</td>\n",
              "      <td>2000</td>\n",
              "      <td>7300.0</td>\n",
              "      <td>-5300.0</td>\n",
              "      <td>-5000</td>\n",
              "      <td>-300.0</td>\n",
              "    </tr>\n",
              "    <tr>\n",
              "      <th>Ms E</th>\n",
              "      <td>12000</td>\n",
              "      <td>7000</td>\n",
              "      <td>7300.0</td>\n",
              "      <td>-300.0</td>\n",
              "      <td>2000</td>\n",
              "      <td>-2300.0</td>\n",
              "    </tr>\n",
              "    <tr>\n",
              "      <th>Ms F</th>\n",
              "      <td>30000</td>\n",
              "      <td>15000</td>\n",
              "      <td>7300.0</td>\n",
              "      <td>7700.0</td>\n",
              "      <td>20000</td>\n",
              "      <td>-12300.0</td>\n",
              "    </tr>\n",
              "    <tr>\n",
              "      <th>Ms G</th>\n",
              "      <td>10000</td>\n",
              "      <td>5000</td>\n",
              "      <td>7300.0</td>\n",
              "      <td>-2300.0</td>\n",
              "      <td>0</td>\n",
              "      <td>-2300.0</td>\n",
              "    </tr>\n",
              "    <tr>\n",
              "      <th>Ms H</th>\n",
              "      <td>15000</td>\n",
              "      <td>6000</td>\n",
              "      <td>7300.0</td>\n",
              "      <td>-1300.0</td>\n",
              "      <td>5000</td>\n",
              "      <td>-6300.0</td>\n",
              "    </tr>\n",
              "    <tr>\n",
              "      <th>Ms I</th>\n",
              "      <td>20000</td>\n",
              "      <td>8000</td>\n",
              "      <td>7300.0</td>\n",
              "      <td>700.0</td>\n",
              "      <td>10000</td>\n",
              "      <td>-9300.0</td>\n",
              "    </tr>\n",
              "    <tr>\n",
              "      <th>Ms J</th>\n",
              "      <td>18000</td>\n",
              "      <td>10000</td>\n",
              "      <td>7300.0</td>\n",
              "      <td>2700.0</td>\n",
              "      <td>8000</td>\n",
              "      <td>-5300.0</td>\n",
              "    </tr>\n",
              "  </tbody>\n",
              "</table>\n",
              "</div>"
            ],
            "text/plain": [
              "          x      y      f0    y-f0     Δ1     y-f1\n",
              "Ms A   7000   3000  7300.0 -4300.0  -3000  -1300.0\n",
              "Ms B   8000   5000  7300.0 -2300.0  -2000   -300.0\n",
              "Ms C  25000  12000  7300.0  4700.0  15000 -10300.0\n",
              "Ms D   5000   2000  7300.0 -5300.0  -5000   -300.0\n",
              "Ms E  12000   7000  7300.0  -300.0   2000  -2300.0\n",
              "Ms F  30000  15000  7300.0  7700.0  20000 -12300.0\n",
              "Ms G  10000   5000  7300.0 -2300.0      0  -2300.0\n",
              "Ms H  15000   6000  7300.0 -1300.0   5000  -6300.0\n",
              "Ms I  20000   8000  7300.0   700.0  10000  -9300.0\n",
              "Ms J  18000  10000  7300.0  2700.0   8000  -5300.0"
            ]
          },
          "metadata": {
            "tags": []
          },
          "execution_count": 27
        }
      ]
    },
    {
      "cell_type": "markdown",
      "metadata": {
        "id": "T72unS4a7HJP"
      },
      "source": [
        "And the next classifier will try to predict $y-f_1$ based on x.\n",
        "\n",
        "If you understand all these examples, from Utah to Makeup, you have a pretty good intuition on how Gradient Boosting works.\n",
        "\n",
        "# XGBoost\n",
        "You may recall that in the first few videos, we mentioned that XGBoost was one of the state-of-the-art algorithms. The Kaggle competition winners are dominated by deep learning and XGBoost solutions.\n",
        "\n",
        ">I only use XGBoost (Liberty Mutual Property Inspection, Winner's Interview: Qingchen Wang)\n",
        "\n",
        "> As the winner of an increasing amount of Kaggle competitions XGBoost showed us again to be a great all-around algorithm worith having in your toolbox (Dato Winner's Interview, 1st Place, Mad Professors)\n",
        "\n",
        "> The only supervised learning method I used was gradient boosting as implemented in the excellent xgboost package (Recruit Coupon Purchase Winner's Interview, 2nd place, Halla Yang)\n",
        "\n",
        "\n",
        "\n",
        "We are going to start our exploration of XGBoost using the Iris dataset, which we have used before."
      ]
    },
    {
      "cell_type": "code",
      "metadata": {
        "id": "ma21zshP4umI",
        "colab": {
          "base_uri": "https://localhost:8080/",
          "height": 321
        },
        "outputId": "3bffbc58-3da7-4af4-900c-f7f61aa3f765"
      },
      "source": [
        "\n",
        "from IPython.display import YouTubeVideo\n",
        "YouTubeVideo('1jLIRJwfZhg')"
      ],
      "execution_count": null,
      "outputs": [
        {
          "output_type": "execute_result",
          "data": {
            "text/html": [
              "\n",
              "        <iframe\n",
              "            width=\"400\"\n",
              "            height=\"300\"\n",
              "            src=\"https://www.youtube.com/embed/1jLIRJwfZhg\"\n",
              "            frameborder=\"0\"\n",
              "            allowfullscreen\n",
              "        ></iframe>\n",
              "        "
            ],
            "text/plain": [
              "<IPython.lib.display.YouTubeVideo at 0x7f953e2809e8>"
            ],
            "image/jpeg": "[encoded data removed]"
          },
          "metadata": {
            "tags": []
          },
          "execution_count": 28
        }
      ]
    },
    {
      "cell_type": "markdown",
      "metadata": {
        "id": "U8XREkjWB5fS"
      },
      "source": [
        "This reminds me of a section of the *Hitchhiker's Guide to the Galaxy* by Douglas Adams, where Marvin, the robot, is asked to bring two hitchhikers to the bridge and he says:\n",
        "\n",
        "> Here I am, brain the size of a planet, and they ask me to take you to the bridge. Call that job satisfaction, 'cause I don't\n",
        "\n",
        "XGBoost is an extremely powerful state-of-the-art algorithm and we are using it on a toy example. Oh well.\n",
        "\n",
        "### GPU!\n",
        "We are going to be running this code on a Graphics Processing Unit, GPU, a graphics card.\n",
        "\n",
        "To do so, under the runtime menu above, select **Change Runtime Type** and select **GPU**\n",
        "\n",
        "That's it! Now let's check out what GPU we are using:"
      ]
    },
    {
      "cell_type": "code",
      "metadata": {
        "id": "83Bp2hvE6bcg",
        "colab": {
          "base_uri": "https://localhost:8080/",
          "height": 360
        },
        "outputId": "58ce67fe-8cd9-41bf-b6f2-446a242087e0"
      },
      "source": [
        "!nvidia-smi"
      ],
      "execution_count": null,
      "outputs": [
        {
          "output_type": "stream",
          "text": [
            "Wed Sep 16 21:30:48 2020       \n",
            "+-----------------------------------------------------------------------------+\n",
            "| NVIDIA-SMI 450.66       Driver Version: 418.67       CUDA Version: 10.1     |\n",
            "|-------------------------------+----------------------+----------------------+\n",
            "| GPU  Name        Persistence-M| Bus-Id        Disp.A | Volatile Uncorr. ECC |\n",
            "| Fan  Temp  Perf  Pwr:Usage/Cap|         Memory-Usage | GPU-Util  Compute M. |\n",
            "|                               |                      |               MIG M. |\n",
            "|===============================+======================+======================|\n",
            "|   0  Tesla T4            Off  | 00000000:00:04.0 Off |                    0 |\n",
            "| N/A   70C    P8    20W /  70W |      0MiB / 15079MiB |      0%      Default |\n",
            "|                               |                      |                 ERR! |\n",
            "+-------------------------------+----------------------+----------------------+\n",
            "                                                                               \n",
            "+-----------------------------------------------------------------------------+\n",
            "| Processes:                                                                  |\n",
            "|  GPU   GI   CI        PID   Type   Process name                  GPU Memory |\n",
            "|        ID   ID                                                   Usage      |\n",
            "|=============================================================================|\n",
            "|  No running processes found                                                 |\n",
            "+-----------------------------------------------------------------------------+\n"
          ],
          "name": "stdout"
        }
      ]
    },
    {
      "cell_type": "markdown",
      "metadata": {
        "id": "XZmJUO_2CGez"
      },
      "source": [
        "It is a Tesla T4, which has 320 tensor cores.\n",
        "\n",
        "\n",
        "\n",
        "Now let's load the database\n",
        "\n",
        "## The Iris Data Set\n",
        "\n",
        "### Load the dataset:"
      ]
    },
    {
      "cell_type": "code",
      "metadata": {
        "id": "UwUq3mqwB9EL"
      },
      "source": [
        "import pandas as pd\n",
        "from sklearn.model_selection import train_test_split\n",
        "\n",
        "iris = pd.read_csv('https://raw.githubusercontent.com/zacharski/ml-class/master/data/iris.csv')\n",
        "\n",
        "iris_train, iris_test = train_test_split(iris, test_size = 0.2)\n",
        "train_X = iris_train[['Sepal Length', 'Sepal Width', 'Petal Length', 'Petal Width']]\n",
        "train_y = iris_train['Class']\n",
        "test_X = iris_test[['Sepal Length', 'Sepal Width', 'Petal Length', 'Petal Width']]\n",
        "test_y = iris_test['Class']\n"
      ],
      "execution_count": null,
      "outputs": []
    },
    {
      "cell_type": "markdown",
      "metadata": {
        "id": "pmHyfTQeCUQs"
      },
      "source": [
        "### Create an instance of the XGBoost classifier\n",
        "We are going to create an XGBoost classifier with gpu support."
      ]
    },
    {
      "cell_type": "code",
      "metadata": {
        "id": "acYGT2PzCRJV",
        "colab": {
          "base_uri": "https://localhost:8080/",
          "height": 154
        },
        "outputId": "3353e01d-faeb-4355-f0b3-1a282c30281e"
      },
      "source": [
        "from xgboost import XGBClassifier\n",
        "params = { \"n_estimators\": 400, 'tree_method':'gpu_hist', 'predictor':'gpu_predictor' }\n",
        "\n",
        "model = XGBClassifier(**params)\n",
        "model"
      ],
      "execution_count": null,
      "outputs": [
        {
          "output_type": "execute_result",
          "data": {
            "text/plain": [
              "XGBClassifier(base_score=0.5, booster='gbtree', colsample_bylevel=1,\n",
              "              colsample_bynode=1, colsample_bytree=1, gamma=0,\n",
              "              learning_rate=0.1, max_delta_step=0, max_depth=3,\n",
              "              min_child_weight=1, missing=None, n_estimators=400, n_jobs=1,\n",
              "              nthread=None, objective='binary:logistic',\n",
              "              predictor='gpu_predictor', random_state=0, reg_alpha=0,\n",
              "              reg_lambda=1, scale_pos_weight=1, seed=None, silent=None,\n",
              "              subsample=1, tree_method='gpu_hist', verbosity=1)"
            ]
          },
          "metadata": {
            "tags": []
          },
          "execution_count": 4
        }
      ]
    },
    {
      "cell_type": "markdown",
      "metadata": {
        "id": "TX_yoP5kDKjl"
      },
      "source": [
        "Let's take a look at those parameters.\n",
        "\n",
        "* **n_estimators** the number of classifiers in the boost ensemble. The default is 100.\n",
        "* **tree_method** the tree construction algorithm that is used. `gpu_hist` is a distributed histogram approach (see the [original paper](https://arxiv.org/pdf/1603.02754.pdf))\n",
        "* **predictor** the prediction algorithm to use. `gpu_predictor` means use the gpu!\n",
        "* **max_depth** the depth of the decision trees. The default of 3 is used here. The trees for any ensemble method are typically very shallow. \n",
        "\n",
        "### Fitting model to the data"
      ]
    },
    {
      "cell_type": "code",
      "metadata": {
        "id": "MBxXaHTVCbt0",
        "colab": {
          "base_uri": "https://localhost:8080/",
          "height": 154
        },
        "outputId": "24f257b2-86e2-45bf-ebac-4ae59948efab"
      },
      "source": [
        "model.fit(train_X, train_y)"
      ],
      "execution_count": null,
      "outputs": [
        {
          "output_type": "execute_result",
          "data": {
            "text/plain": [
              "XGBClassifier(base_score=0.5, booster='gbtree', colsample_bylevel=1,\n",
              "              colsample_bynode=1, colsample_bytree=1, gamma=0,\n",
              "              learning_rate=0.1, max_delta_step=0, max_depth=3,\n",
              "              min_child_weight=1, missing=None, n_estimators=400, n_jobs=1,\n",
              "              nthread=None, objective='multi:softprob',\n",
              "              predictor='gpu_predictor', random_state=0, reg_alpha=0,\n",
              "              reg_lambda=1, scale_pos_weight=1, seed=None, silent=None,\n",
              "              subsample=1, tree_method='gpu_hist', verbosity=1)"
            ]
          },
          "metadata": {
            "tags": []
          },
          "execution_count": 6
        }
      ]
    },
    {
      "cell_type": "markdown",
      "metadata": {
        "id": "xekQss6bFp65"
      },
      "source": [
        "### evaluate model\n",
        "Finally let's evaluate the model"
      ]
    },
    {
      "cell_type": "code",
      "metadata": {
        "id": "SO-caKnjFlG-",
        "colab": {
          "base_uri": "https://localhost:8080/",
          "height": 34
        },
        "outputId": "dcd0a5df-dbce-4399-a16c-3fdc45c49621"
      },
      "source": [
        "from sklearn.metrics import accuracy_score\n",
        "\n",
        "iris_predictions = model.predict(test_X)\n",
        "accuracy_score(test_y, iris_predictions)"
      ],
      "execution_count": null,
      "outputs": [
        {
          "output_type": "execute_result",
          "data": {
            "text/plain": [
              "0.9666666666666667"
            ]
          },
          "metadata": {
            "tags": []
          },
          "execution_count": 7
        }
      ]
    },
    {
      "cell_type": "markdown",
      "metadata": {
        "id": "hoX-aaylF8He"
      },
      "source": [
        "We ran a state-of-the-art algorithm on a GPU. Yay us!\n",
        "\n",
        "\n",
        "\n",
        "Now we are going to back up quite a bit.\n",
        "\n",
        "#### Bagging and Pasting\n",
        "With bagging and pasting we created a number of decision trees each of which was trained on different data. One tree did not influence the construction of another. Each classifier was independent of the others.\n",
        " \n",
        "\n",
        "#### Boosting\n",
        "Boosting is different. \n",
        "\n",
        "Imagine that we create one decision tree classifier. Let's call it Classifier 1. Classifier 1 doesn't perform with 100% accuracy. \n",
        "\n",
        "Next we create a second decision tree classifier and as part of its training data we will use the instances that Classifier got wrong. Now Classifier 2 isn't perfect either and there will be some instances that both Classifier 1 and Classifier 2 got wrong, and, you guessed it, we will use those instances as part of the training data for Classifier 3.\n",
        "\n",
        "#### 400 Classifiers\n",
        "Suppose we created 400 classifiers using the bagging algorithm. Since each classifier is independent of the others, we can run those 400 in parallel. \n",
        "\n",
        "Now think about boosting for a moment. Can we run those in parallel?\n",
        "\n",
        "Since one classifier is dependent on the errors of the others it seems like we couldn't run them in parallel and doing 400 classifiers in series seems impractical. Fortunately for us, XGBoost has parallelized training!\n",
        "\n",
        "\n",
        "# The task - The Adult Dataset\n",
        "\n",
        "Let's try a bit larger dataset, the [Adult Dataset](http://archive.ics.uci.edu/ml/datasets/Adult). The webpage describes the problem. We are trying to predict whether someone makes more that $50,000 year based on a number of features. The data folder contains both training data `adult.data` and test data `adult.test`. \n",
        "\n",
        "## Prepare the data. "
      ]
    },
    {
      "cell_type": "code",
      "metadata": {
        "id": "6O1qfbyAFvgW",
        "colab": {
          "base_uri": "https://localhost:8080/",
          "height": 554
        },
        "outputId": "b1443fa2-03ea-4dd1-e911-d3af83bb828d"
      },
      "source": [
        "colNames = ['age', 'workclass', 'fnlwgt', 'education', 'education-num', 'marital-status', 'occupation', \n",
        "            'relationship', 'race', 'sex', 'capital-gain', 'capital-loss', 'hours-per-week', 'native-country', 'wage']\n",
        "adult = pd.read_csv('http://archive.ics.uci.edu/ml/machine-learning-databases/adult/adult.data', names=colNames)\n",
        "adult"
      ],
      "execution_count": null,
      "outputs": [
        {
          "output_type": "execute_result",
          "data": {
            "text/html": [
              "<div>\n",
              "<style scoped>\n",
              "    .dataframe tbody tr th:only-of-type {\n",
              "        vertical-align: middle;\n",
              "    }\n",
              "\n",
              "    .dataframe tbody tr th {\n",
              "        vertical-align: top;\n",
              "    }\n",
              "\n",
              "    .dataframe thead th {\n",
              "        text-align: right;\n",
              "    }\n",
              "</style>\n",
              "<table border=\"1\" class=\"dataframe\">\n",
              "  <thead>\n",
              "    <tr style=\"text-align: right;\">\n",
              "      <th></th>\n",
              "      <th>age</th>\n",
              "      <th>workclass</th>\n",
              "      <th>fnlwgt</th>\n",
              "      <th>education</th>\n",
              "      <th>education-num</th>\n",
              "      <th>marital-status</th>\n",
              "      <th>occupation</th>\n",
              "      <th>relationship</th>\n",
              "      <th>race</th>\n",
              "      <th>sex</th>\n",
              "      <th>capital-gain</th>\n",
              "      <th>capital-loss</th>\n",
              "      <th>hours-per-week</th>\n",
              "      <th>native-country</th>\n",
              "      <th>wage</th>\n",
              "    </tr>\n",
              "  </thead>\n",
              "  <tbody>\n",
              "    <tr>\n",
              "      <th>0</th>\n",
              "      <td>39</td>\n",
              "      <td>State-gov</td>\n",
              "      <td>77516</td>\n",
              "      <td>Bachelors</td>\n",
              "      <td>13</td>\n",
              "      <td>Never-married</td>\n",
              "      <td>Adm-clerical</td>\n",
              "      <td>Not-in-family</td>\n",
              "      <td>White</td>\n",
              "      <td>Male</td>\n",
              "      <td>2174</td>\n",
              "      <td>0</td>\n",
              "      <td>40</td>\n",
              "      <td>United-States</td>\n",
              "      <td>&lt;=50K</td>\n",
              "    </tr>\n",
              "    <tr>\n",
              "      <th>1</th>\n",
              "      <td>50</td>\n",
              "      <td>Self-emp-not-inc</td>\n",
              "      <td>83311</td>\n",
              "      <td>Bachelors</td>\n",
              "      <td>13</td>\n",
              "      <td>Married-civ-spouse</td>\n",
              "      <td>Exec-managerial</td>\n",
              "      <td>Husband</td>\n",
              "      <td>White</td>\n",
              "      <td>Male</td>\n",
              "      <td>0</td>\n",
              "      <td>0</td>\n",
              "      <td>13</td>\n",
              "      <td>United-States</td>\n",
              "      <td>&lt;=50K</td>\n",
              "    </tr>\n",
              "    <tr>\n",
              "      <th>2</th>\n",
              "      <td>38</td>\n",
              "      <td>Private</td>\n",
              "      <td>215646</td>\n",
              "      <td>HS-grad</td>\n",
              "      <td>9</td>\n",
              "      <td>Divorced</td>\n",
              "      <td>Handlers-cleaners</td>\n",
              "      <td>Not-in-family</td>\n",
              "      <td>White</td>\n",
              "      <td>Male</td>\n",
              "      <td>0</td>\n",
              "      <td>0</td>\n",
              "      <td>40</td>\n",
              "      <td>United-States</td>\n",
              "      <td>&lt;=50K</td>\n",
              "    </tr>\n",
              "    <tr>\n",
              "      <th>3</th>\n",
              "      <td>53</td>\n",
              "      <td>Private</td>\n",
              "      <td>234721</td>\n",
              "      <td>11th</td>\n",
              "      <td>7</td>\n",
              "      <td>Married-civ-spouse</td>\n",
              "      <td>Handlers-cleaners</td>\n",
              "      <td>Husband</td>\n",
              "      <td>Black</td>\n",
              "      <td>Male</td>\n",
              "      <td>0</td>\n",
              "      <td>0</td>\n",
              "      <td>40</td>\n",
              "      <td>United-States</td>\n",
              "      <td>&lt;=50K</td>\n",
              "    </tr>\n",
              "    <tr>\n",
              "      <th>4</th>\n",
              "      <td>28</td>\n",
              "      <td>Private</td>\n",
              "      <td>338409</td>\n",
              "      <td>Bachelors</td>\n",
              "      <td>13</td>\n",
              "      <td>Married-civ-spouse</td>\n",
              "      <td>Prof-specialty</td>\n",
              "      <td>Wife</td>\n",
              "      <td>Black</td>\n",
              "      <td>Female</td>\n",
              "      <td>0</td>\n",
              "      <td>0</td>\n",
              "      <td>40</td>\n",
              "      <td>Cuba</td>\n",
              "      <td>&lt;=50K</td>\n",
              "    </tr>\n",
              "    <tr>\n",
              "      <th>...</th>\n",
              "      <td>...</td>\n",
              "      <td>...</td>\n",
              "      <td>...</td>\n",
              "      <td>...</td>\n",
              "      <td>...</td>\n",
              "      <td>...</td>\n",
              "      <td>...</td>\n",
              "      <td>...</td>\n",
              "      <td>...</td>\n",
              "      <td>...</td>\n",
              "      <td>...</td>\n",
              "      <td>...</td>\n",
              "      <td>...</td>\n",
              "      <td>...</td>\n",
              "      <td>...</td>\n",
              "    </tr>\n",
              "    <tr>\n",
              "      <th>32556</th>\n",
              "      <td>27</td>\n",
              "      <td>Private</td>\n",
              "      <td>257302</td>\n",
              "      <td>Assoc-acdm</td>\n",
              "      <td>12</td>\n",
              "      <td>Married-civ-spouse</td>\n",
              "      <td>Tech-support</td>\n",
              "      <td>Wife</td>\n",
              "      <td>White</td>\n",
              "      <td>Female</td>\n",
              "      <td>0</td>\n",
              "      <td>0</td>\n",
              "      <td>38</td>\n",
              "      <td>United-States</td>\n",
              "      <td>&lt;=50K</td>\n",
              "    </tr>\n",
              "    <tr>\n",
              "      <th>32557</th>\n",
              "      <td>40</td>\n",
              "      <td>Private</td>\n",
              "      <td>154374</td>\n",
              "      <td>HS-grad</td>\n",
              "      <td>9</td>\n",
              "      <td>Married-civ-spouse</td>\n",
              "      <td>Machine-op-inspct</td>\n",
              "      <td>Husband</td>\n",
              "      <td>White</td>\n",
              "      <td>Male</td>\n",
              "      <td>0</td>\n",
              "      <td>0</td>\n",
              "      <td>40</td>\n",
              "      <td>United-States</td>\n",
              "      <td>&gt;50K</td>\n",
              "    </tr>\n",
              "    <tr>\n",
              "      <th>32558</th>\n",
              "      <td>58</td>\n",
              "      <td>Private</td>\n",
              "      <td>151910</td>\n",
              "      <td>HS-grad</td>\n",
              "      <td>9</td>\n",
              "      <td>Widowed</td>\n",
              "      <td>Adm-clerical</td>\n",
              "      <td>Unmarried</td>\n",
              "      <td>White</td>\n",
              "      <td>Female</td>\n",
              "      <td>0</td>\n",
              "      <td>0</td>\n",
              "      <td>40</td>\n",
              "      <td>United-States</td>\n",
              "      <td>&lt;=50K</td>\n",
              "    </tr>\n",
              "    <tr>\n",
              "      <th>32559</th>\n",
              "      <td>22</td>\n",
              "      <td>Private</td>\n",
              "      <td>201490</td>\n",
              "      <td>HS-grad</td>\n",
              "      <td>9</td>\n",
              "      <td>Never-married</td>\n",
              "      <td>Adm-clerical</td>\n",
              "      <td>Own-child</td>\n",
              "      <td>White</td>\n",
              "      <td>Male</td>\n",
              "      <td>0</td>\n",
              "      <td>0</td>\n",
              "      <td>20</td>\n",
              "      <td>United-States</td>\n",
              "      <td>&lt;=50K</td>\n",
              "    </tr>\n",
              "    <tr>\n",
              "      <th>32560</th>\n",
              "      <td>52</td>\n",
              "      <td>Self-emp-inc</td>\n",
              "      <td>287927</td>\n",
              "      <td>HS-grad</td>\n",
              "      <td>9</td>\n",
              "      <td>Married-civ-spouse</td>\n",
              "      <td>Exec-managerial</td>\n",
              "      <td>Wife</td>\n",
              "      <td>White</td>\n",
              "      <td>Female</td>\n",
              "      <td>15024</td>\n",
              "      <td>0</td>\n",
              "      <td>40</td>\n",
              "      <td>United-States</td>\n",
              "      <td>&gt;50K</td>\n",
              "    </tr>\n",
              "  </tbody>\n",
              "</table>\n",
              "<p>32561 rows × 15 columns</p>\n",
              "</div>"
            ],
            "text/plain": [
              "       age          workclass  fnlwgt  ... hours-per-week  native-country    wage\n",
              "0       39          State-gov   77516  ...             40   United-States   <=50K\n",
              "1       50   Self-emp-not-inc   83311  ...             13   United-States   <=50K\n",
              "2       38            Private  215646  ...             40   United-States   <=50K\n",
              "3       53            Private  234721  ...             40   United-States   <=50K\n",
              "4       28            Private  338409  ...             40            Cuba   <=50K\n",
              "...    ...                ...     ...  ...            ...             ...     ...\n",
              "32556   27            Private  257302  ...             38   United-States   <=50K\n",
              "32557   40            Private  154374  ...             40   United-States    >50K\n",
              "32558   58            Private  151910  ...             40   United-States   <=50K\n",
              "32559   22            Private  201490  ...             20   United-States   <=50K\n",
              "32560   52       Self-emp-inc  287927  ...             40   United-States    >50K\n",
              "\n",
              "[32561 rows x 15 columns]"
            ]
          },
          "metadata": {
            "tags": []
          },
          "execution_count": 8
        }
      ]
    },
    {
      "cell_type": "markdown",
      "metadata": {
        "id": "y-Iodm2UOrs7"
      },
      "source": [
        "## divide features and labels\n",
        "let's create 2 DataFrames, one for the features and one for the labels"
      ]
    },
    {
      "cell_type": "code",
      "metadata": {
        "id": "8I01XNJzPOI2",
        "colab": {
          "base_uri": "https://localhost:8080/",
          "height": 417
        },
        "outputId": "2303a972-0edb-403d-a5a2-900dcbbf50e4"
      },
      "source": [
        "adult_features = adult.drop('wage', axis=1)\n",
        "adult_labels = adult['wage']\n",
        "adult_features"
      ],
      "execution_count": null,
      "outputs": [
        {
          "output_type": "execute_result",
          "data": {
            "text/html": [
              "<div>\n",
              "<style scoped>\n",
              "    .dataframe tbody tr th:only-of-type {\n",
              "        vertical-align: middle;\n",
              "    }\n",
              "\n",
              "    .dataframe tbody tr th {\n",
              "        vertical-align: top;\n",
              "    }\n",
              "\n",
              "    .dataframe thead th {\n",
              "        text-align: right;\n",
              "    }\n",
              "</style>\n",
              "<table border=\"1\" class=\"dataframe\">\n",
              "  <thead>\n",
              "    <tr style=\"text-align: right;\">\n",
              "      <th></th>\n",
              "      <th>age</th>\n",
              "      <th>workclass</th>\n",
              "      <th>fnlwgt</th>\n",
              "      <th>education</th>\n",
              "      <th>education-num</th>\n",
              "      <th>marital-status</th>\n",
              "      <th>occupation</th>\n",
              "      <th>relationship</th>\n",
              "      <th>race</th>\n",
              "      <th>sex</th>\n",
              "      <th>capital-gain</th>\n",
              "      <th>capital-loss</th>\n",
              "      <th>hours-per-week</th>\n",
              "      <th>native-country</th>\n",
              "    </tr>\n",
              "  </thead>\n",
              "  <tbody>\n",
              "    <tr>\n",
              "      <th>0</th>\n",
              "      <td>39</td>\n",
              "      <td>State-gov</td>\n",
              "      <td>77516</td>\n",
              "      <td>Bachelors</td>\n",
              "      <td>13</td>\n",
              "      <td>Never-married</td>\n",
              "      <td>Adm-clerical</td>\n",
              "      <td>Not-in-family</td>\n",
              "      <td>White</td>\n",
              "      <td>Male</td>\n",
              "      <td>2174</td>\n",
              "      <td>0</td>\n",
              "      <td>40</td>\n",
              "      <td>United-States</td>\n",
              "    </tr>\n",
              "    <tr>\n",
              "      <th>1</th>\n",
              "      <td>50</td>\n",
              "      <td>Self-emp-not-inc</td>\n",
              "      <td>83311</td>\n",
              "      <td>Bachelors</td>\n",
              "      <td>13</td>\n",
              "      <td>Married-civ-spouse</td>\n",
              "      <td>Exec-managerial</td>\n",
              "      <td>Husband</td>\n",
              "      <td>White</td>\n",
              "      <td>Male</td>\n",
              "      <td>0</td>\n",
              "      <td>0</td>\n",
              "      <td>13</td>\n",
              "      <td>United-States</td>\n",
              "    </tr>\n",
              "    <tr>\n",
              "      <th>2</th>\n",
              "      <td>38</td>\n",
              "      <td>Private</td>\n",
              "      <td>215646</td>\n",
              "      <td>HS-grad</td>\n",
              "      <td>9</td>\n",
              "      <td>Divorced</td>\n",
              "      <td>Handlers-cleaners</td>\n",
              "      <td>Not-in-family</td>\n",
              "      <td>White</td>\n",
              "      <td>Male</td>\n",
              "      <td>0</td>\n",
              "      <td>0</td>\n",
              "      <td>40</td>\n",
              "      <td>United-States</td>\n",
              "    </tr>\n",
              "    <tr>\n",
              "      <th>3</th>\n",
              "      <td>53</td>\n",
              "      <td>Private</td>\n",
              "      <td>234721</td>\n",
              "      <td>11th</td>\n",
              "      <td>7</td>\n",
              "      <td>Married-civ-spouse</td>\n",
              "      <td>Handlers-cleaners</td>\n",
              "      <td>Husband</td>\n",
              "      <td>Black</td>\n",
              "      <td>Male</td>\n",
              "      <td>0</td>\n",
              "      <td>0</td>\n",
              "      <td>40</td>\n",
              "      <td>United-States</td>\n",
              "    </tr>\n",
              "    <tr>\n",
              "      <th>4</th>\n",
              "      <td>28</td>\n",
              "      <td>Private</td>\n",
              "      <td>338409</td>\n",
              "      <td>Bachelors</td>\n",
              "      <td>13</td>\n",
              "      <td>Married-civ-spouse</td>\n",
              "      <td>Prof-specialty</td>\n",
              "      <td>Wife</td>\n",
              "      <td>Black</td>\n",
              "      <td>Female</td>\n",
              "      <td>0</td>\n",
              "      <td>0</td>\n",
              "      <td>40</td>\n",
              "      <td>Cuba</td>\n",
              "    </tr>\n",
              "    <tr>\n",
              "      <th>...</th>\n",
              "      <td>...</td>\n",
              "      <td>...</td>\n",
              "      <td>...</td>\n",
              "      <td>...</td>\n",
              "      <td>...</td>\n",
              "      <td>...</td>\n",
              "      <td>...</td>\n",
              "      <td>...</td>\n",
              "      <td>...</td>\n",
              "      <td>...</td>\n",
              "      <td>...</td>\n",
              "      <td>...</td>\n",
              "      <td>...</td>\n",
              "      <td>...</td>\n",
              "    </tr>\n",
              "    <tr>\n",
              "      <th>32556</th>\n",
              "      <td>27</td>\n",
              "      <td>Private</td>\n",
              "      <td>257302</td>\n",
              "      <td>Assoc-acdm</td>\n",
              "      <td>12</td>\n",
              "      <td>Married-civ-spouse</td>\n",
              "      <td>Tech-support</td>\n",
              "      <td>Wife</td>\n",
              "      <td>White</td>\n",
              "      <td>Female</td>\n",
              "      <td>0</td>\n",
              "      <td>0</td>\n",
              "      <td>38</td>\n",
              "      <td>United-States</td>\n",
              "    </tr>\n",
              "    <tr>\n",
              "      <th>32557</th>\n",
              "      <td>40</td>\n",
              "      <td>Private</td>\n",
              "      <td>154374</td>\n",
              "      <td>HS-grad</td>\n",
              "      <td>9</td>\n",
              "      <td>Married-civ-spouse</td>\n",
              "      <td>Machine-op-inspct</td>\n",
              "      <td>Husband</td>\n",
              "      <td>White</td>\n",
              "      <td>Male</td>\n",
              "      <td>0</td>\n",
              "      <td>0</td>\n",
              "      <td>40</td>\n",
              "      <td>United-States</td>\n",
              "    </tr>\n",
              "    <tr>\n",
              "      <th>32558</th>\n",
              "      <td>58</td>\n",
              "      <td>Private</td>\n",
              "      <td>151910</td>\n",
              "      <td>HS-grad</td>\n",
              "      <td>9</td>\n",
              "      <td>Widowed</td>\n",
              "      <td>Adm-clerical</td>\n",
              "      <td>Unmarried</td>\n",
              "      <td>White</td>\n",
              "      <td>Female</td>\n",
              "      <td>0</td>\n",
              "      <td>0</td>\n",
              "      <td>40</td>\n",
              "      <td>United-States</td>\n",
              "    </tr>\n",
              "    <tr>\n",
              "      <th>32559</th>\n",
              "      <td>22</td>\n",
              "      <td>Private</td>\n",
              "      <td>201490</td>\n",
              "      <td>HS-grad</td>\n",
              "      <td>9</td>\n",
              "      <td>Never-married</td>\n",
              "      <td>Adm-clerical</td>\n",
              "      <td>Own-child</td>\n",
              "      <td>White</td>\n",
              "      <td>Male</td>\n",
              "      <td>0</td>\n",
              "      <td>0</td>\n",
              "      <td>20</td>\n",
              "      <td>United-States</td>\n",
              "    </tr>\n",
              "    <tr>\n",
              "      <th>32560</th>\n",
              "      <td>52</td>\n",
              "      <td>Self-emp-inc</td>\n",
              "      <td>287927</td>\n",
              "      <td>HS-grad</td>\n",
              "      <td>9</td>\n",
              "      <td>Married-civ-spouse</td>\n",
              "      <td>Exec-managerial</td>\n",
              "      <td>Wife</td>\n",
              "      <td>White</td>\n",
              "      <td>Female</td>\n",
              "      <td>15024</td>\n",
              "      <td>0</td>\n",
              "      <td>40</td>\n",
              "      <td>United-States</td>\n",
              "    </tr>\n",
              "  </tbody>\n",
              "</table>\n",
              "<p>32561 rows × 14 columns</p>\n",
              "</div>"
            ],
            "text/plain": [
              "       age          workclass  ...  hours-per-week  native-country\n",
              "0       39          State-gov  ...              40   United-States\n",
              "1       50   Self-emp-not-inc  ...              13   United-States\n",
              "2       38            Private  ...              40   United-States\n",
              "3       53            Private  ...              40   United-States\n",
              "4       28            Private  ...              40            Cuba\n",
              "...    ...                ...  ...             ...             ...\n",
              "32556   27            Private  ...              38   United-States\n",
              "32557   40            Private  ...              40   United-States\n",
              "32558   58            Private  ...              40   United-States\n",
              "32559   22            Private  ...              20   United-States\n",
              "32560   52       Self-emp-inc  ...              40   United-States\n",
              "\n",
              "[32561 rows x 14 columns]"
            ]
          },
          "metadata": {
            "tags": []
          },
          "execution_count": 18
        }
      ]
    },
    {
      "cell_type": "markdown",
      "metadata": {
        "id": "hRTPkOHzNITR"
      },
      "source": [
        "Now let's one hot encode the features using sklearn's OneHotEncoder.\n"
      ]
    },
    {
      "cell_type": "code",
      "metadata": {
        "id": "JCItEsf8K2TZ",
        "colab": {
          "base_uri": "https://localhost:8080/",
          "height": 51
        },
        "outputId": "6aadb4c7-1c2e-4724-b644-7d0aeda6c936"
      },
      "source": [
        "#TODO  \n",
        "\n",
        "\n",
        "adultSparse = \"TO DO\"\n",
        "adultSparse"
      ],
      "execution_count": null,
      "outputs": [
        {
          "output_type": "execute_result",
          "data": {
            "text/plain": [
              "<32561x22144 sparse matrix of type '<class 'numpy.float64'>'\n",
              "\twith 455854 stored elements in Compressed Sparse Row format>"
            ]
          },
          "metadata": {
            "tags": []
          },
          "execution_count": 19
        }
      ]
    },
    {
      "cell_type": "markdown",
      "metadata": {
        "id": "QZyAn3WLZMqV"
      },
      "source": [
        "Fantastic!  \n",
        "\n",
        "Let's go ahead divide this up into training and test sets (Notice that this is a bit different than we have been doing it.\n",
        "\n"
      ]
    },
    {
      "cell_type": "code",
      "metadata": {
        "id": "pc-AXr9FZGhW",
        "colab": {
          "base_uri": "https://localhost:8080/",
          "height": 51
        },
        "outputId": "c786231e-9439-4054-ddb3-882dc077dbce"
      },
      "source": [
        "from sklearn.model_selection import train_test_split\n",
        "adult_train_features, adult_test_features, adult_train_labels, adult_test_labels = train_test_split(adultSparse, adult_labels, test_size = 0.7)\n",
        "adult_train_features"
      ],
      "execution_count": null,
      "outputs": [
        {
          "output_type": "execute_result",
          "data": {
            "text/plain": [
              "<9768x22144 sparse matrix of type '<class 'numpy.float64'>'\n",
              "\twith 136752 stored elements in Compressed Sparse Row format>"
            ]
          },
          "metadata": {
            "tags": []
          },
          "execution_count": 29
        }
      ]
    },
    {
      "cell_type": "markdown",
      "metadata": {
        "id": "fRDTurCqa9nq"
      },
      "source": [
        "You may have noticed that we put a whopping 70% of the data in the test set. We did this because when we are just playing with things to gain an understanding we don't want to wait hours for a result.\n",
        "\n",
        "Create an XGBoost classifier called model with the parameters:\n",
        "\n",
        "* `tree_method: gpu_hist`\n",
        "* `predictor: gpu_predictor`"
      ]
    },
    {
      "cell_type": "code",
      "metadata": {
        "id": "1Py0OOb5aBy3"
      },
      "source": [
        "## TO DO call it model\n"
      ],
      "execution_count": null,
      "outputs": []
    },
    {
      "cell_type": "markdown",
      "metadata": {
        "id": "eks7EiOebgkj"
      },
      "source": [
        "Now let's say we want to find the best hyperparameter values for \n",
        "\n",
        "* n_estimators -- let's try 50, 100, 150, 200\n",
        "* max_depth -- let's try 2, 4, 6, 8\n",
        "\n",
        "\n",
        "Go ahead and create the `param_grid`"
      ]
    },
    {
      "cell_type": "code",
      "metadata": {
        "id": "JkqwXndrbfhP"
      },
      "source": [
        "# TODO\n",
        "\n"
      ],
      "execution_count": null,
      "outputs": []
    },
    {
      "cell_type": "markdown",
      "metadata": {
        "id": "b4GoFt4hc4zt"
      },
      "source": [
        "\n",
        "\n",
        "### Time Constraint\n",
        "\n",
        "Even with a GPU it is going to take a long time to do an exhaustive search of which parameters are best. There are 16 possible combinations. We may want 5 fold cross validation. That is 80 fits, each of which is creating on average 100 classifiers. And we have around 20,000 instances in our training data. Let's pick a random smaller set of combinations to test.  Let's say we want the search algorithm to select 5 combinations of hyperparameters `param_comb` at random.\n"
      ]
    },
    {
      "cell_type": "code",
      "metadata": {
        "id": "gZkjYTZHc1iP"
      },
      "source": [
        "# TO DO\n",
        "from sklearn.model_selection import StratifiedKFold\n",
        "from sklearn.model_selection import RandomizedSearchCV\n",
        "param_comb = 5\n",
        "folds=5\n",
        "skf = StratifiedKFold(n_splits=folds, shuffle = True, random_state = 1001)\n",
        "random_search = RandomizedSearchCV(model, param_distributions=param_grid, n_iter=param_comb,  n_jobs=-1, \n",
        "                                   cv=skf.split(adult_train_features,adult_train_labels), verbose=3)"
      ],
      "execution_count": null,
      "outputs": []
    },
    {
      "cell_type": "markdown",
      "metadata": {
        "id": "3syNvBizdMYj"
      },
      "source": [
        "Let's fit the model (this will take awhile)"
      ]
    },
    {
      "cell_type": "code",
      "metadata": {
        "id": "BVxaKf8OdK9n",
        "colab": {
          "base_uri": "https://localhost:8080/",
          "height": 157
        },
        "outputId": "2e668137-b516-4d8e-994a-af1871714084"
      },
      "source": [
        "%%time \n",
        "grid_result = random_search.fit(adult_train_features, adult_train_labels)\n"
      ],
      "execution_count": null,
      "outputs": [
        {
          "output_type": "stream",
          "text": [
            "Fitting 5 folds for each of 5 candidates, totalling 25 fits\n"
          ],
          "name": "stdout"
        },
        {
          "output_type": "stream",
          "text": [
            "[Parallel(n_jobs=-1)]: Using backend LokyBackend with 2 concurrent workers.\n",
            "/usr/local/lib/python3.6/dist-packages/joblib/externals/loky/process_executor.py:691: UserWarning: A worker stopped while some jobs were given to the executor. This can be caused by a too short worker timeout or by a memory leak.\n",
            "  \"timeout or by a memory leak.\", UserWarning\n",
            "[Parallel(n_jobs=-1)]: Done  25 out of  25 | elapsed:  8.1min finished\n"
          ],
          "name": "stderr"
        },
        {
          "output_type": "stream",
          "text": [
            "CPU times: user 24 s, sys: 19.3 s, total: 43.3 s\n",
            "Wall time: 8min 47s\n"
          ],
          "name": "stdout"
        }
      ]
    },
    {
      "cell_type": "markdown",
      "metadata": {
        "id": "lhJmfE6gM6IJ"
      },
      "source": [
        "Now let's see what the best parameters are, make predictions on our test data, and check accuracy..."
      ]
    },
    {
      "cell_type": "code",
      "metadata": {
        "id": "CFPTUpq_dT0s",
        "colab": {
          "base_uri": "https://localhost:8080/",
          "height": 34
        },
        "outputId": "c2a87777-7ebe-4e22-c72d-305b1c4b593d"
      },
      "source": [
        "random_search.best_params_"
      ],
      "execution_count": null,
      "outputs": [
        {
          "output_type": "execute_result",
          "data": {
            "text/plain": [
              "{'max_depth': 8, 'n_estimators': 200}"
            ]
          },
          "metadata": {
            "tags": []
          },
          "execution_count": 34
        }
      ]
    },
    {
      "cell_type": "code",
      "metadata": {
        "id": "PTboDXG8xsRV"
      },
      "source": [
        "predictions = random_search.best_estimator_.predict(adult_test_features)"
      ],
      "execution_count": null,
      "outputs": []
    },
    {
      "cell_type": "code",
      "metadata": {
        "id": "dA0tfa2n7t2w",
        "colab": {
          "base_uri": "https://localhost:8080/",
          "height": 34
        },
        "outputId": "deb9a6ff-6726-4902-aae7-74149e956454"
      },
      "source": [
        "accuracy_score(adult_test_labels, predictions)"
      ],
      "execution_count": null,
      "outputs": [
        {
          "output_type": "execute_result",
          "data": {
            "text/plain": [
              "0.8616680559820997"
            ]
          },
          "metadata": {
            "tags": []
          },
          "execution_count": 36
        }
      ]
    },
    {
      "cell_type": "markdown",
      "metadata": {
        "id": "zmC50ToeLn7S"
      },
      "source": [
        "### This ends our first look at XGBoost\n",
        "T\n"
      ]
    },
    {
      "cell_type": "code",
      "metadata": {
        "id": "UTPwWCmh7y8k"
      },
      "source": [
        ""
      ],
      "execution_count": null,
      "outputs": []
    }
  ]
}