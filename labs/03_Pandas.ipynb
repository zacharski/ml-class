{
 "cells": [
  {
   "cell_type": "markdown",
   "metadata": {
    "id": "Q-Rl8kzb5_52"
   },
   "source": [
    "# Intro to Pandas\n",
    "\n",
    "![](https://raw.githubusercontent.com/zacharski/datamining-guide/master/labs/pics/pandas-logo-2.png)\n",
    "\n",
    "<font size='0.85em'>(logo by [Marc Garcia](https://github.com/pandas-dev/pandas/blob/master/web/pandas/static/img/pandas.svg))</font> \n",
    "\n",
    "\n",
    "> A suggestion: This worksheet is organized in a way that, hopefully, best presents the topics and not in a way that is the most useful for reference. As you progress through this worksheet, your future you will find it useful if you create your own notes so that you can quickly find the relevant information. These notes might take the form of a separate Google Colab notebook or handwritten notes. In addition, just the activity of taking notes will help you retain the information.\n",
    "\n",
    "The Pandas Library is built on top of Numpy and is designed to make working with data fast and easy. Like Numpy, the library includes data structures and functions to manipulate that data.\n",
    "\n",
    "As we learned in the Numpy Notebook, we need to load in the library before we can use it."
   ]
  },
  {
   "cell_type": "code",
   "execution_count": null,
   "metadata": {
    "id": "lppgxVqU5_57"
   },
   "outputs": [],
   "source": [
    "from pandas import Series, DataFrame\n",
    "import numpy as np\n",
    "import pandas as pd"
   ]
  },
  {
   "cell_type": "markdown",
   "metadata": {
    "id": "V5Th0Kjp5_5-"
   },
   "source": [
    "Let's dissect the code above.\n",
    "\n",
    "The `Series` and `DataFrame` datatypes are commonly used so we import them directly with\n",
    "\n",
    "```\n",
    "from pandas import Series, DataFrame\n",
    "```\n",
    "\n",
    "For all other datatypes and functions in the library, the `pd` prefix is commonly used so we import that with\n",
    "\n",
    "```\n",
    "import pandas as pd\n",
    "```\n",
    "\n",
    "## Series\n",
    "A series is a 1d array-like object\n",
    "\n",
    "Let's consider the heights (in cm) of the members of the Japan's Women's Basketball Team at the 2020 Olympics (they won the silver medal).      \n",
    "\n",
    "![](https://raw.githubusercontent.com/zacharski/datamining-guide/master/labs/pics/basketball2020.png)\n",
    "We can create a series in a number of ways.\n",
    "\n",
    "For example, we can create it directly from a Python list"
   ]
  },
  {
   "cell_type": "code",
   "execution_count": null,
   "metadata": {
    "id": "sdvQNSrr5_5_"
   },
   "outputs": [],
   "source": [
    "japan = [183, 185, 167, 162, 165, 174, 173, 181, 167, 183, 185, 182] # a Python list\n",
    "athletesHeight = Series(japan) # converted to a Pandas Series"
   ]
  },
  {
   "cell_type": "markdown",
   "metadata": {
    "id": "Szaal64L5_5_"
   },
   "source": [
    "We could also have done"
   ]
  },
  {
   "cell_type": "code",
   "execution_count": null,
   "metadata": {
    "id": "gqWTF-8H5_5_"
   },
   "outputs": [],
   "source": [
    "athletesHeight = Series([183, 185, 167, 162, 165, 174, 173, 181, 167, 183, 185, 182])"
   ]
  },
  {
   "cell_type": "markdown",
   "metadata": {
    "id": "x2gRLx7E5_6E"
   },
   "source": [
    "In either case we can see the value of the Series `athletesHeight`"
   ]
  },
  {
   "cell_type": "code",
   "execution_count": null,
   "metadata": {
    "colab": {
     "base_uri": "https://localhost:8080/"
    },
    "id": "TfYxpgAC5_6F",
    "outputId": "ad1826d9-7c6d-4c9a-b405-3ee5213ca927"
   },
   "outputs": [],
   "source": [
    " athletesHeight"
   ]
  },
  {
   "cell_type": "markdown",
   "metadata": {
    "id": "Ux4Jf9aP5_6G"
   },
   "source": [
    "You are probably familiar with arrays in programming languages and this works in a similar way. The left number is the index and the right the value. And we can find the value at a particular index by the usual:"
   ]
  },
  {
   "cell_type": "code",
   "execution_count": null,
   "metadata": {
    "colab": {
     "base_uri": "https://localhost:8080/"
    },
    "id": "OQBLBpQj5_6H",
    "outputId": "01f04053-e9d0-4f0a-df02-dcc81c198b48"
   },
   "outputs": [],
   "source": [
    "athletesHeight[3]"
   ]
  },
  {
   "cell_type": "markdown",
   "metadata": {
    "collapsed": true,
    "id": "S9BpB2Mf5_6H"
   },
   "source": [
    "#### specifying indices\n",
    "Instead of the index 0, 1, 2, 3 ... you can specify your own index values. For example, we can label them 'Moeko Nagaoka', 'Maki Takada', 'Naho Miyoshi' ... etc. "
   ]
  },
  {
   "cell_type": "code",
   "execution_count": null,
   "metadata": {
    "colab": {
     "base_uri": "https://localhost:8080/"
    },
    "id": "-Enao90q5_6I",
    "outputId": "05e5c90c-22cd-42b2-ecc0-352634bcf356"
   },
   "outputs": [],
   "source": [
    "athletes2 = Series(japan, index = ['Moeko Nagaoka', 'Maki Takada', 'Naho Miyoshi', \n",
    "                                   'Rui Machida', 'Nako Motohashi', 'Nanaka Todo', \n",
    "                                   'Saki Hayashi','Evelyn Mawuli', 'Saori Miyazaki', 'Yuki Miyazawa', 'Himawari Akaho', \n",
    "                                   'Monica Okoye'])\n",
    "athletes2"
   ]
  },
  {
   "cell_type": "markdown",
   "metadata": {
    "id": "w6jOkNbJ5_6I"
   },
   "source": [
    "The names we see are not another column of the data. We can see the shape of athletes2 by:"
   ]
  },
  {
   "cell_type": "code",
   "execution_count": null,
   "metadata": {
    "colab": {
     "base_uri": "https://localhost:8080/"
    },
    "id": "s4zOW58H5_6I",
    "outputId": "030b9cf7-2e28-4b80-d0ee-736056ca65fc"
   },
   "outputs": [],
   "source": [
    "athletes2.shape"
   ]
  },
  {
   "cell_type": "markdown",
   "metadata": {
    "id": "0Rbf4ALF5_6I"
   },
   "source": [
    "This shows that athletes2 is a one dimensional matrix and that dimension has a length of 12. So the names we see are not values in a column but rather the indices.\n",
    "\n",
    "\n",
    "Let's use the index to get the Height of Himawari Akaho:"
   ]
  },
  {
   "cell_type": "code",
   "execution_count": null,
   "metadata": {
    "colab": {
     "base_uri": "https://localhost:8080/"
    },
    "id": "qGSUN9nk5_6I",
    "outputId": "7ecfc2a9-3a4c-4424-f7a9-5e5a018b3e79"
   },
   "outputs": [],
   "source": [
    "athletes2['Himawari Akaho']"
   ]
  },
  {
   "cell_type": "markdown",
   "metadata": {
    "id": "jsnoRfoB5_6I"
   },
   "source": [
    "\n",
    "![](https://raw.githubusercontent.com/zacharski/datamining-guide/master/labs/pics/divider.png)\n",
    "## DataFrame\n",
    "DataFrames are **the most important data structure of Pandas** and are simply\n",
    "a table or spreadsheet like structure.  A DataFrame represents a table like:\n",
    "![](https://raw.githubusercontent.com/zacharski/datamining-guide/master/labs/pics/ioniq5s.png)\n",
    "\n",
    "Make | Drive | Range | Battery_kwH | PeakPower_kW | MPGe | 0-60\n",
    ":---- | :--- | ---: | ---: | ---: | ---: | ---:\n",
    "Ioniq 5 | AWD | 256 | 77.4 | 239 | 98 | 5.0\n",
    "Tesla Model 3 | AWD | 315 | 80 | 298 | 113 | 3.1\n",
    "Rivian R1T | AWD | 316 | 135 | 562 | 70 | 3.0 \n",
    "VW ID.4 | RWD | 260 | 82 | 260 | 107 |  7.7\n",
    "F150 Lightning | AWD | 230 | 110 | 318 | 68 | 4.0\n",
    "\n",
    "### Creating a DataFrame by Hand\n",
    "\n",
    "A common way to create a DataFrame is to use a Python dictionary as follows:"
   ]
  },
  {
   "cell_type": "code",
   "execution_count": null,
   "metadata": {
    "id": "vrBTdvff5_6J"
   },
   "outputs": [],
   "source": [
    " cars = {'Make': ['Ioniq 5', 'Tesla Model 3', 'Rivian R1T', 'VW ID.4', 'F150 Lightning'],\n",
    "         'Drive': ['AWD', 'AWD', 'AWD', 'RWD', 'AWD'],\n",
    "         'Range': [256, 315, 316, 260, 230],\n",
    "         'Battery_kwH': [77.4, 80, 135, 82, 110],\n",
    "         'PeakPower_kW': [239, 298, 562, 260, 318],\n",
    "         'MPGe': [98, 113, 70, 107, 68],\n",
    "         '0-60': [5.0, 3.1, 3.0, 7.7, 4.0]}\n"
   ]
  },
  {
   "cell_type": "markdown",
   "metadata": {
    "id": "EdgC4ps_5_6J"
   },
   "source": [
    "and now we can create a DataFrame from the `cars` Python dictionary:"
   ]
  },
  {
   "cell_type": "code",
   "execution_count": null,
   "metadata": {
    "colab": {
     "base_uri": "https://localhost:8080/",
     "height": 206
    },
    "id": "rXSEGWrE5_6J",
    "outputId": "5995da11-30f3-42f6-f3a6-941f74ba8b6e"
   },
   "outputs": [],
   "source": [
    "df = DataFrame(cars)\n",
    "df\n"
   ]
  },
  {
   "cell_type": "markdown",
   "metadata": {
    "id": "jEg3Sf9b5_6L"
   },
   "source": [
    "Prior to my life with Pandas, I would represent a table like the above one as:"
   ]
  },
  {
   "cell_type": "code",
   "execution_count": null,
   "metadata": {
    "colab": {
     "base_uri": "https://localhost:8080/",
     "height": 35
    },
    "id": "S9ZOpv1s5_6N",
    "outputId": "e80d9ef1-5f09-44cd-a48f-9f01bae35790"
   },
   "outputs": [],
   "source": [
    "prePandas = [{'Make': 'Ioniq 5', 'Drive': 'AWD', 'Range': 256, 'Battery_kwH': 77.4, 'PeakPower_kW': 98, 'MPGe': 98, '0-60': 5.0},\n",
    "             {'Make': 'Tesla Model 3', 'Drive': 'AWD', 'Range': 315, 'Battery_kwH': 80.0, 'PeakPower_kW': 113,'MPGe': 113, '0-60': 3.1},\n",
    "             {'Make': 'Rivian R1T', 'Drive': 'AWD', 'Range': 316, 'Battery_kwH': 135.0, 'PeakPower_kW': 562,'MPGe': 70, '0-60': 3.0},\n",
    "             {'Make': 'VW ID.4', 'Drive': 'RWD', 'Range': 260, 'Battery_kwH': 82.0, 'PeakPower_kW': 260,'MPGe': 107, '0-60': 7.7},\n",
    "             {'Make': 'F150 Lightning', 'Drive': 'AWD', 'Range': 230, 'Battery_kwH': 110.0, 'PeakPower_kW': 318,'MPGe': 68, '0-60': 4.0}]\n",
    "\n",
    "\n",
    "prePandas[0]['Make']"
   ]
  },
  {
   "cell_type": "markdown",
   "metadata": {
    "id": "nn_l6LeM5_6N"
   },
   "source": [
    "In the prePandas scheme the data is organized first by rows. That seemed logical to me since each row represents an object and is how we organize data in an SQL database. In the Pandas representation the data is organized by columns. \n"
   ]
  },
  {
   "cell_type": "markdown",
   "metadata": {
    "id": "jF0ki9F-5_6R"
   },
   "source": [
    "\n",
    "![](https://raw.githubusercontent.com/zacharski/datamining-guide/master/labs/pics/divider.png)\n",
    "\n",
    "## Reading data from a csv file:\n",
    "\n",
    "A CSV file (comma separated values) is a common data format for data science files. As| the name suggests, the data values in a row are separated by commas. For example, the data file to represent the table:\n",
    "\n",
    "\n",
    "Make | Drive | Range | Battery_kwH | PeakPower_kW | MPGe | 0-60\n",
    ":---- | :--- | ---: | ---: | ---: | ---: | ---:\n",
    "Ioniq 5 | AWD | 256 | 77.4 | 239 | 98 | 5.0\n",
    "Tesla Model 3 | AWD | 315 | 80 | 298 | 113 | 3.1\n",
    "Rivian R1T | AWD | 316 | 135 | 562 | 70 | 3.0 \n",
    "VW ID.4 | RWD | 260 | 82 | 260 | 107 |  7.7\n",
    "F150 Lightning | AWD | 230 | 110 | 318 | 68 | 4.0\n",
    "\n",
    "\n",
    "would be\n",
    "\n",
    "```\n",
    "Make,Drive,Range,Battery_kwH,PeakPower_kW,MPGe,0-60\n",
    "Ioniq 5,AWD,256,77.4,239,98,5.0\n",
    "Tesla Model 3,AWD,315,80,298,113,3.1\n",
    "Rivian R1T,AWD,316,135,562,70,3.0 \n",
    "VW ID.4,RWD,260,82,260,107,7.7\n",
    "F150 Lightning,AWD,230,110,318,68,4.0\n",
    "\n",
    "```\n",
    "\n",
    "\n",
    "As the name suggests, we use the `pd.read_csv` function to read a csv file.  `pd.read_csv` can read a csv file from either your local machine or the web. Let's start with the web.\n",
    "\n",
    "### Reading a CSV file from the web.\n",
    "To read a file from the web, we simply provide a URL:\n"
   ]
  },
  {
   "cell_type": "code",
   "execution_count": null,
   "metadata": {
    "colab": {
     "base_uri": "https://localhost:8080/",
     "height": 424
    },
    "id": "aI_DSjQi5_6S",
    "outputId": "41dd3ef8-0ea6-43d7-c209-09f921223746"
   },
   "outputs": [],
   "source": [
    "evs = pd.read_csv('https://raw.githubusercontent.com/zacharski/datamining-guide/main/data/ElectricCarData_Clean.csv')\n",
    "evs"
   ]
  },
  {
   "cell_type": "markdown",
   "metadata": {
    "id": "yzGCv3ub5_6S"
   },
   "source": [
    "Sometimes the csv file has a header row as was the case in the example above. That file starts with the line\n",
    "```\n",
    "Brand,Model,AccelSec,TopSpeed_KmH,Range_Km,Efficiency_WhKm,FastCharge_KmH,RapidCharge,PowerTrain,PlugType,BodyStyle,Segment,Seats,PriceEuro\n",
    "```\n",
    "as we can see by using `curl`\n",
    "\n"
   ]
  },
  {
   "cell_type": "code",
   "execution_count": null,
   "metadata": {
    "colab": {
     "base_uri": "https://localhost:8080/"
    },
    "id": "fdv2ZbES5_6S",
    "outputId": "29f09f59-e315-4766-9762-0c52c7ab572f"
   },
   "outputs": [],
   "source": [
    "!curl -s https://raw.githubusercontent.com/zacharski/datamining-guide/main/data/ElectricCarData_Clean.csv |  head"
   ]
  },
  {
   "cell_type": "markdown",
   "metadata": {
    "id": "5efST_F75_6S"
   },
   "source": [
    "**An aside**\n",
    "\n",
    "We can preface any Unix command with a bang (!) to have it execute in our Notebook.  This is amazingly handy:\n",
    "\n"
   ]
  },
  {
   "cell_type": "code",
   "execution_count": null,
   "metadata": {
    "colab": {
     "base_uri": "https://localhost:8080/"
    },
    "id": "5uwwuq_05_6S",
    "outputId": "dcabf97e-4c74-46e5-fdb5-c30935d4e977"
   },
   "outputs": [],
   "source": [
    "!ls"
   ]
  },
  {
   "cell_type": "code",
   "execution_count": null,
   "metadata": {
    "colab": {
     "base_uri": "https://localhost:8080/"
    },
    "id": "yIffxBbG5_6S",
    "outputId": "be6a08bd-13c1-4631-e4d0-bbc07e23bc9e"
   },
   "outputs": [],
   "source": [
    "!pwd"
   ]
  },
  {
   "cell_type": "markdown",
   "metadata": {
    "id": "crLbUs435_6S"
   },
   "source": [
    "### Files with No Header Row\n",
    "Sometimes the csv file does not have a header row. So for example, data might start on the very first line of the file\n",
    "\n",
    "```\n",
    "Tesla ,Model 3 Long Range Dual Motor,4.6,233,450,161,940,Yes,AWD,Type 2 CCS,Sedan,D,5,55480\n",
    "Volkswagen ,ID.3 Pure,10,160,270,167,250,Yes,RWD,Type 2 CCS,Hatchback,C,5,30000\n",
    "Polestar ,2,4.7,210,400,181,620,Yes,AWD,Type 2 CCS,Liftback,D,5,56440\n",
    "```\n",
    "\n",
    "In that case you specify the names of the columns using the `names` parameter:"
   ]
  },
  {
   "cell_type": "code",
   "execution_count": null,
   "metadata": {
    "colab": {
     "base_uri": "https://localhost:8080/",
     "height": 424
    },
    "id": "fZdLb0Fb5_6S",
    "outputId": "3d22d9cf-5726-4323-c42a-cb6fa41edd2f"
   },
   "outputs": [],
   "source": [
    "columnNames = ['Brand','Model','AccelSec','TopSpeed_KmH','Range_Km','Efficiency_WhKm',\n",
    "               'FastCharge_KmH','RapidCharge','PowerTrain','PlugType','BodyStyle',\n",
    "               'Segment','Seats','PriceEuro']\n",
    "\n",
    "evs2 = pd.read_csv('https://raw.githubusercontent.com/zacharski/datamining-guide/main/data/ElectricCarData_Clean_NoHeader.csv', names=columnNames)\n",
    "evs2"
   ]
  },
  {
   "cell_type": "markdown",
   "metadata": {
    "id": "rDEsbtEb5_6S"
   },
   "source": [
    "\n",
    "![](https://raw.githubusercontent.com/zacharski/datamining-guide/master/labs/pics/divider.png)\n",
    "\n",
    "### Reading a CSV file the local machine\n",
    "First, let's get that file onto our local machine:"
   ]
  },
  {
   "cell_type": "code",
   "execution_count": null,
   "metadata": {
    "colab": {
     "base_uri": "https://localhost:8080/"
    },
    "id": "fqawj6Hs5_6T",
    "outputId": "52294aee-9523-4c09-8db2-e0d05209c8c0"
   },
   "outputs": [],
   "source": [
    "curl https://raw.githubusercontent.com/zacharski/datamining-guide/main/data/ElectricCarData_Clean.csv > evs.csv"
   ]
  },
  {
   "cell_type": "markdown",
   "metadata": {
    "id": "26XgMZAN5_6T"
   },
   "source": [
    "Hmm. That didn't work. Can you fix the error and rerun that cell?\n",
    "\n",
    "---\n",
    "Now we can specify the local file using `pd=read_csv`"
   ]
  },
  {
   "cell_type": "code",
   "execution_count": null,
   "metadata": {
    "colab": {
     "base_uri": "https://localhost:8080/",
     "height": 424
    },
    "id": "a4BfeSRF5_6T",
    "outputId": "82e324bf-f6f1-49cd-adda-44413a332609",
    "scrolled": true
   },
   "outputs": [],
   "source": [
    "ev3 = pd.read_csv('evs.csv')\n",
    "ev3"
   ]
  },
  {
   "cell_type": "markdown",
   "metadata": {
    "id": "X4nV_5qa5_6T"
   },
   "source": [
    "Suppose we want that file in a data directory. Let's go ahead and create the directory and move the file there."
   ]
  },
  {
   "cell_type": "code",
   "execution_count": null,
   "metadata": {
    "id": "dSXrr4Er5_6T"
   },
   "outputs": [],
   "source": [
    "!mkdir data\n",
    "!mv evs.csv data"
   ]
  },
  {
   "cell_type": "markdown",
   "metadata": {
    "id": "o4-wisLL5_6T"
   },
   "source": [
    "Now when we load the file we need to give more of a path:"
   ]
  },
  {
   "cell_type": "code",
   "execution_count": null,
   "metadata": {
    "colab": {
     "base_uri": "https://localhost:8080/",
     "height": 424
    },
    "id": "UhuexVjS5_6T",
    "outputId": "4e46dd17-f064-4ebb-fd3e-458c8995fd04"
   },
   "outputs": [],
   "source": [
    "evs4 = pd.read_csv('data/evs.csv')\n",
    "evs4"
   ]
  },
  {
   "cell_type": "markdown",
   "metadata": {
    "id": "FQofXF9o5_6T"
   },
   "source": [
    "\n",
    "![](https://raw.githubusercontent.com/zacharski/datamining-guide/master/labs/pics/divider.png)\n",
    "\n",
    "## Missing Data\n",
    "\n",
    "\n",
    "In real machine learning tasks, we often encounter missing values.\n",
    "\n",
    "### Missing Data in Files\n",
    "For example, suppose we didn't know The Polestar 2's acceleration, the BMW iX3's top speed and the Honda's model name. In that case our CSV file would start\n",
    "\n",
    "\n",
    "```\n",
    "Brand,Model,AccelSec,TopSpeed_KmH,Range_Km\n",
    "Tesla ,Model 3 Long Range Dual Motor,4.6,233,450\n",
    "Volkswagen ,ID.3 Pure,10.0,160,270\n",
    "Polestar ,2,,210,400\n",
    "BMW ,iX3 ,6.8,,360\n",
    "Honda ,,9.5,145,\n",
    "```\n",
    "\n",
    "with the double comma on the Polestar, BMW and Honda lines representing the missing data. When we read that file.\n",
    "\n"
   ]
  },
  {
   "cell_type": "code",
   "execution_count": null,
   "metadata": {
    "colab": {
     "base_uri": "https://localhost:8080/",
     "height": 677
    },
    "id": "h8S1xMW85_6U",
    "outputId": "1a3c3697-b118-41d7-e57e-0af3196eec70"
   },
   "outputs": [],
   "source": [
    "evs5 = pd.read_csv('https://raw.githubusercontent.com/zacharski/datamining-guide/main/data/ev_cars_small.csv')\n",
    "evs5"
   ]
  },
  {
   "cell_type": "markdown",
   "metadata": {
    "id": "CbUtXaSf5_6U"
   },
   "source": [
    "We see that missing values are now the floating point values NaN meaning Not a Number. This NaN value is used even in columns that do not contain floating point values. For example, in row 4 above, Honda has NaN in the model name column. Wes McKinney, the developer of Pandas calls NaN a *sentinel* value that is easily detected and indicates a missing value.\n",
    "\n",
    "### Special Characters Representing NaN in the Data File\n",
    "\n",
    "Sometimes, special characters are used in a data file to represent missing values. For example, sometimes a dash is used ...\n",
    "\n",
    "Brand|Model|AccelSec|TopSpeed_KmH|Range_Km\n",
    ":--- | :--- | ---: | ---: | ---: |\n",
    "Tesla |Model 3 Long Range Dual Motor|4.6|233|450\n",
    "Volkswagen |ID.3 Pure|10.0|160|270\n",
    "Polestar |2|-|210|400\n",
    "BMW |iX3 |6.8|-|360\n",
    "Honda |-|9.5|145|\n",
    "\n",
    "The associated data file would look like\n",
    "\n",
    "```\n",
    "Brand,Model,AccelSec,TopSpeed_KmH,Range_Km\n",
    "Tesla ,Model 3 Long Range Dual Motor,4.6,233,450\n",
    "Volkswagen ,ID.3 Pure,10.0,160,270\n",
    "Polestar ,2,-,210,400\n",
    "BMW ,iX3 ,6.8,-,360\n",
    "Honda ,-,9.5,145,\n",
    "```\n",
    "\n",
    "If we do not convert these to `NaN`, these dashes will create havoc with future calculations:\n",
    "\n",
    "``` \n",
    "TypeError: can't multiply sequence by non-int of type 'float'\n",
    "```\n",
    "\n",
    "When we read in the csv file we need to convert the dashes to `NaN` by using the `na_values` parameter in `read_csv`. As you can see in the following example, our data file has the dashes "
   ]
  },
  {
   "cell_type": "code",
   "execution_count": null,
   "metadata": {
    "colab": {
     "base_uri": "https://localhost:8080/"
    },
    "id": "lglr_kCMofk_",
    "outputId": "83e087db-654d-4cf7-902c-544f335c5c2c"
   },
   "outputs": [],
   "source": [
    "!curl https://raw.githubusercontent.com/zacharski/datamining-guide/main/data/ev_cars_small-dash.csv"
   ]
  },
  {
   "cell_type": "markdown",
   "metadata": {
    "id": "iXQQB9Bxq_hj"
   },
   "source": [
    "and we can convert those to `NaN` when we read the file"
   ]
  },
  {
   "cell_type": "code",
   "execution_count": null,
   "metadata": {
    "colab": {
     "base_uri": "https://localhost:8080/",
     "height": 238
    },
    "id": "bN9w_lx4rEAZ",
    "outputId": "a32872c5-fe3b-4600-a01a-d14b984c84bd"
   },
   "outputs": [],
   "source": [
    "evdash = pd.read_csv('https://raw.githubusercontent.com/zacharski/datamining-guide/main/data/ev_cars_small-dash.csv',\n",
    "                     na_values='-')\n",
    "evdash[:6]"
   ]
  },
  {
   "cell_type": "markdown",
   "metadata": {
    "id": "UDs0cAprogc9"
   },
   "source": [
    "### Specifying Missing Values by hand\n",
    "Suppose we didn't know the range of the Hyundai Ioniq 5 and the MPGe of the Tesla.\n",
    "\n",
    "![](https://raw.githubusercontent.com/zacharski/datamining-guide/master/labs/pics/ioniq5s.png)\n",
    "\n",
    "Make | Drive | Range | Battery_kwH | PeakPower_kW | MPGe | 0-60\n",
    ":---- | :--- | ---: | ---: | ---: | ---: | ---:\n",
    "Ioniq 5 | AWD | - | 77.4 | 239 | 98 | 5.0\n",
    "Tesla Model 3 | AWD | 315 | 80 | 298 | - | 3.1\n",
    "Rivian R1T | AWD | 316 | 135 | 562 | 70 | 3.0 \n",
    "VW ID.4 | RWD | 260 | 82 | 260 | 107 |  7.7\n",
    "F150 Lightning | AWD | 230 | 110 | 318 | 68 | 4.0\n",
    "\n",
    "In that case we can create a dataframe like:"
   ]
  },
  {
   "cell_type": "code",
   "execution_count": null,
   "metadata": {
    "colab": {
     "base_uri": "https://localhost:8080/",
     "height": 206
    },
    "id": "FApiirdy5_6U",
    "outputId": "a4bb5e62-1ffb-420d-9ea0-f5658827be6d"
   },
   "outputs": [],
   "source": [
    "cars3 = {'Make': ['Ioniq 5', 'Tesla Model 3', 'Rivian R1T', 'VW ID.4', 'F150 Lightning'],\n",
    "         'Drive': ['AWD', 'AWD', 'AWD', 'RWD', 'AWD'],\n",
    "         'Range': [np.nan, 315, 316, 260, 230],\n",
    "         'Battery_kwH': [77.4, 80, 135, 82, 110],\n",
    "         'PeakPower_kW': [239, 298, 562, 260, 318],\n",
    "         'MPGe': [98, np.nan, 70, 107, 68],\n",
    "         '0-60': [5.0, 3.1, 3.0, 7.7, 4.0]}\n",
    "        \n",
    "carz = DataFrame(cars3)\n",
    "carz"
   ]
  },
  {
   "cell_type": "markdown",
   "metadata": {
    "id": "1ichMMal5_6V"
   },
   "source": [
    "where `np.nan` is Numpy's NaN.  We can also use Python's `None`:\n"
   ]
  },
  {
   "cell_type": "code",
   "execution_count": null,
   "metadata": {
    "colab": {
     "base_uri": "https://localhost:8080/",
     "height": 206
    },
    "id": "PW8Yg5fL5_6V",
    "outputId": "e89d904e-c1eb-4486-b2dc-f977afc97bde"
   },
   "outputs": [],
   "source": [
    "cars3 = {'Make': ['Ioniq 5', 'Tesla Model 3', 'Rivian R1T', 'VW ID.4', 'F150 Lightning'],\n",
    "         'Drive': ['AWD', 'AWD', 'AWD', 'RWD', 'AWD'],\n",
    "         'Range': [None, 315, 316, 260, 230],\n",
    "         'Battery_kwH': [77.4, 80, 135, 82, 110],\n",
    "         'PeakPower_kW': [239, 298, 562, 260, 318],\n",
    "         'MPGe': [98, None, 70, 107, 68],\n",
    "         '0-60': [5.0, 3.1, 3.0, 7.7, 4.0]}\n",
    "        \n",
    "carz = DataFrame(cars3)\n",
    "carz"
   ]
  },
  {
   "cell_type": "markdown",
   "metadata": {
    "id": "uxTlzaux5_6V"
   },
   "source": [
    "In addition to reading CSV files, there are many other ways of reading in data including from SQL databases, mongoDB, and webpages. See the [Pandas documentation](https://pandas.pydata.org/pandas-docs/stable/) for details.\n"
   ]
  },
  {
   "cell_type": "markdown",
   "metadata": {
    "id": "edf753hojSkc"
   },
   "source": [
    "\n",
    "![](https://raw.githubusercontent.com/zacharski/datamining-guide/master/labs/pics/divider.png)\n",
    "\n",
    "## Indices\n",
    "In all the examples above, when we created a DataFrame, an auto-generated, auto-incrementing index was generated. So our initial data might look like:\n",
    "\n",
    "\n",
    "Make | Drive | Range | Battery_kwH | PeakPower_kW | MPGe | 0-60\n",
    ":---- | :--- | ---: | ---: | ---: | ---: | ---:\n",
    "Ioniq 5 | AWD | - | 77.4 | 239 | 98 | 5.0\n",
    "Tesla Model 3 | AWD | 315 | 80 | 298 | - | 3.1\n",
    "Rivian R1T | AWD | 316 | 135 | 562 | 70 | 3.0 \n",
    "VW ID.4 | RWD | 260 | 82 | 260 | 107 |  7.7\n",
    "F150 Lightning | AWD | 230 | 110 | 318 | 68 | 4.0\n",
    "\n",
    "But the DataFrame looks like ..."
   ]
  },
  {
   "cell_type": "code",
   "execution_count": null,
   "metadata": {
    "colab": {
     "base_uri": "https://localhost:8080/",
     "height": 206
    },
    "id": "joIX9AMF5_6W",
    "outputId": "37afe46c-86f3-4198-8046-eda9849b26cb"
   },
   "outputs": [],
   "source": [
    "carz\n",
    "   "
   ]
  },
  {
   "cell_type": "markdown",
   "metadata": {
    "id": "HnY07gtE38MY"
   },
   "source": [
    "with the 0, 1, 2 ... indices added (the column on the left). This makes it handy when we want to access a particular row."
   ]
  },
  {
   "cell_type": "code",
   "execution_count": null,
   "metadata": {
    "colab": {
     "base_uri": "https://localhost:8080/"
    },
    "id": "KCj7gU_l5_6W",
    "outputId": "adbf53cf-f71b-4eaa-a526-4aa9eb9dfe3d"
   },
   "outputs": [],
   "source": [
    "carz.loc[4]"
   ]
  },
  {
   "cell_type": "markdown",
   "metadata": {
    "id": "qcQnal5C4VVp"
   },
   "source": [
    "As you can see in the above code, we access a particular row (or rows) with the `loc` method.\n",
    "\n",
    "Sometimes the rows in our data already have a unique identifier. For example in a data file for U.S. states each state might have the unique 2 character state code\n",
    "\n",
    "\n",
    "![](https://raw.githubusercontent.com/zacharski/datamining-guide/master/labs/pics/grayStates.png)\n",
    "\n",
    "State|Name|Pop2022|Pop2021|Pop2010|TotalArea|LandArea\n",
    ":--- | :--- | ---: | ---: | ---: | ---: | ---: | \n",
    "AK| Alaska| 720763|724357|713910|665384|570640.95\n",
    "AL| Alabama|4949697|4934193|4785437|52420|50645.33\n",
    "AR| Arkansas|3042017|3033946|2921964|53179|52035.48\n",
    "AZ| Arizona|7640796|7520103|6407172|113990|113594.08\n",
    "\n",
    "In that case we can use the unique identifier, in this case the 2 letter state code, as our index. "
   ]
  },
  {
   "cell_type": "code",
   "execution_count": null,
   "metadata": {
    "colab": {
     "base_uri": "https://localhost:8080/",
     "height": 1000
    },
    "id": "O2hnNYg-6B_X",
    "outputId": "a1dc3770-c09f-4b16-9b53-8da55904f654"
   },
   "outputs": [],
   "source": [
    "states = pd.read_csv('https://raw.githubusercontent.com/zacharski/datamining-guide/main/data/usStates.csv',\n",
    "                     index_col='State')\n",
    "states"
   ]
  },
  {
   "cell_type": "markdown",
   "metadata": {
    "id": "74y5zDcK6eUq"
   },
   "source": [
    "We can access a particular row, say the info for New Mexico by "
   ]
  },
  {
   "cell_type": "code",
   "execution_count": null,
   "metadata": {
    "colab": {
     "base_uri": "https://localhost:8080/"
    },
    "id": "_VKAC2Yn6jCL",
    "outputId": "953c6ab0-cad2-450d-803b-e3729f53b9e8"
   },
   "outputs": [],
   "source": [
    "states.loc['NM']"
   ]
  },
  {
   "cell_type": "markdown",
   "metadata": {
    "id": "ZFx51fOf688-"
   },
   "source": [
    "You can access a range of rows by the standard Python method:"
   ]
  },
  {
   "cell_type": "code",
   "execution_count": null,
   "metadata": {
    "colab": {
     "base_uri": "https://localhost:8080/",
     "height": 238
    },
    "id": "Yex0HIPR7Obd",
    "outputId": "829ee6bd-a917-4a19-eb04-5e3895f4bb16"
   },
   "outputs": [],
   "source": [
    "states[:5]"
   ]
  },
  {
   "cell_type": "markdown",
   "metadata": {
    "id": "tT4n3wWs7Y72"
   },
   "source": [
    "or\n"
   ]
  },
  {
   "cell_type": "code",
   "execution_count": null,
   "metadata": {
    "colab": {
     "base_uri": "https://localhost:8080/",
     "height": 238
    },
    "id": "PoD_VMet7aEj",
    "outputId": "33bcc491-049c-4256-c46f-1551fcb1f3b3"
   },
   "outputs": [],
   "source": [
    "states[11:16]"
   ]
  },
  {
   "cell_type": "markdown",
   "metadata": {
    "id": "sIYbCKxq7iVJ"
   },
   "source": [
    "or using these index values:"
   ]
  },
  {
   "cell_type": "code",
   "execution_count": null,
   "metadata": {
    "colab": {
     "base_uri": "https://localhost:8080/",
     "height": 238
    },
    "id": "cNTbbUwQ7kio",
    "outputId": "d1bc63b7-a980-4eb8-812d-c8781038cd53"
   },
   "outputs": [],
   "source": [
    "states['IA': 'KS']"
   ]
  },
  {
   "cell_type": "markdown",
   "metadata": {
    "id": "VF415m0h5_6W"
   },
   "source": [
    "\n",
    "![](https://raw.githubusercontent.com/zacharski/datamining-guide/master/labs/pics/divider.png)\n",
    "\n",
    "## Retrieving particular columns\n",
    "We can get a column of a DataFrame by using the column name:"
   ]
  },
  {
   "cell_type": "code",
   "execution_count": null,
   "metadata": {
    "colab": {
     "base_uri": "https://localhost:8080/",
     "height": 1000
    },
    "id": "A2mz_V9a6uAO",
    "outputId": "8ccc6ec7-a283-4a26-f8f4-445b7027ce84"
   },
   "outputs": [],
   "source": [
    "states[['Pop2022']]"
   ]
  },
  {
   "cell_type": "markdown",
   "metadata": {
    "id": "2pgNbgzM5_6W"
   },
   "source": [
    "and we can get multiple columns by passing a list of column names"
   ]
  },
  {
   "cell_type": "code",
   "execution_count": null,
   "metadata": {
    "colab": {
     "base_uri": "https://localhost:8080/",
     "height": 1000
    },
    "id": "0DbFAGla5_6W",
    "outputId": "32258730-8c0d-4505-9b16-d62615d44ed8"
   },
   "outputs": [],
   "source": [
    "states[['Pop2022', 'Pop2010']]"
   ]
  },
  {
   "cell_type": "markdown",
   "metadata": {
    "id": "gx4xPt_z5_6X"
   },
   "source": [
    "### Returning rows with loc\n",
    "\n",
    "As we have seen we can retrieve rows using the loc function. \n",
    "\n",
    "We can also get rows that match a specific criterion. For example, all states whose 2022 population exceeded 10 million. "
   ]
  },
  {
   "cell_type": "code",
   "execution_count": null,
   "metadata": {
    "colab": {
     "base_uri": "https://localhost:8080/",
     "height": 363
    },
    "id": "1V9oYofC5_6X",
    "outputId": "ad1cc83b-1907-4a62-d52e-8b3586d0d1ac"
   },
   "outputs": [],
   "source": [
    "populousStates = states.loc[states['Pop2022'] > 10000000] \n",
    "populousStates"
   ]
  },
  {
   "cell_type": "markdown",
   "metadata": {
    "id": "OGMYMikjGAll"
   },
   "source": [
    "Or let's say we are interested in the states that lost population between 2021 and 2022."
   ]
  },
  {
   "cell_type": "code",
   "execution_count": null,
   "metadata": {
    "colab": {
     "base_uri": "https://localhost:8080/",
     "height": 394
    },
    "id": "FgJy-85BGF2K",
    "outputId": "741a0642-b546-45d6-a120-bd45bb66737f"
   },
   "outputs": [],
   "source": [
    "states.loc[states['Pop2022'] < states['Pop2021']]"
   ]
  },
  {
   "cell_type": "markdown",
   "metadata": {
    "id": "Y7ZJDokzGZVm"
   },
   "source": [
    "States that are over 10 million population and have lost population in 2022:"
   ]
  },
  {
   "cell_type": "code",
   "execution_count": null,
   "metadata": {
    "colab": {
     "base_uri": "https://localhost:8080/",
     "height": 143
    },
    "id": "KIQ643qXGdoD",
    "outputId": "3bd030af-056e-4d60-a6a8-4584a74f5684"
   },
   "outputs": [],
   "source": [
    "states.loc[(states['Pop2022'] < states['Pop2021']) & (states['Pop2022'] > 10000000)]"
   ]
  },
  {
   "cell_type": "markdown",
   "metadata": {
    "id": "l8OSpDM9HwcX"
   },
   "source": [
    "\n",
    "![](https://raw.githubusercontent.com/zacharski/datamining-guide/master/labs/pics/divider.png)\n",
    "\n",
    "## Creating new columns\n",
    "\n",
    "#### State Density\n",
    "\n",
    "![](https://raw.githubusercontent.com/zacharski/datamining-guide/master/labs/pics/stateDensity.png)\n",
    "\n",
    "Let's say we want to add a new column, Density, that gives the number of people per square mile of land area. So the Formula is\n",
    "\n",
    "\n",
    "\n",
    "$$Density=\\frac{Pop2022}{LandArea}$$\n",
    "\n",
    "We can do that with\n"
   ]
  },
  {
   "cell_type": "code",
   "execution_count": null,
   "metadata": {
    "colab": {
     "base_uri": "https://localhost:8080/",
     "height": 238
    },
    "id": "8ft7c-EAIttE",
    "outputId": "785a3f78-9384-4df5-b5f7-18a253d247f8"
   },
   "outputs": [],
   "source": [
    "states['Density'] = states['Pop2022'] / states['LandArea']\n",
    "states[:5][['Name', 'Density']]"
   ]
  },
  {
   "cell_type": "markdown",
   "metadata": {
    "id": "P_GSii5JJhJH"
   },
   "source": [
    "\n",
    "![](https://raw.githubusercontent.com/zacharski/datamining-guide/master/labs/pics/divider.png)\n",
    "\n",
    "## Sorting\n",
    "\n",
    "Density is nice but it would be nice if we ordered the DataFrame by Density..."
   ]
  },
  {
   "cell_type": "code",
   "execution_count": null,
   "metadata": {
    "colab": {
     "base_uri": "https://localhost:8080/",
     "height": 1000
    },
    "id": "rWh7w8EbKZTK",
    "outputId": "3d02b71b-27f6-45d7-e3d9-9a2a1b71b31b"
   },
   "outputs": [],
   "source": [
    "states.sort_values(by=['Density'])"
   ]
  },
  {
   "cell_type": "markdown",
   "metadata": {
    "id": "mF4Lt2CYKiXC"
   },
   "source": [
    "That is better, but perhaps we would like to order by densest states first and only show the top five ...\n",
    " "
   ]
  },
  {
   "cell_type": "code",
   "execution_count": null,
   "metadata": {
    "colab": {
     "base_uri": "https://localhost:8080/",
     "height": 238
    },
    "id": "iOE3ux2kKrGN",
    "outputId": "c9c18f6f-ac6b-49fc-e315-987cff98ce03"
   },
   "outputs": [],
   "source": [
    "states.sort_values(by=['Density'], ascending=False)[:5]"
   ]
  },
  {
   "cell_type": "markdown",
   "metadata": {
    "id": "5mk5YrN-LeYT"
   },
   "source": [
    "Finally, let's add a column, growth, that shows the percent change in population from 2021 to 2022.  That formula would be\n",
    "\n",
    "$$Growth=(\\frac{Pop2022}{Pop2021} - 1) \\times 100  $$"
   ]
  },
  {
   "cell_type": "code",
   "execution_count": null,
   "metadata": {
    "colab": {
     "base_uri": "https://localhost:8080/",
     "height": 394
    },
    "id": "hEoh-KQ15_6X",
    "outputId": "54363d93-fd7c-47ae-8805-6b6b2a549e52"
   },
   "outputs": [],
   "source": [
    "states['Growth'] = (states['Pop2022'] / states['Pop2021'] - 1) * 100\n",
    "states[:10]"
   ]
  },
  {
   "cell_type": "markdown",
   "metadata": {
    "id": "79CqMYEh5_6X"
   },
   "source": [
    "And let's find the 5 fastest growing states:"
   ]
  },
  {
   "cell_type": "code",
   "execution_count": null,
   "metadata": {
    "colab": {
     "base_uri": "https://localhost:8080/",
     "height": 238
    },
    "id": "Z3R0BzU85_6Y",
    "outputId": "9052b139-52d1-4a31-9275-115dca2d9e55"
   },
   "outputs": [],
   "source": [
    "states.sort_values(by=['Growth'], ascending=False)[:5]"
   ]
  },
  {
   "cell_type": "markdown",
   "metadata": {
    "id": "Uqa6q5jI5_6Y"
   },
   "source": [
    "\n",
    "![](https://raw.githubusercontent.com/zacharski/datamining-guide/master/labs/pics/divider.png)\n",
    "\n",
    "## Descriptive Statistics on DataFrames\n",
    "One handy function is `describe`"
   ]
  },
  {
   "cell_type": "code",
   "execution_count": null,
   "metadata": {
    "colab": {
     "base_uri": "https://localhost:8080/",
     "height": 300
    },
    "id": "X3Vl_HUM5_6Y",
    "outputId": "54f7a8f2-aec6-48e5-af56-f051799c6867"
   },
   "outputs": [],
   "source": [
    "states.describe()"
   ]
  },
  {
   "cell_type": "markdown",
   "metadata": {
    "id": "0BDKVkjG5_6Y"
   },
   "source": [
    "Alternatively, we could retrieve a specific statistic:\n"
   ]
  },
  {
   "cell_type": "code",
   "execution_count": null,
   "metadata": {
    "colab": {
     "base_uri": "https://localhost:8080/"
    },
    "id": "9QvGB_sO5_6Y",
    "outputId": "a43c69e2-3162-4131-f563-12d5e33db501"
   },
   "outputs": [],
   "source": [
    "states['Pop2022'].mean()"
   ]
  },
  {
   "cell_type": "markdown",
   "metadata": {
    "id": "9SuTANUhYcln"
   },
   "source": [
    "or find out how many states lost population in 2022 using `count`:"
   ]
  },
  {
   "cell_type": "code",
   "execution_count": null,
   "metadata": {
    "colab": {
     "base_uri": "https://localhost:8080/"
    },
    "id": "lPbUUTZeYlyF",
    "outputId": "99344f94-5927-40ef-9026-b9d8394b1056"
   },
   "outputs": [],
   "source": [
    "states.loc[states['Pop2022'] < states['Pop2021']][['Pop2022']].count()"
   ]
  },
  {
   "cell_type": "markdown",
   "metadata": {
    "id": "E7yg3o40Bn2s"
   },
   "source": [
    "Or get the total population of the United States (minus the District of Columbia)"
   ]
  },
  {
   "cell_type": "code",
   "execution_count": null,
   "metadata": {
    "colab": {
     "base_uri": "https://localhost:8080/"
    },
    "id": "M813i5BF5_6Y",
    "outputId": "e0a494ab-41a3-4447-b6fd-749289d0bdcc"
   },
   "outputs": [],
   "source": [
    "states['Pop2022'].sum()"
   ]
  },
  {
   "cell_type": "markdown",
   "metadata": {
    "id": "ACn45SPTCRU1"
   },
   "source": [
    "or to make that more readable"
   ]
  },
  {
   "cell_type": "code",
   "execution_count": null,
   "metadata": {
    "colab": {
     "base_uri": "https://localhost:8080/"
    },
    "id": "62FwVBdiCUgW",
    "outputId": "655baf31-09f7-45dc-ed64-2dca1bb36508"
   },
   "outputs": [],
   "source": [
    "totalPop = \"{:,}\".format(states['Pop2022'].sum())\n",
    "print('Total Population: ' + totalPop)"
   ]
  },
  {
   "cell_type": "markdown",
   "metadata": {
    "id": "EtSUCI6aDOJP"
   },
   "source": [
    "What percentage of the U. S. population is accounted for by the top 5 most populous states?"
   ]
  },
  {
   "cell_type": "code",
   "execution_count": null,
   "metadata": {
    "colab": {
     "base_uri": "https://localhost:8080/"
    },
    "id": "BfrCdDHs5_6Y",
    "outputId": "15105a0b-1421-4fca-9d99-d21ccd5eded3"
   },
   "outputs": [],
   "source": [
    "statesByPopulation = states.sort_values(by=['Pop2022'], ascending=False)[:10][['Pop2022']]\n",
    "percent = (statesByPopulation.sum() / states['Pop2022'].sum()) * 100\n",
    "print(\"The top 10 most populous states account for {:4.2f} percent of the U.S. Population\" .format(percent['Pop2022']))"
   ]
  },
  {
   "cell_type": "markdown",
   "metadata": {
    "id": "altMRJTX5_6Y"
   },
   "source": [
    "## Summary Statistics and Axes\n",
    "\n",
    "![](https://raw.githubusercontent.com/zacharski/datamining-guide/master/labs/pics/ax.png)\n",
    "Suppose I have customers of my vinyl record shop rate different artists\n",
    "\n",
    "|Customer | Taylor Swift | Miranda Lambert | Carrie Underwood | Nicki Minaj | Ariana Grande |\n",
    "|:-----------|:------:|:------:|:---------:|:------:|:--------:|\n",
    "|Jake|5|-|5|2|2|\n",
    "|Clara|2|-|-|4|5|\n",
    "|Kelsey|5|5|5|2|-|\n",
    "|Angelica|2|3|-|5|5|\n",
    "|Jordyn|2|1|-|5|-|\n",
    "\n",
    "First we will read in the file ..."
   ]
  },
  {
   "cell_type": "code",
   "execution_count": null,
   "metadata": {
    "colab": {
     "base_uri": "https://localhost:8080/",
     "height": 238
    },
    "id": "KheA1gk_5_6Y",
    "outputId": "e48469e5-b589-48b8-8062-05ac3dcea040"
   },
   "outputs": [],
   "source": [
    "ratings = pd.read_csv('https://raw.githubusercontent.com/zacharski/ml-class/master/data/ratings.csv', index_col=0)\n",
    "ratings"
   ]
  },
  {
   "cell_type": "markdown",
   "metadata": {
    "id": "l1_dazQX5_6Z"
   },
   "source": [
    "We can get the mean rating of each artist by:\n"
   ]
  },
  {
   "cell_type": "code",
   "execution_count": null,
   "metadata": {
    "id": "mqpPhVng5_6Z",
    "outputId": "a32afa8b-10df-4ece-e416-ec591a1b5689"
   },
   "outputs": [],
   "source": [
    "ratings.mean()"
   ]
  },
  {
   "cell_type": "markdown",
   "metadata": {
    "id": "qqF9WVYG5_6Z"
   },
   "source": [
    "Note that the summary statistics ignore NaN entries. The mean rating for Miranda Lambert is computed just on the people that rated her.\n",
    "\n",
    "Many descriptive statistics functions take an optional parameter `axis` that tells which axis to reduce over. If we want the mean ratings for each **customer** instead of each artist we can do:"
   ]
  },
  {
   "cell_type": "code",
   "execution_count": null,
   "metadata": {
    "colab": {
     "base_uri": "https://localhost:8080/"
    },
    "id": "LHlXy45l5_6Z",
    "outputId": "7686c59c-1089-416c-c48a-85f1a3a03c81"
   },
   "outputs": [],
   "source": [
    "ratings.mean(axis=1)"
   ]
  },
  {
   "cell_type": "markdown",
   "metadata": {
    "id": "UdHgb_g-5_6a"
   },
   "source": [
    "\n",
    "\n",
    "Sweet! So `axis=1` means reduce by rows and `axis=0` means reduce by columns:"
   ]
  },
  {
   "cell_type": "code",
   "execution_count": null,
   "metadata": {
    "colab": {
     "base_uri": "https://localhost:8080/"
    },
    "id": "CTJp_AXc5_6a",
    "outputId": "2e6e151f-69c4-4360-b585-744fa01b68ba"
   },
   "outputs": [],
   "source": [
    "ratings.mean(axis=0)"
   ]
  },
  {
   "cell_type": "markdown",
   "metadata": {
    "id": "9ayvoKIL5_6a"
   },
   "source": [
    "![](https://raw.githubusercontent.com/zacharski/datamining-guide/master/labs/pics/divider.png)\n",
    "\n",
    "## List of Descriptive Statistics\n",
    "(from the book *Python for Data Analysis*)\n",
    "\n",
    "Method | Description\n",
    ":-- | :--\n",
    "`count` | Number of non-NaN values\n",
    "`describe` | A set of common summary statistics\n",
    "`min, max` | compute minimum and maximum values\n",
    "`argmin, argmax` | compute index locations of minimum and maximum values\n",
    "`sum` | Sum the values\n",
    "`mean` | Mean of values\n",
    "`median` | Median of values\n",
    "`std` | Sample standard deviation\n",
    "\n",
    "So, for example, the lowest rating for each artist:\n"
   ]
  },
  {
   "cell_type": "code",
   "execution_count": null,
   "metadata": {
    "colab": {
     "base_uri": "https://localhost:8080/"
    },
    "id": "P5IwyqA_5_6a",
    "outputId": "ea5a3d03-a7b1-476e-90da-a3ae9cb4fe8d"
   },
   "outputs": [],
   "source": [
    "ratings.min()"
   ]
  },
  {
   "cell_type": "markdown",
   "metadata": {
    "id": "-d5X1BGZgm6s"
   },
   "source": [
    "\n",
    "![](https://raw.githubusercontent.com/zacharski/datamining-guide/master/labs/pics/divider.png)\n",
    "\n",
    "# <font color='#EE4C2C'>You Try ...</font> \n",
    "Ok, it is time for you to try out what you just learned. Let us start with the electric vehicle datafile we have already seen:\n",
    "\n",
    "```\n",
    "https://raw.githubusercontent.com/zacharski/datamining-guide/main/data/ElectricCarData_Clean.csv\n",
    "```\n",
    "When we loaded the datafile before, it worked fine for those examples, but you may encounter an error here, that will require you to modify the `read_csv`.\n",
    "\n",
    "![](https://raw.githubusercontent.com/zacharski/datamining-guide/master/labs/pics/evBanner.png)"
   ]
  },
  {
   "cell_type": "code",
   "execution_count": null,
   "metadata": {
    "id": "BVp_U2L_jP-H"
   },
   "outputs": [],
   "source": [
    "# TO DO"
   ]
  },
  {
   "cell_type": "markdown",
   "metadata": {
    "id": "r6zIkL0LjXAp"
   },
   "source": [
    "Some of the columns are based on kilometers:\n",
    "\n",
    "* TopSpeed_KmH\t\n",
    "* Range_Km\t\n",
    "* Efficiency_WhKm\t\n",
    "* FastCharge_KmH\n",
    "\n",
    "and we are first going to add USA mile-centric columns.\n",
    "\n",
    "## <font color='#EE4C2C'>1. TopSpeed_MPH</font>\n",
    "\n",
    "Add a new column `TopSpeed_MPH` computed from the `TopSpeed_KmH` column, and just to check, display the first 10 rows. (The Lucid Air should have a top speed slightly over 155 MPH)\n"
   ]
  },
  {
   "cell_type": "code",
   "execution_count": null,
   "metadata": {
    "colab": {
     "base_uri": "https://localhost:8080/",
     "height": 407
    },
    "id": "nE9hHZORkKHt",
    "outputId": "03697495-b5cf-4fc5-cff7-80ddfcddac0c"
   },
   "outputs": [],
   "source": []
  },
  {
   "cell_type": "markdown",
   "metadata": {
    "id": "PbH5Ft3Ck5SO"
   },
   "source": [
    "\n",
    "## <font color='#EE4C2C'>2. Range and FastCharge_MPH</font>\n",
    "\n",
    "Add a new column `Range` computed from the `Range_Km` column that shows the range in miles.\n",
    "\n",
    "Also add a column `FastCharge_MPH computed from `FastCharge_KmH`. This will indicate how many miles can you go on one hour of charging. \n",
    "\n",
    "Just to check, display the first 10 rows. (The Tesla Model 3 Long Range Dual Motor should have a range of nearly 280 miles and charge at a rate of 584 miles per hour of fast charging.)"
   ]
  },
  {
   "cell_type": "code",
   "execution_count": null,
   "metadata": {
    "colab": {
     "base_uri": "https://localhost:8080/",
     "height": 687
    },
    "id": "5MSHK06JlaCa",
    "outputId": "ba3b5c7a-5bbc-4092-eb79-58c3f11965a9"
   },
   "outputs": [],
   "source": []
  },
  {
   "cell_type": "markdown",
   "metadata": {
    "id": "BUFNJLDmscIh"
   },
   "source": [
    "## <font color='#EE4C2C'>3. Efficiency_MkwH</font>\n",
    "\n",
    "The DataFrame has a column `Efficiency_WhKm` which indicates how many watt hours does it take to go one kilometer. One common measure of efficieny is how many miles can you go on one kilowatt hour (kwH). So please add this column to the DataFrame. (The Tesla Model 3 Standard Range Plus should have an efficiency of around 4 miles per kilowatt hour.) \n"
   ]
  },
  {
   "cell_type": "code",
   "execution_count": null,
   "metadata": {
    "id": "QFVButVctWCL"
   },
   "outputs": [],
   "source": []
  },
  {
   "cell_type": "code",
   "execution_count": null,
   "metadata": {
    "colab": {
     "base_uri": "https://localhost:8080/",
     "height": 687
    },
    "id": "goaxBgv4mzSL",
    "outputId": "bab59686-e658-44b7-e9dd-92ece18bc94a"
   },
   "outputs": [],
   "source": []
  },
  {
   "cell_type": "markdown",
   "metadata": {
    "id": "utMo3PX4vR1O"
   },
   "source": [
    "## <font color='#EE4C2C'>4. New DataFrame</font>\n",
    "\n",
    "Create a new DataFrame, `bevs` (battery electric vehicles as opposed to PHEVs) that contain only the following columns from the current DataFrame\n",
    "\n",
    "* Brand\t\n",
    "* Model\t\n",
    "* PowerTrain\t\n",
    "* AccelSec\n",
    "* TopSpeed_MPH\t\n",
    "* Range\t\n",
    "* Efficiency_MkwH\n",
    "\n",
    "```\n",
    "'Brand', 'Model', 'PowerTrain', 'AccelSec', 'TopSpeed_MPH', 'Range', 'Efficiency_MkwH'\n",
    "```\n"
   ]
  },
  {
   "cell_type": "code",
   "execution_count": null,
   "metadata": {
    "colab": {
     "base_uri": "https://localhost:8080/",
     "height": 363
    },
    "id": "E55PWBXAwZ5E",
    "outputId": "bfc46d6f-581c-4912-ba4d-d6ed65a37be9"
   },
   "outputs": [],
   "source": []
  },
  {
   "cell_type": "code",
   "execution_count": null,
   "metadata": {
    "id": "ENLRLgvTQsnC"
   },
   "outputs": [],
   "source": []
  },
  {
   "cell_type": "markdown",
   "metadata": {
    "id": "gi7_bPeKxWbC"
   },
   "source": [
    "## <font color='#EE4C2C'>5. Most and least efficient</font>\n",
    "Using the bevs DataFrame, what are the 5 most efficient evs ordered by the most efficient first?\n"
   ]
  },
  {
   "cell_type": "code",
   "execution_count": null,
   "metadata": {
    "colab": {
     "base_uri": "https://localhost:8080/",
     "height": 206
    },
    "id": "_Kifc30dQow1",
    "outputId": "07b2f1c2-8fb7-4ecc-983d-7aac66206a62"
   },
   "outputs": [],
   "source": []
  },
  {
   "cell_type": "markdown",
   "metadata": {
    "id": "w26i2-ijR-tb"
   },
   "source": [
    "What are the five most inefficient evs ordered by least efficient first?"
   ]
  },
  {
   "cell_type": "code",
   "execution_count": null,
   "metadata": {
    "colab": {
     "base_uri": "https://localhost:8080/",
     "height": 206
    },
    "id": "5AuYIhCcSGKJ",
    "outputId": "2bad2aee-6276-4085-cf7d-eb77fab39a22"
   },
   "outputs": [],
   "source": []
  },
  {
   "cell_type": "markdown",
   "metadata": {
    "id": "2V0JTAIVOv-P"
   },
   "source": [
    "## <font color='#EE4C2C'>6. fastest\n",
    "![](https://raw.githubusercontent.com/zacharski/datamining-guide/master/labs/pics/porsche.png)\n",
    "\n",
    "The Porsche 911 997 Turbo S is among the world's fastest production combustion cars with a 0-60 acceleration of 2.9 seconds. (In our dataset `AccelSec` measures the same thing.) Which electric cars have better acceleration than this? "
   ]
  },
  {
   "cell_type": "code",
   "execution_count": null,
   "metadata": {
    "colab": {
     "base_uri": "https://localhost:8080/",
     "height": 206
    },
    "id": "v6fq8xCWPFmM",
    "outputId": "994701a2-8456-405a-b09d-b60bf0f90d11"
   },
   "outputs": [],
   "source": [
    "bevs2 = bevs.loc[bevs['AccelSec'] < 3.0]\n",
    "bevs2"
   ]
  },
  {
   "cell_type": "markdown",
   "metadata": {
    "id": "d6e7oEp3lWOt"
   },
   "source": [
    "## <font color='#EE4C2C'>7. Refrigerators\n",
    "![](https://raw.githubusercontent.com/zacharski/datamining-guide/master/labs/pics/frigTesla.png)\n",
    "\n",
    "Representative Thomas Massie (R-KY) at a hearing questioning Secretarty Pete Buttigieg says the energy (kWh) required to home charge an electric vehicle for a year is 25 times greater than running the average refrigerator. He also said \"It would take four times as much electricity to charge the average household's cars as the average household uses on air conditioning.\" And he said, \"that means the average household would use twice as much electricity charging one of their cars as they would use for all of the air conditioning that they use for the entire year.\" Is this true? \n",
    "\n",
    "Since air conditioner use is quite varied in different regions of the country, perhaps a better measure would be the energy used for air conditioning and heating combined.\n",
    "\n",
    "You are going to need to do some web searching to find the typical energy use of household these household items.\n",
    "\n",
    "What do you think about the usefulness of this comparing household appliances to EVs when making government policy?  \n"
   ]
  },
  {
   "cell_type": "code",
   "execution_count": null,
   "metadata": {},
   "outputs": [],
   "source": []
  },
  {
   "cell_type": "code",
   "execution_count": null,
   "metadata": {},
   "outputs": [],
   "source": []
  },
  {
   "cell_type": "markdown",
   "metadata": {
    "id": "80KuAzYFbarb"
   },
   "source": [
    "## <font color='#EE4C2C'>8. Global Adoption of EVs\n",
    "\n",
    "![](https://raw.githubusercontent.com/zacharski/datamining-guide/master/labs/pics/earth.png)\n",
    "\n",
    "The data file we are using for this is\n",
    "\n",
    "```\n",
    "https://raw.githubusercontent.com/zacharski/datamining-guide/main/data/IEA-EV-data.csv\n",
    "```\n",
    "\n",
    "This data is from the [International Energy Agency](https://www.iea.org/data-and-statistics/data-product/global-ev-outlook-2022).\n",
    "\n",
    "The first step in data mining work is to examine the dataset, which often is not in the best format to directly answer our questions. That is the case with this file. You have the Pandas skills, but you will need to spend a bit of time looking at the datafile and understanding it, so you can write some code to meet the need.\n",
    "\n",
    "So what is our need? We are interested in what percent of new car sales are evs in 2021. We are interested in historical data, not predictions. We would like to see the top five countries with the best adoption percent and the bottom five. Have appropriate labels indicating the list of top 5 and bottom 5. \n",
    "\n"
   ]
  },
  {
   "cell_type": "code",
   "execution_count": null,
   "metadata": {
    "colab": {
     "base_uri": "https://localhost:8080/",
     "height": 206
    },
    "id": "M7amAS8SMv06",
    "outputId": "52421dc0-be91-493e-b432-b630f6bbb5ba"
   },
   "outputs": [],
   "source": []
  },
  {
   "cell_type": "code",
   "execution_count": null,
   "metadata": {
    "colab": {
     "base_uri": "https://localhost:8080/",
     "height": 206
    },
    "id": "kogeUTBHOhwL",
    "outputId": "728c80da-f941-4666-f7af-4c56b3be2825"
   },
   "outputs": [],
   "source": []
  },
  {
   "cell_type": "markdown",
   "metadata": {
    "id": "uZsm6tAwPE-f"
   },
   "source": [
    "## <font color='#EE4C2C'>9. Adoption of EVs Worldwide Part 2\n",
    "In the U.S. in 2021 Electric Vehicles account for 2.5% of total new car sales. Is this higher or lower than the average (mean) 2021 figures in our dataset?\n",
    "\n",
    "Also, how many countries have a higher adoption rate than the U.S?\n",
    "\n",
    "In addition to cells showing your work, please have some readable content."
   ]
  },
  {
   "cell_type": "code",
   "execution_count": null,
   "metadata": {
    "colab": {
     "base_uri": "https://localhost:8080/"
    },
    "id": "9POucaLgQXTv",
    "outputId": "b46a9d06-bd02-4285-98e5-c3a7e036e7d3"
   },
   "outputs": [],
   "source": []
  },
  {
   "cell_type": "code",
   "execution_count": null,
   "metadata": {
    "colab": {
     "base_uri": "https://localhost:8080/"
    },
    "id": "1Ns_haraQtcz",
    "outputId": "fc074c11-3f61-4c7e-e2fa-b399ae4a3053"
   },
   "outputs": [],
   "source": []
  },
  {
   "cell_type": "markdown",
   "metadata": {
    "id": "KFBGkcF-ReSG"
   },
   "source": []
  }
 ],
 "metadata": {
  "anaconda-cloud": {},
  "colab": {
   "collapsed_sections": [],
   "name": "Copy of pandas.ipynb",
   "provenance": []
  },
  "kernelspec": {
   "display_name": "Python 3 (ipykernel)",
   "language": "python",
   "name": "python3"
  },
  "language_info": {
   "codemirror_mode": {
    "name": "ipython",
    "version": 3
   },
   "file_extension": ".py",
   "mimetype": "text/x-python",
   "name": "python",
   "nbconvert_exporter": "python",
   "pygments_lexer": "ipython3",
   "version": "3.9.12"
  }
 },
 "nbformat": 4,
 "nbformat_minor": 1
}
