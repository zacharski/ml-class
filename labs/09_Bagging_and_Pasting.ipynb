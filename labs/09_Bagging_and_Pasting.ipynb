{
 "cells": [
  {
   "cell_type": "markdown",
   "metadata": {
    "id": "cZzv73_UWb6N"
   },
   "source": [
    "# Bagging and Pasting\n",
    "\n",
    "#### Part of the [Inquiryum Machine Learning Fundamentals Course](http://inquiryum.com/machine-learning/)\n",
    "\n",
    "![](https://raw.githubusercontent.com/zacharski/datamining-guide/master/labs/pics/divider.png)\n",
    "\n",
    "![](https://raw.githubusercontent.com/zacharski/ml-class/master/labs/pics/bagging..png)\n",
    "\n",
    "\n",
    "Now we are about to embark on our journey from simple decision trees to algorithms that use decision trees as components. The path goes like this:\n",
    "\n",
    "\n",
    "![](https://raw.githubusercontent.com/zacharski/ml-class/master/labs/pics/dbxg.png)\n",
    "\n",
    "The use of decision trees began in the 1980s and XGBoost was introduced in 2016. Throughout the next few notebooks we will explore this progression of algorithms.  \n",
    "\n",
    "### A collective of classifiers\n",
    "\n",
    "To gain an intuition on how this works, let's look at how our confidence might increase when more people tell us something. Whether it is multiple doctors giving us the same diagnosis or something as simple as ...\n",
    "\n",
    "#### The Mary Spender example\n",
    "\n",
    "Let's say one of your friends mentions over lunch that you would love a particular musical artist on YouTube, say Mary Spender, who you never heard before. \n",
    "\n",
    "![](https://raw.githubusercontent.com/zacharski/ml-class/master/labs/pics/MarySpender2.png)\n",
    "\n",
    "What is the chance that you will actually like Mary Spender's music? Maybe slighly better than chance? Let's say you think there is a 60% chance you will like her. You will file away the recommendation but you are not going to rush home and watch a YouTube video.  Now, in addition to the lunch friend's recommendation,  an old music school friend, now living in Austin messages you saying you should check out Mary Spender and the friend predicts you will absolutely love her. Then a week later, while talking with an old bandmate over the phone, that bandmate, again, recommends Mary Spender. Over the course of less than 10 days, three of your friends independently (because they don't know one another) recommend Mary Spender. Now what is the likelihood of you liking Mary Spender? I am guessing you think that now it is higher than 60%. Maybe now you think it is 90% likely you will like her. It is the aggregate of these 3 people's opinions (3 classifiers) that ups the accuracy of the prediction.\n",
    "\n",
    "![](https://raw.githubusercontent.com/zacharski/ml-class/master/labs/pics/spender22.png)\n",
    "\n",
    "\n",
    "This is similar to how bagging works. One aggregates the votes of a number of classifiers and the vote of that ensemble of classifiers is more accurate than that of a single classifier. Even if the accuracy of each component classifier is low (known as a weak classifier), the ensemble can be a strong (high accuracy) classifier. Of course there are some caveats. \n",
    "\n",
    "Back to the Mary Spender example. Suppose one of your friends went to a Mary Spender concert and then later in the week met with four other of your friends and mentioned that she thought you would love Mary Spender's music. Then, over the course of a week all those friends recommended Mary Spender to you. In this case the recommendations are not that independent---all are based on one person's opinion. Thus, the accuracy would not be as great as in the example above. Similarly, if you made 10 copies of the exact same classifier each trained on exactly the same data, the accuracy of the ensemble of clones would not be any better than the accuracy of a single copy. Moving away from Mary Spender and our musical tastes and back to machine learning, we can try to create independence among the classifier in 2 ways:\n",
    "\n",
    "1. We can change the type of classifier. For example, we can use a k-Nearest Neighbor Classifier with Manhattan distance and a k of 5, a k-Nearest Neighbor Classifier with Euclidean distance and a k of 3, a decision tree classifier using entropy and a max depth of 5, and a decision tree classifier with using gini and no max depth specified. Hopefully, the accuracy of the ensemble of the four classifiers would be greater than that of a single classifier.\n",
    "2. We can have an ensemble of the same classifier (for example, 10 decision tree classifiers with identical hyperparameters) but each classifier can get a different subset of the training data. The classifiers would thus build different models (differents 'rules') and, again, the accuracy of the ensemble should be greather than that of a single classifier. This is the approach we will take.\n",
    "\n",
    "### Bagging and Pasting\n",
    "\n",
    "\n",
    "In this Jupyter notebook, we are going to explore Bagging algorithms. Bagging algorithms come in a variety of 'flavors' including one called 'bagging' and one called 'pasting'.\n",
    "\n",
    "But first an experiment on the what *with replacement* means. As you will see shortly, that term is the crucial difference between bagging and pasting.\n",
    "\n",
    "### A small experiment\n",
    "NOTE: The following code is just used for illustration and is nothing we will be using for machine learning. \n",
    "\n",
    "Consider a list of 5 red balls and 5 blue balls:"
   ]
  },
  {
   "cell_type": "code",
   "execution_count": null,
   "metadata": {
    "id": "xkhfXZatWb6S"
   },
   "outputs": [],
   "source": [
    "bag = ['red', 'red', 'red', 'red', 'red',\n",
    "       'blue', 'blue', 'blue', 'blue', 'blue']"
   ]
  },
  {
   "cell_type": "markdown",
   "metadata": {
    "id": "ugElXnm3Wb6T"
   },
   "source": [
    "Suppose we want to pick 7 random balls from this list. Python offers two functions that will give us random elements from a list.One is called `choices` which selects a sample with replacement, which means that once a ball is selected it is put back in the bag so it has the potential to be selected again. Let's give it a try, and just because things are random let's do this 100 times:"
   ]
  },
  {
   "cell_type": "code",
   "execution_count": null,
   "metadata": {
    "colab": {
     "base_uri": "https://localhost:8080/"
    },
    "id": "u6f_BpdyWb6T",
    "outputId": "b606c6f4-564d-4775-800b-a76dda4b416d"
   },
   "outputs": [],
   "source": [
    "import random\n",
    "total = 0\n",
    "for i in range(100):\n",
    "    set = random.choices(bag, k=7)\n",
    "    blue = set.count('blue')\n",
    "    red = set.count('red')\n",
    "    if blue > 5 or red > 5:\n",
    "        print(\"%i blue and %i red\" % (set.count('blue'), set.count('red')))\n",
    "        total +=1\n",
    "print(\"Balls selected exceeded balls in bag: %i\" % (total))"
   ]
  },
  {
   "cell_type": "markdown",
   "metadata": {
    "id": "IxWdBvoGWb6U"
   },
   "source": [
    "*A reminder: please don't mindlessly execute the code. Look at it and understand it*\n",
    "\n",
    "There are five blue balls. Since we are doing the selection with replacement there are times when we select more than 5 blue balls (or five red ones).  \n",
    "\n",
    "When we print\n",
    "\n",
    "```\n",
    "Balls selected exceeded balls in bag: 13\n",
    "```\n",
    "\n",
    "it shows how many times that was the case.\n",
    "\n",
    "\n",
    "When I ran this, 14 times out of 100 had more of one color ball than there were in the original bag. In fact, several times I ended up with all 7 of the balls blue, even though the original list had only 5 balls:\n",
    "\n",
    "```\n",
    "7 blue and 0 red\n",
    "6 blue and 1 red\n",
    "7 blue and 0 red\n",
    "1 blue and 6 red\n",
    "0 blue and 7 red\n",
    "1 blue and 6 red\n",
    "1 blue and 6 red\n",
    "6 blue and 1 red\n",
    "6 blue and 1 red\n",
    "1 blue and 6 red\n",
    "6 blue and 1 red\n",
    "1 blue and 6 red\n",
    "6 blue and 1 red\n",
    "6 blue and 1 red\n",
    "Balls selected exceeded balls in bag: 14\n",
    "```\n",
    "Again, this is called selecting with replacement (we put what we selected back in the set before selecting again). \n",
    "\n",
    "The other alternative is to select without replacement--once we select something we can't select it again. Python's `sample` does this:\n"
   ]
  },
  {
   "cell_type": "code",
   "execution_count": null,
   "metadata": {
    "id": "wjTz87jbWb6U",
    "outputId": "3d08fb12-8262-4b56-82bd-bb230863a611"
   },
   "outputs": [],
   "source": [
    "import random\n",
    "total = 0\n",
    "for i in range(1000):\n",
    "    set = random.sample(bag, k=7)\n",
    "    blue = set.count('blue')\n",
    "    red = set.count('red')\n",
    "    if blue > 5 or red > 5:\n",
    "        print(\"%i blue and %i red\" % (set.count('blue'), set.count('red')))\n",
    "        total +=1\n",
    "print(\"Balls selected exceeded balls in bag: %i\" % (total))"
   ]
  },
  {
   "cell_type": "markdown",
   "metadata": {
    "id": "N-RBRpyMWb6U"
   },
   "source": [
    "As you can see, the number of a specific colored ball that we select never exceeded the number of balls of that color in the original set.\n",
    "\n",
    "Now back to bagging and pasting. In both approaches we are going to sample the training data. Let's say we want 70% of the training data in our sample. In bagging ([Breiman, 1996](https://link.springer.com/content/pdf/10.1007/BF00058655.pdf)), if we our training dataset is 1000 instances and we want 70% for a particular classifier, the algorithm will randomly select 700 out of the 1,000 **with replacement**. With pasting ([Breiman, 1998](https://link.springer.com/article/10.1023/A:1007563306331)), the selection is done **without replacement**. \n",
    "\n",
    "#### but wait, there is more ...\n",
    "\n",
    "There are two other options. Instead of selecting a random subset of training data instances, we can select a random subset of columns (features). Let's say we have a dataset of 1,000 instances each with 100 features. When we select a random subset of columns, we still have 1,000 instances but now they have just a subset of the features. This is called Random Subspaces ([Ho, 1998](https://pdfs.semanticscholar.org/b41d/0fa5fdaadd47fc882d3db04277d03fb21832.pdf?_ga=2.196949164.1638238666.1596910000-1073138517.1596910000)).\n",
    "\n",
    "Finally, we can train a classifier on both random subsets of instances and random subsets of features. This is known as Random Patches ([Louppe and Geurts, 2012](https://www.researchgate.net/publication/262212941_Ensembles_on_Random_Patches))\n",
    "\n",
    "In summary, the four methods are:\n",
    "\n",
    "* **bagging** - select a subset of data set instances using replacement\n",
    "* **pasting** - select a subset of data set instances without replacement\n",
    "* **Random Subspaces** - select a subset of features\n",
    "* **Random Patches** - select both a subset of features and of instances\n",
    "\n",
    "Let's see how this works!\n",
    "\n",
    "First, let's grab the Wisconsin Cancer data we used before:\n",
    "\n",
    "#### Wisconsin Cancer Dataset\n",
    "![](https://raw.githubusercontent.com/zacharski/ml-class/master/labs/pics/aimam.png)\n",
    "image from Nvidia's [AI Improves Breast Cancer Diagnoses by Factoring Out False Positives](https://blogs.nvidia.com/blog/2018/02/01/making-mammography-more-meaningful/)\n",
    "\n",
    "[A description of the Cancer Database](#Breast-Cancer-Database)\n",
    "\n",
    "In this dataset we are trying to predict the diagnosis---either M (malignant) or B (benign).\n",
    "\n",
    "Let's load the dataset and split it into training and testing sets"
   ]
  },
  {
   "cell_type": "code",
   "execution_count": null,
   "metadata": {
    "colab": {
     "base_uri": "https://localhost:8080/",
     "height": 519
    },
    "id": "WMWJytA6Wb6W",
    "outputId": "555a3cba-d467-48ed-f3b9-01bc528e33b6"
   },
   "outputs": [],
   "source": [
    "import pandas as pd\n",
    "from sklearn.model_selection import train_test_split\n",
    "from sklearn.metrics import accuracy_score\n",
    "\n",
    "colNames = ['id', 'diagnosis', 'radiusAvg', 'textureAvg', 'perimeterAvg', 'areaAvg',\n",
    "            'smoothnessAvg', 'compactnessAvg', 'concavityAvg', 'concavityPointsAvg',\n",
    "            'symmetryAvg', 'FractalDimensionAvg', 'radiusSE', 'textureSE', 'perimeterSE',\n",
    "            'areaSE','smoothnessSE', 'compactnessSE', 'concavitySE', 'concavityPointsSE',\n",
    "            'symmetrySE', 'FractalDimensionSE', 'radiusWorst', 'textureWorst', 'perimeterWorst',\n",
    "            'areaWorst', 'smoothnessWorst', 'compactnessWorst', 'concavityWorst', 'concavityPointsWorst',\n",
    "            'symmetryWorst>', 'FractalDimensionWorst']\n",
    "len(colNames)\n",
    "\n",
    "data = pd.read_csv('https://raw.githubusercontent.com/zacharski/ml-class/master/data/wdbc.data', names=colNames)\n",
    "data.set_index('id', inplace=True)\n",
    "\n",
    "trainingdata, testdata = train_test_split(data, test_size = 0.2)\n",
    "testdata"
   ]
  },
  {
   "cell_type": "markdown",
   "metadata": {
    "id": "TEQMMnQEWb6b"
   },
   "source": [
    "Now divide up the data into the features and labels"
   ]
  },
  {
   "cell_type": "code",
   "execution_count": null,
   "metadata": {
    "id": "BUFu_lp1Wb6b"
   },
   "outputs": [],
   "source": [
    "colNames.remove('id')\n",
    "colNames.remove('diagnosis')\n",
    "trainingDataFeatures = trainingdata[colNames]\n",
    "testDataFeatures = testdata[colNames]\n",
    "trainingDataLabels = trainingdata['diagnosis']\n",
    "testDataLabels = testdata['diagnosis']\n"
   ]
  },
  {
   "cell_type": "markdown",
   "metadata": {
    "id": "9jwhHLytWb6c"
   },
   "source": [
    "Let's get a base accuracy using a single decision tree classifier:"
   ]
  },
  {
   "cell_type": "code",
   "execution_count": null,
   "metadata": {
    "colab": {
     "base_uri": "https://localhost:8080/"
    },
    "id": "0451MpM0Wb6d",
    "outputId": "54502712-b622-4920-d26e-a3220ae12c12"
   },
   "outputs": [],
   "source": [
    "from sklearn import tree\n",
    "clf = tree.DecisionTreeClassifier(criterion='entropy')\n",
    "clf.fit(trainingDataFeatures, trainingDataLabels)\n",
    "predictions = clf.predict(testDataFeatures)\n",
    "\n",
    "accuracy_score(testDataLabels, predictions)"
   ]
  },
  {
   "cell_type": "markdown",
   "metadata": {
    "id": "asjigQIyWb6d"
   },
   "source": [
    "Now we will see if we can improve on that accuracy.\n",
    "\n",
    "### Building a bagging classifier\n",
    "\n",
    "Let's build a collective of 20 decision tree classifiers (`n_estimators`). Let's train each one with 100 random samples from our dataset (`max_samples`) with replacement (`bootstrap=True`). `n_jobs` means how many jobs to run in parallel. `n_jobs=-1` means use all available CPU cores.   \n",
    "\n",
    "Just to reinforce the vocabulary we are learning, `n_estimators`, `max_samples`, `bootstrap` are among the **hyperparameters** of the bagging classifier."
   ]
  },
  {
   "cell_type": "code",
   "execution_count": null,
   "metadata": {
    "colab": {
     "base_uri": "https://localhost:8080/"
    },
    "id": "tL_K6UxpWb6d",
    "outputId": "9875eb5b-6436-4d52-811a-9decb08e2653"
   },
   "outputs": [],
   "source": [
    "from sklearn.ensemble import BaggingClassifier\n",
    "clf = tree.DecisionTreeClassifier(criterion='entropy')\n",
    "\n",
    "bagging_clf = BaggingClassifier(clf, n_estimators=20, max_samples=100, \n",
    "                                bootstrap=True, n_jobs=-1)\n",
    "bagging_clf.fit(trainingDataFeatures, trainingDataLabels)\n",
    "predictions = bagging_clf.predict(testDataFeatures)\n",
    "accuracy_score(testDataLabels, predictions)"
   ]
  },
  {
   "cell_type": "markdown",
   "metadata": {
    "id": "E1XYY6-2Wb6d"
   },
   "source": [
    "When I did this using a single decision tree classifier was 90.3% accurate, while the bagging classifier was 96.5% accurate--halving the error rate! that's pretty good!\n",
    "\n",
    "\n",
    "### Pasting\n",
    "Let's try the same thing with pasting (without replacement):\n",
    "\n",
    "For that we set the hyperparameter: `bootstrap=False`\n"
   ]
  },
  {
   "cell_type": "code",
   "execution_count": null,
   "metadata": {
    "colab": {
     "base_uri": "https://localhost:8080/"
    },
    "id": "YIwO0j1xWb6e",
    "outputId": "051274f2-4b92-4f36-e78a-191c5a90c98e"
   },
   "outputs": [],
   "source": [
    "pasting_clf = BaggingClassifier(clf, n_estimators=20, max_samples=100, \n",
    "                                bootstrap=False, n_jobs=-1)\n",
    "pasting_clf.fit(trainingDataFeatures, trainingDataLabels)\n",
    "predictions = pasting_clf.predict(testDataFeatures)\n",
    "accuracy_score(testDataLabels, predictions)"
   ]
  },
  {
   "cell_type": "markdown",
   "metadata": {
    "id": "EcCz_Gu_Wb6f"
   },
   "source": [
    "### Random Subspaces\n",
    "Again, random subspaces are when we randomly select feature subsets rather than subsets of the dataset instances. This time we will create 50 classifiers for our collective and each will train on a dataset with 7 features (`max_feature=7`)."
   ]
  },
  {
   "cell_type": "code",
   "execution_count": null,
   "metadata": {
    "colab": {
     "base_uri": "https://localhost:8080/"
    },
    "id": "iCf10iICWb6f",
    "outputId": "939ca298-550d-4ea8-f69a-9c20c9dd94b8"
   },
   "outputs": [],
   "source": [
    "subspace_clf = BaggingClassifier(clf, n_estimators=50, max_features=7, \n",
    "                                bootstrap=True, n_jobs=-1)\n",
    "subspace_clf.fit(trainingDataFeatures, trainingDataLabels)\n",
    "predictions = subspace_clf.predict(testDataFeatures)\n",
    "accuracy_score(testDataLabels, predictions)"
   ]
  },
  {
   "cell_type": "markdown",
   "metadata": {
    "id": "_-9qdIG-Wb6f"
   },
   "source": [
    "### Random Patches\n",
    "Finally, let's combine things and try random patches. In this example each classifier will be given a subset of 100 training instances with 7 features each.:"
   ]
  },
  {
   "cell_type": "code",
   "execution_count": null,
   "metadata": {
    "colab": {
     "base_uri": "https://localhost:8080/"
    },
    "id": "JCjPbM08Wb6g",
    "outputId": "c882e0f4-90ed-4abd-ee74-3192c5bd95ac"
   },
   "outputs": [],
   "source": [
    "subspace_clf = BaggingClassifier(clf, n_estimators=100, max_features=7, \n",
    "                                 max_samples=100, bootstrap=False, n_jobs=-1)\n",
    "subspace_clf.fit(trainingDataFeatures, trainingDataLabels)\n",
    "predictions = subspace_clf.predict(testDataFeatures)\n",
    "accuracy_score(testDataLabels, predictions)"
   ]
  },
  {
   "cell_type": "markdown",
   "metadata": {
    "id": "8bD3S8xDWb6g"
   },
   "source": [
    "While it is common to use a decision tree as the base classifier, we can use any classifier. Here we use kNN:"
   ]
  },
  {
   "cell_type": "code",
   "execution_count": null,
   "metadata": {
    "colab": {
     "base_uri": "https://localhost:8080/"
    },
    "id": "kuTZAjpIWb6g",
    "outputId": "3560e63b-29e4-4787-d96b-6cf6aa023f41"
   },
   "outputs": [],
   "source": [
    "from sklearn.neighbors import KNeighborsClassifier\n",
    "kNN = KNeighborsClassifier()\n",
    "bagging_clf = BaggingClassifier(kNN, n_estimators=20, max_samples=100, \n",
    "                                bootstrap=True, n_jobs=-1)\n",
    "bagging_clf.fit(trainingDataFeatures, trainingDataLabels)\n",
    "predictions = bagging_clf.predict(testDataFeatures)\n",
    "accuracy_score(testDataLabels, predictions)"
   ]
  },
  {
   "cell_type": "markdown",
   "metadata": {
    "id": "4_av0jdqWb6g"
   },
   "source": [
    "#### Summary\n",
    "As you can see, any of these simple bagging algorithms typically outperforms using a single classifier. \n",
    "\n",
    "\n",
    "### Review\n",
    "\n",
    "We import the bagging classifier library with:\n",
    "\n",
    "```\n",
    "from sklearn.ensemble import BaggingClassifier\n",
    "```\n",
    "\n",
    "and create an instance of one with:\n",
    "\n",
    "```\n",
    "my_bagging_classifier = BaggingClassifier(baseClassifier, Hyperparameters,n_jobs=-1)\n",
    "```\n",
    "\n",
    "#### Base Classifier\n",
    "while any classifier can be used we typically use a decision tree\n",
    "\n",
    "#### Hyperparameters\n",
    "Here is a list of the hyperparameters (from the [sklearn documentation](https://scikit-learn.org/stable/modules/generated/sklearn.ensemble.BaggingClassifier.html#sklearn.ensemble.BaggingClassifier)):\n",
    "\n",
    "* `n_estimators`: integer, default value = 10, the number of classifiers (estimators) in the ensemble.\n",
    "* `max_samples`: integer or float, default value = 1.0(meaning use all the training instances), the number of samples (instances) to draw from the training dataset to train each base classifier.\n",
    "    * if integer, then draw max_features features.\n",
    "    * if float, then draw max_samples * X.shape[0] samples. For example if `max_samples` is 0.7 and there are 100 instances in the training dataset then draw 70 samples.\n",
    "* `max_features`, integer or float, default value =1.0,  \n",
    "the number of features to draw from the training dataset to train each base estimator \n",
    "    * if integers, then draw max_features features.\n",
    "    * if float, then draw max_features * X.shape[1] features.\n",
    "* `bootstrap` boolean, default value =True, whether samples and features are drawn with replacement. If False, sampling without replacement is performed.\n",
    "\n",
    "For other hyperparamters, consult the documentation.\n",
    "\n",
    "\n",
    "![](https://raw.githubusercontent.com/zacharski/datamining-guide/master/labs/pics/torchdivide.png)\n",
    "\n",
    "\n",
    "# <font color='#EE4C2C'>You Try ...</font> \n",
    "## <font color='#EE4C2C'>Predicting musical genres from audio file attributes</font> \n",
    "\n",
    "\n",
    "When you listen even to a few seconds of a song you can identify it as blues, country, classical, or any other genre. How do you do this? What attributes are you hearing in the audio file that helps you make this classification? And, more to the point, can we train a computer to do it?\n",
    "\n",
    "![](https://raw.githubusercontent.com/zacharski/ml-class/master/labs/pics/bluesClassical.png)\n",
    "\n",
    "We are going to be using  the [GTZAN Dataset for Music Genre Classification](https://www.kaggle.com/andradaolteanu/gtzan-dataset-music-genre-classification). It provides data of 100 songs for each of 10 genres. The data is in several formats:\n",
    "\n",
    "* 30 second audio files (wav)\n",
    "* spectral images of those 30 second clips (see image above)\n",
    "* a csv file containing acoustic attributes of the 30 second clip\n",
    "* a csv file containing acoustic attributes of 3 second clips (the 30 second clips were split into 3 second ones)\n",
    "\n",
    "We are going to use the 3 second csv file which is available at \n",
    "\n",
    "https://raw.githubusercontent.com/zacharski/ml-class/master/data/gtzan.csv\n",
    "\n",
    "Go ahead and load the data into a dataframe (the first row contains feature names)\n"
   ]
  },
  {
   "cell_type": "code",
   "execution_count": null,
   "metadata": {
    "id": "IiF0cRc4Wb6h"
   },
   "outputs": [],
   "source": [
    "music = \"TO DO\""
   ]
  },
  {
   "cell_type": "markdown",
   "metadata": {
    "id": "yAAvRO8JWb6h"
   },
   "source": [
    "Let's examine the values of the label column (the genres):"
   ]
  },
  {
   "cell_type": "code",
   "execution_count": null,
   "metadata": {
    "id": "0m3K-MgiWb6h",
    "outputId": "f4565126-207e-4af7-bda8-61f3b098b355"
   },
   "outputs": [],
   "source": [
    "music.label.unique()"
   ]
  },
  {
   "cell_type": "markdown",
   "metadata": {
    "id": "AlKrZfoVWb6h"
   },
   "source": [
    "Those are the 10 genres we are trying to predict. So if we were just to guess without hearing the clip, we would be accurate 10% of the time. How accurate do you think you would be based on hearing a 3 second clip? I am pretty confident I could correctly label the 30 second clips, but I am much less confident about labeling 3 second ones. Since guessing randomly would give me 10% accuracy, I am estimating maybe 50-60% accuracy. Let's see how a computer does.\n",
    "\n",
    "#### Feature Names\n",
    "So the column we are trying to predict is `label`. Now let's get the names of the feature columns"
   ]
  },
  {
   "cell_type": "code",
   "execution_count": null,
   "metadata": {
    "id": "D1bvL8bCWb6h",
    "outputId": "2b1fa136-b34a-4ff3-ac01-70c822894493",
    "scrolled": true
   },
   "outputs": [],
   "source": [
    "featureNames = list(music.columns)\n",
    "featureNames.remove('filename')\n",
    "featureNames.remove('label')\n",
    "print(featureNames)\n",
    "print(len(featureNames))"
   ]
  },
  {
   "cell_type": "markdown",
   "metadata": {
    "id": "I-B5g-RAWb6h"
   },
   "source": [
    "So we have 58 features. \n",
    "\n",
    "#### Training and test sets\n",
    "Now it is time to construct the training and test sets:"
   ]
  },
  {
   "cell_type": "code",
   "execution_count": null,
   "metadata": {
    "id": "1zqluOErWb6h"
   },
   "outputs": [],
   "source": [
    "## divide the original data 80% going into the music_training dataset \n",
    "## the rest in music_test\n",
    "music_training, music_test = ('TO DO', 'TO DO)\n",
    "                              \n",
    "## now create the DataFrames for just the features (excluding the label column \n",
    "## filename column)                              \n",
    "music_training_features = \"TO DO\"\n",
    "music_test_features = \"TO DO\"\n",
    "                              \n",
    "## now create the labels data structure for both the training and test sets                              \n",
    "music_training_labels = \"TO DO\"\n",
    "music_test_labels = 'TO DO'\n",
    "music_test_labels"
   ]
  },
  {
   "cell_type": "markdown",
   "metadata": {
    "id": "touv2_GAWb6h"
   },
   "source": [
    "### Building a single decision tree classifier\n",
    "Let's build a single decision tree classifier called `clf` using entropy, fit it to the data, make predictions and determine the accuracy:"
   ]
  },
  {
   "cell_type": "code",
   "execution_count": null,
   "metadata": {
    "id": "1V3O5patWb6h",
    "outputId": "b5933cb6-9227-47f3-fdf2-654a8904a136"
   },
   "outputs": [],
   "source": [
    "## Create clf, an instance of the Decision Tree Classifier\n",
    "# TO DO\n",
    "\n",
    "## Fit it to the data\n",
    "# TO DO\n",
    "\n",
    "## get the predictions for the test set\n",
    "# TO DO\n",
    "\n",
    "## get the accuracy score\n",
    "# TO DO"
   ]
  },
  {
   "cell_type": "markdown",
   "metadata": {
    "id": "DEcDPHNUWb6h"
   },
   "source": [
    "When I did this I got 66% accuracy. That doesn't sound great but keep in mind that random guessing would only be 10% accuracy. \n",
    "\n",
    "### Building a Random Patch Classifier\n",
    "\n",
    "Now we are going to build a random patch classifier.\n",
    "\n",
    "* the base classifier will be a decision tree using entropy\n",
    "* the ensemble will contain 20 base classifiers\n",
    "* each classifier will use a random sample of 70% of the training data\n",
    "* each classifier will use a random sample of 70% of the features\n",
    "* the sampling will be done with replacement\n",
    "* it will use all available cpu cores.\n",
    "\n",
    "We are going to\n",
    "\n",
    "1. build the classifier\n",
    "2. train the classifier on the data\n",
    "3. make predictions on the test set\n",
    "4. determine the accuracy"
   ]
  },
  {
   "cell_type": "code",
   "execution_count": null,
   "metadata": {
    "id": "HjTNhPVdWb6h",
    "outputId": "3c54e349-d1f7-49b3-f39e-c63ff3b8ec64"
   },
   "outputs": [],
   "source": [
    "## TO DO"
   ]
  },
  {
   "cell_type": "markdown",
   "metadata": {
    "id": "7W3cc2--Wb6h"
   },
   "source": [
    "What accuracy did you get? Was it better than using a single classifier?\n",
    "Keep your original code above. Make a copy of it below and \n",
    "experiment a bit with the hyperparameters. (try 3 or 4 different things) What is the best accuracy you can get?"
   ]
  },
  {
   "cell_type": "code",
   "execution_count": null,
   "metadata": {
    "id": "p83tIBVhWb6i"
   },
   "outputs": [],
   "source": []
  },
  {
   "cell_type": "code",
   "execution_count": null,
   "metadata": {
    "id": "FkuEN3GUWb6i"
   },
   "outputs": [],
   "source": []
  },
  {
   "cell_type": "markdown",
   "metadata": {
    "id": "MP2mAHhTWb6i"
   },
   "source": [
    "\n",
    "##<font color='#52BE80'>NOTES</font>\n",
    "\n",
    "### Breast Cancer Database\n",
    "\n",
    "[back](#Wisconsin-Cancer-Dataset)\n",
    "\n",
    "  This breast cancer databases was obtained from the University of Wisconsin\n",
    "   Hospitals, Madison from Dr. William H. Wolberg.  If you publish results\n",
    "   when using this database, then please include this information in your\n",
    "   acknowledgements.  Also, please cite one or more of:\n",
    "\n",
    "   1. O. L. Mangasarian and W. H. Wolberg: \"Cancer diagnosis via linear \n",
    "      programming\", SIAM News, Volume 23, Number 5, September 1990, pp 1 & 18.\n",
    "\n",
    "   2. William H. Wolberg and O.L. Mangasarian: \"Multisurface method of \n",
    "      pattern separation for medical diagnosis applied to breast cytology\", \n",
    "      Proceedings of the National Academy of Sciences, U.S.A., Volume 87, \n",
    "      December 1990, pp 9193-9196.\n",
    "\n",
    "   3. O. L. Mangasarian, R. Setiono, and W.H. Wolberg: \"Pattern recognition \n",
    "      via linear programming: Theory and application to medical diagnosis\", \n",
    "      in: \"Large-scale numerical optimization\", Thomas F. Coleman and Yuying\n",
    "      Li, editors, SIAM Publications, Philadelphia 1990, pp 22-30.\n",
    "\n",
    "   4. K. P. Bennett & O. L. Mangasarian: \"Robust linear programming \n",
    "      discrimination of two linearly inseparable sets\", Optimization Methods\n",
    "      and Software 1, 1992, 23-34 (Gordon & Breach Science Publishers).\n",
    "\n",
    "Title: Wisconsin Breast Cancer Database (January 8, 1991)\n",
    "\n",
    "\n",
    "Sources:\n",
    "   -- Dr. WIlliam H. Wolberg (physician)\n",
    "      University of Wisconsin Hospitals\n",
    "      Madison, Wisconsin\n",
    "      USA\n",
    "   -- Donor: Olvi Mangasarian (mangasarian@cs.wisc.edu)\n",
    "      Received by David W. Aha (aha@cs.jhu.edu)\n",
    "   -- Date: 15 July 1992"
   ]
  },
  {
   "cell_type": "code",
   "execution_count": null,
   "metadata": {
    "id": "Z4yT3Ci2Wb6i"
   },
   "outputs": [],
   "source": []
  }
 ],
 "metadata": {
  "colab": {
   "name": "Working version of bagging_n_pasting.ipynb",
   "provenance": []
  },
  "kernelspec": {
   "display_name": "Python 3 (ipykernel)",
   "language": "python",
   "name": "python3"
  },
  "language_info": {
   "codemirror_mode": {
    "name": "ipython",
    "version": 3
   },
   "file_extension": ".py",
   "mimetype": "text/x-python",
   "name": "python",
   "nbconvert_exporter": "python",
   "pygments_lexer": "ipython3",
   "version": "3.9.12"
  }
 },
 "nbformat": 4,
 "nbformat_minor": 1
}
